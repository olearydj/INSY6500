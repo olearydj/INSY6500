{
 "cells": [
  {
   "cell_type": "markdown",
   "metadata": {
    "id": "NNTI80eWNkCE"
   },
   "source": [
    "# Intro to NumPy"
   ]
  },
  {
   "cell_type": "code",
   "execution_count": null,
   "metadata": {},
   "outputs": [],
   "source": [
    "import numpy as np"
   ]
  },
  {
   "cell_type": "markdown",
   "metadata": {},
   "source": [
    "## Advanced Indexing Techniques"
   ]
  },
  {
   "cell_type": "markdown",
   "metadata": {},
   "source": [
    "### Boolean Indexing"
   ]
  },
  {
   "cell_type": "markdown",
   "metadata": {},
   "source": [
    "As we've seen before, array comparisons result in an array of True / False values that indicate the result of that comparison for each element."
   ]
  },
  {
   "cell_type": "code",
   "execution_count": null,
   "metadata": {},
   "outputs": [],
   "source": [
    "# Create an array\n",
    "arr = np.array([10, 15, 20, 25, 30])\n",
    "\n",
    "# Create a boolean mask (True/False array)\n",
    "mask = arr > 20\n",
    "print(\"Mask:\", mask)"
   ]
  },
  {
   "cell_type": "markdown",
   "metadata": {},
   "source": [
    "That mask can be used to select elements of the original array (or any of the same shape)."
   ]
  },
  {
   "cell_type": "code",
   "execution_count": null,
   "metadata": {},
   "outputs": [],
   "source": [
    "# Use boolean indexing to select elements\n",
    "filtered = arr[mask]\n",
    "print(\"Values > 20:\", filtered)"
   ]
  },
  {
   "cell_type": "markdown",
   "metadata": {},
   "source": [
    "Since the original comparison is just an expression, you can use it directly in the index operator:"
   ]
  },
  {
   "cell_type": "code",
   "execution_count": null,
   "metadata": {},
   "outputs": [],
   "source": [
    "# new array with all values of arr less than 20\n",
    "arr[arr < 20]"
   ]
  },
  {
   "cell_type": "markdown",
   "metadata": {},
   "source": [
    "This can be mixed with traditional indexing and slicing, as shown in the examples below."
   ]
  },
  {
   "cell_type": "code",
   "execution_count": null,
   "metadata": {},
   "outputs": [],
   "source": [
    "arr_2d = np.array([[1, 2, 3, 4],\n",
    "                   [5, 6, 7, 8],\n",
    "                   [9, 10, 11, 12]])\n",
    "\n",
    "# select all rows where the first element is greater than 3\n",
    "row_mask = arr_2d[:, 0] > 3\n",
    "\n",
    "print(row_mask)"
   ]
  },
  {
   "cell_type": "code",
   "execution_count": null,
   "metadata": {},
   "outputs": [],
   "source": [
    "# with indexing: column 2 of the previous result\n",
    "idx = arr_2d[row_mask, 2]\n",
    "print(\"Column 2 for selected rows:\\n\", idx)\n",
    "\n",
    "# with slicing: second and third columns of the masked rows\n",
    "slice = arr_2d[row_mask, 1:3]\n",
    "print(\"\\nCols 1:3 for selected rows:\\n\", slice)"
   ]
  },
  {
   "cell_type": "markdown",
   "metadata": {},
   "source": [
    "If we want the opposite, the tilde character (`~`) negates the condition. Here `~row_mask` will give us the rows not previously selected."
   ]
  },
  {
   "cell_type": "code",
   "execution_count": null,
   "metadata": {},
   "outputs": [],
   "source": [
    "~row_mask"
   ]
  },
  {
   "cell_type": "code",
   "execution_count": null,
   "metadata": {},
   "outputs": [],
   "source": [
    "# indexing example, negated\n",
    "idx = arr_2d[~row_mask, 2]\n",
    "print(\"Column 2 for selected row:\\n\", idx)\n",
    "\n",
    "# slicing example, negated\n",
    "slice = arr_2d[~row_mask, 1:3]\n",
    "print(\"\\nCols 1:3 for selected row:\\n\", slice)"
   ]
  },
  {
   "cell_type": "markdown",
   "metadata": {},
   "source": [
    "These operations can be expanded further by combining conditionals using NumPy's Boolean arithmetic operators `&` for and, and `|` for or. For example, the following statement would create a Boolean array containing the value True for every element of `names` that was equal to \"Bob\" or \"Will\". All other elements would be False.\n",
    "\n",
    "`mask = (names == \"Bob\") | (names == \"Will\")`\n",
    "\n",
    "Note that the Pandas keywords `and` and `or` doe not work with NumPy Boolean arrays. You must use the symbols instead."
   ]
  },
  {
   "cell_type": "markdown",
   "metadata": {},
   "source": [
    "### Fancy Indexing"
   ]
  },
  {
   "cell_type": "markdown",
   "metadata": {},
   "source": [
    "NumPy provides one last indexing trick, and it is fancy. Anywhere we've used an integer to index or slice an array, you can use a list of integers instead."
   ]
  },
  {
   "cell_type": "code",
   "execution_count": null,
   "metadata": {},
   "outputs": [],
   "source": [
    "arr = np.zeros((8, 4))\n",
    "\n",
    "for i in range(len(arr)):\n",
    "    arr[i] = i\n",
    "\n",
    "arr"
   ]
  },
  {
   "cell_type": "markdown",
   "metadata": {},
   "source": [
    "To select a subset of rows, use a list (or `ndarray`) of integers specifying the desired order."
   ]
  },
  {
   "cell_type": "code",
   "execution_count": null,
   "metadata": {},
   "outputs": [],
   "source": [
    "arr[[4, 3, 0, 6]]"
   ]
  },
  {
   "cell_type": "markdown",
   "metadata": {},
   "source": [
    "When assigning the result to a new variable, fancy indexing always creates a new array. When used to assign values, the indexed values will be modified. We will explore fancy indexing in more detail as required.\n",
    "\n",
    "Together, these tools provide a powerful way to operate on specific values in an array based on conditions and location in the data. All these benefits convey to Pandas."
   ]
  },
  {
   "cell_type": "markdown",
   "metadata": {},
   "source": [
    "## Universal Functions"
   ]
  },
  {
   "cell_type": "markdown",
   "metadata": {},
   "source": [
    "A universal function, or `ufunc`, is a function that performs element-wise operations on data in an `ndarray`. To get the benefit of vectorized operations (speed, memory efficiency), you must use them instead of the base Python equivalents.\n",
    "\n",
    "We've covered several already, but many others exist. See the [NumPy documentation](https://numpy.org/doc/stable/reference/ufuncs.html) for a complete list and additional details. There, the available `ufuncs` are grouped as follows:\n",
    "\n",
    "- Math Operations\n",
    "- Trigonometric Functions\n",
    "- Bit-twiddling Functions (not class relevant)\n",
    "- Comparison Functions\n",
    "- Floating Functions\n"
   ]
  },
  {
   "cell_type": "markdown",
   "metadata": {},
   "source": [
    "## Broadcasting"
   ]
  },
  {
   "cell_type": "markdown",
   "metadata": {},
   "source": [
    "Broadcasting is the set of rules and methods that facilitate operations between arrays of different shapes. For example, in the case of scalar multiplication, the scalar is *broadcast* into an array of the same size as the matrix before element-by-element multiplication is performed:"
   ]
  },
  {
   "cell_type": "code",
   "execution_count": null,
   "metadata": {},
   "outputs": [],
   "source": [
    "arr = np.arange(1,10).reshape(3, 3)\n",
    "print(arr)\n",
    "\n",
    "result = arr * 4\n",
    "print(result)"
   ]
  },
  {
   "cell_type": "markdown",
   "metadata": {},
   "source": [
    "### vs Base Python"
   ]
  },
  {
   "cell_type": "markdown",
   "metadata": {},
   "source": [
    "This greatly simplifies things compared to base Python, where a nested loop is required:"
   ]
  },
  {
   "cell_type": "code",
   "execution_count": null,
   "metadata": {},
   "outputs": [],
   "source": [
    "# Create the 3x3 matrix in base Python\n",
    "arr = []\n",
    "value = 1\n",
    "for i in range(3):\n",
    "    row = []\n",
    "    for j in range(3):\n",
    "        row.append(value)\n",
    "        value += 1\n",
    "    arr.append(row)\n",
    "\n",
    "print(\"Original array:\")\n",
    "for row in arr:\n",
    "    print(row)\n",
    "\n",
    "# Multiply each element by 4 using explicit loops\n",
    "result = []\n",
    "for i in range(len(arr)):\n",
    "    new_row = []\n",
    "    for j in range(len(arr[i])):\n",
    "        new_row.append(arr[i][j] * 4)\n",
    "    result.append(new_row)\n",
    "\n",
    "print(\"\\nArray * 4:\")\n",
    "for row in result:\n",
    "    print(row)"
   ]
  },
  {
   "cell_type": "markdown",
   "metadata": {},
   "source": [
    "Alternatively, you could modify the array in-place:"
   ]
  },
  {
   "cell_type": "code",
   "execution_count": null,
   "metadata": {},
   "outputs": [],
   "source": [
    "# Multiply in-place\n",
    "for i in range(len(arr)):\n",
    "    for j in range(len(arr[i])):\n",
    "        arr[i][j] = arr[i][j] * 4\n",
    "\n",
    "for row in result:\n",
    "    print(row)"
   ]
  },
  {
   "cell_type": "markdown",
   "metadata": {},
   "source": [
    "Even with base Python in its most expressive, the process is clumsy compared to the NumPy implementation. Here we use list comprehensions to create and multiply the array:"
   ]
  },
  {
   "cell_type": "code",
   "execution_count": null,
   "metadata": {},
   "outputs": [],
   "source": [
    "def scalar_multiply(matrix, scalar):\n",
    "    return [[element * scalar for element in row] for row in matrix]\n",
    "\n",
    "matrix = [[row * 3 + col + 1 for col in range(3)] for row in range(3)]\n",
    "result = scalar_multiply(matrix, 4)\n",
    "\n",
    "print(\"Original array:\")\n",
    "for row in matrix:\n",
    "    print(row)\n",
    "\n",
    "print(\"\\nArray * 4:\")\n",
    "for row in result:\n",
    "    print(row)"
   ]
  },
  {
   "cell_type": "markdown",
   "metadata": {},
   "source": [
    "### Implications"
   ]
  },
  {
   "cell_type": "markdown",
   "metadata": {},
   "source": [
    "NumPy makes many things easier. For example, the following code subtracts the mean value from an array in two lines:"
   ]
  },
  {
   "cell_type": "code",
   "execution_count": null,
   "metadata": {},
   "outputs": [],
   "source": [
    "rng = np.random.default_rng()\n",
    "\n",
    "arr = rng.standard_normal((4, 3))\n",
    "print(\"Array:\")\n",
    "print(arr)\n",
    "\n",
    "arr_mean = arr.mean(0)\n",
    "print(\"\\nArray Mean:\")\n",
    "print(arr_mean)\n",
    "\n",
    "demeaned = arr - arr_mean\n",
    "print(\"\\nDemeaned Array:\")\n",
    "print(demeaned)"
   ]
  },
  {
   "cell_type": "markdown",
   "metadata": {},
   "source": [
    "### The Broadcasting Rule"
   ]
  },
  {
   "attachments": {},
   "cell_type": "markdown",
   "metadata": {},
   "source": [
    "Broadcasting can be tricky and unintuitive. It is not necessary to understand its inner workings for most of this course, but its essence is captured in the rule and two figures below. We will discuss this in greater detail as/if required. Otherwise, I refer you to Appendix A.3 of Python for Data Analysis (McKinney 2022) for a detailed treatment.\n",
    "\n",
    "![The Broadcasting Rule, McKinney Figure A-4](images/03b-broadcasting.png)\n",
    "\n",
    "![Broadcasting in 2D, McKinney Figure A-5](images/03b-broadcasting-2d.png)\n"
   ]
  },
  {
   "cell_type": "markdown",
   "metadata": {},
   "source": [
    "## Techniques"
   ]
  },
  {
   "cell_type": "markdown",
   "metadata": {},
   "source": [
    "### Tricks with Booleans"
   ]
  },
  {
   "cell_type": "markdown",
   "metadata": {},
   "source": [
    "Python treats Boolean values as 1 (True) or 0 (False). This provides a useful way of counting results."
   ]
  },
  {
   "cell_type": "code",
   "execution_count": null,
   "metadata": {},
   "outputs": [],
   "source": [
    "arr = rng.standard_normal(100)\n",
    "\n",
    "# How many values are positive?\n",
    "(arr > 0).sum()"
   ]
  },
  {
   "cell_type": "markdown",
   "metadata": {},
   "source": [
    "The parentheses around `arr > 0` are necessary to ensure that `sum` is called after that expression is evaluated into a Boolean array.\n",
    "\n",
    "The methods `any` and `all` are also very useful. `any` returns True if any value of an array is True, and `all` returns True only if all values are."
   ]
  },
  {
   "cell_type": "code",
   "execution_count": null,
   "metadata": {},
   "outputs": [],
   "source": [
    "bools = np.array([False, False, True, False])\n",
    "\n",
    "bools.any()"
   ]
  },
  {
   "cell_type": "code",
   "execution_count": null,
   "metadata": {},
   "outputs": [],
   "source": [
    "bools.all()"
   ]
  },
  {
   "cell_type": "markdown",
   "metadata": {},
   "source": [
    "`any` and `all` also work with non-Boolean arrays, where nonzero / nonempty elements are treated as True.\n",
    "\n",
    "These tricks will be leveraged routinely throughout the course. "
   ]
  },
  {
   "cell_type": "markdown",
   "metadata": {},
   "source": [
    "### Sorting"
   ]
  },
  {
   "cell_type": "markdown",
   "metadata": {},
   "source": [
    "NumPy's `sort` method works in-place (like Python `list.sort`)."
   ]
  },
  {
   "cell_type": "code",
   "execution_count": null,
   "metadata": {},
   "outputs": [],
   "source": [
    "arr = rng.standard_normal(6)\n",
    "arr"
   ]
  },
  {
   "cell_type": "code",
   "execution_count": null,
   "metadata": {},
   "outputs": [],
   "source": [
    "arr.sort()\n",
    "arr"
   ]
  },
  {
   "cell_type": "markdown",
   "metadata": {},
   "source": [
    "For multi-dimensional arrays, you can specify the axis to sort by."
   ]
  },
  {
   "cell_type": "code",
   "execution_count": null,
   "metadata": {},
   "outputs": [],
   "source": [
    "arr = rng.standard_normal((5, 3))\n",
    "arr"
   ]
  },
  {
   "cell_type": "code",
   "execution_count": null,
   "metadata": {},
   "outputs": [],
   "source": [
    "# sort the values within each column (along the row axis)\n",
    "arr.sort(axis=0)\n",
    "arr"
   ]
  },
  {
   "cell_type": "code",
   "execution_count": null,
   "metadata": {},
   "outputs": [],
   "source": [
    "# sort across each row (along the column axis)\n",
    "arr.sort(axis=1)\n",
    "arr"
   ]
  },
  {
   "cell_type": "markdown",
   "metadata": {},
   "source": [
    "**Note:** the `np.sort()` _function_ returns a sorted copy of the array (like `sorted()` in base Python). Failing to recognize this subtle difference can lead to bugs."
   ]
  },
  {
   "cell_type": "code",
   "execution_count": null,
   "metadata": {},
   "outputs": [],
   "source": [
    "np.sort(arr)"
   ]
  },
  {
   "cell_type": "markdown",
   "metadata": {},
   "source": [
    "## Array-Oriented Programming"
   ]
  },
  {
   "cell_type": "markdown",
   "metadata": {},
   "source": [
    "Cool! How do we use it to solve problems? As the name suggest, NumPy is mostly used for numerical work. Here are some common patterns that come up and how to leverage NumPy's design to do them \"better.\""
   ]
  },
  {
   "cell_type": "markdown",
   "metadata": {},
   "source": [
    "### Numerical Analysis"
   ]
  },
  {
   "cell_type": "markdown",
   "metadata": {},
   "source": [
    "This is NumPy's bread and butter. We've seen several examples already, but here's one more.\n",
    "\n",
    "Suppose you want to analyze production data (for real or simulated data)."
   ]
  },
  {
   "cell_type": "code",
   "execution_count": null,
   "metadata": {},
   "outputs": [],
   "source": [
    "np.random.seed(42)  # For reproducibility\n",
    "\n",
    "# Production data: 1000 products × 4 factories\n",
    "units_produced = np.random.randint(100, 500, size=(1000, 4))\n",
    "unit_cost = np.random.uniform(10, 50, size=(1000, 4))\n",
    "defect_rate = np.random.uniform(0.01, 0.05, size=(1000, 4))\n",
    "\n",
    "# Calculate total costs WITH defect losses - all at once!\n",
    "total_cost = units_produced * unit_cost * (1 + defect_rate)\n",
    "\n",
    "# Analysis in one line each:\n",
    "print(f\"Factory with lowest average cost: Factory {total_cost.mean(axis=0).argmin() + 1}\")\n",
    "print(f\"Most expensive product to produce: Product {total_cost.sum(axis=1).argmax() + 1}\")\n",
    "print(f\"Total production cost across all factories: ${total_cost.sum():,.2f}\")\n",
    "\n",
    "# Find products where Factory 1 beats Factory 2\n",
    "factory1_wins = total_cost[:, 0] < total_cost[:, 1]\n",
    "print(f\"Factory 1 cheaper than Factory 2 for {factory1_wins.sum()} products\")\n",
    "\n",
    "# Instant statistical analysis\n",
    "print(f\"\\nCost per factory (mean ± std):\")\n",
    "for i in range(4):\n",
    "    print(f\"  Factory {i+1}: ${total_cost[:, i].mean():,.0f} ± ${total_cost[:, i].std():,.0f}\")"
   ]
  },
  {
   "cell_type": "markdown",
   "metadata": {},
   "source": [
    "And, of course, your boss wants charts! As a preview of things to come, you can \"easily\" visualize it..."
   ]
  },
  {
   "cell_type": "code",
   "execution_count": null,
   "metadata": {},
   "outputs": [],
   "source": [
    "import matplotlib.pyplot as plt\n",
    "\n",
    "# Create a figure with 2 subplots\n",
    "fig, (ax1, ax2) = plt.subplots(1, 2, figsize=(12, 4))\n",
    "\n",
    "# Left plot: Box plot comparing cost distributions\n",
    "ax1.boxplot([total_cost[:, i] for i in range(4)], \n",
    "            tick_labels=['Factory 1', 'Factory 2', 'Factory 3', 'Factory 4'])\n",
    "ax1.set_ylabel('Production Cost ($)')\n",
    "ax1.set_title('Cost Distribution by Factory')\n",
    "ax1.grid(True, alpha=0.3)\n",
    "\n",
    "# Right plot: Scatter plot - Cost vs Defect Rate for Factory 1\n",
    "ax2.scatter(defect_rate[:, 0] * 100, total_cost[:, 0], \n",
    "           alpha=0.5, s=20, color='steelblue')\n",
    "ax2.set_xlabel('Defect Rate (%)')\n",
    "ax2.set_ylabel('Total Cost ($)')\n",
    "ax2.set_title('Factory 1: Cost vs Quality Trade-off')\n",
    "ax2.grid(True, alpha=0.3)\n",
    "\n",
    "plt.tight_layout()\n",
    "plt.show()"
   ]
  },
  {
   "cell_type": "markdown",
   "metadata": {},
   "source": [
    "### Simulation"
   ]
  },
  {
   "cell_type": "markdown",
   "metadata": {},
   "source": [
    "NumPy suitable for many types of simulation. Wikipedia describes a [Random Walk](https://en.wikipedia.org/wiki/Random_walk) as:\n",
    "\n",
    "> a stochastic process that describes a path that consists of a succession of random steps on some mathematical space\n",
    "\n",
    "Here is an implementation in base Python."
   ]
  },
  {
   "cell_type": "code",
   "execution_count": null,
   "metadata": {},
   "outputs": [],
   "source": [
    "import random\n",
    "position = 0\n",
    "walk = [position]\n",
    "nsteps = 1000\n",
    "for _ in range(nsteps):\n",
    "    step = 1 if random.randint(0, 1) else -1\n",
    "    position += step\n",
    "    walk.append(position)"
   ]
  },
  {
   "cell_type": "markdown",
   "metadata": {},
   "source": [
    "Here is a simple visualization of the first 100 values."
   ]
  },
  {
   "cell_type": "code",
   "execution_count": null,
   "metadata": {},
   "outputs": [],
   "source": [
    "plt.plot(walk[:100])"
   ]
  },
  {
   "cell_type": "markdown",
   "metadata": {},
   "source": [
    "Observe that `walk` is the cumulative sum of random steps and implement in NumPy."
   ]
  },
  {
   "cell_type": "code",
   "execution_count": null,
   "metadata": {},
   "outputs": [],
   "source": [
    "nsteps = 1000\n",
    "rng = np.random.default_rng(seed=12345)  # fresh random generator\n",
    "draws = rng.integers(0, 2, size=nsteps)  # coin flip x 1000\n",
    "steps = np.where(draws == 0, 1, -1)      # steps = 1 if draws = 0 else -1\n",
    "walk = steps.cumsum()                    # cumulative sum of each step"
   ]
  },
  {
   "cell_type": "code",
   "execution_count": null,
   "metadata": {},
   "outputs": [],
   "source": [
    "print(draws[:10])"
   ]
  },
  {
   "cell_type": "code",
   "execution_count": null,
   "metadata": {},
   "outputs": [],
   "source": [
    "print(steps[:10])"
   ]
  },
  {
   "cell_type": "code",
   "execution_count": null,
   "metadata": {},
   "outputs": [],
   "source": [
    "print(walk[:10])"
   ]
  },
  {
   "cell_type": "markdown",
   "metadata": {},
   "source": [
    "Easy to get stats..."
   ]
  },
  {
   "cell_type": "code",
   "execution_count": null,
   "metadata": {},
   "outputs": [],
   "source": [
    "walk.min()"
   ]
  },
  {
   "cell_type": "code",
   "execution_count": null,
   "metadata": {},
   "outputs": [],
   "source": [
    "walk.max()"
   ]
  },
  {
   "cell_type": "markdown",
   "metadata": {},
   "source": [
    "First crossing line is harder - at what *step* does the random walk reach a particular value?"
   ]
  },
  {
   "cell_type": "code",
   "execution_count": null,
   "metadata": {},
   "outputs": [],
   "source": [
    "# argmax gives the firs index of the maximum value (True)\n",
    "(np.abs(walk) >= 10).argmax()"
   ]
  },
  {
   "cell_type": "markdown",
   "metadata": {},
   "source": [
    "But this is only a point sample. What about variance? This simulation can be extended to many random walks by using a 2D array of `draws`."
   ]
  },
  {
   "cell_type": "code",
   "execution_count": null,
   "metadata": {},
   "outputs": [],
   "source": [
    "nwalks = 5000\n",
    "nsteps = 1000\n",
    "draws = rng.integers(0, 2, size=(nwalks, nsteps))\n",
    "steps = np.where(draws > 0, 1, -1)\n",
    "walks = steps.cumsum(axis=1)\n",
    "walks"
   ]
  },
  {
   "cell_type": "markdown",
   "metadata": {},
   "source": [
    "Easy questions..."
   ]
  },
  {
   "cell_type": "code",
   "execution_count": null,
   "metadata": {},
   "outputs": [],
   "source": [
    "# overall max and min, across all walks\n",
    "print(walks.max(), walks.min())"
   ]
  },
  {
   "cell_type": "markdown",
   "metadata": {},
   "source": [
    "Min crossing time is trickier - not all walks may reach the threshold."
   ]
  },
  {
   "cell_type": "code",
   "execution_count": null,
   "metadata": {},
   "outputs": [],
   "source": [
    "# how many hit 30?\n",
    "hits30 = (np.abs(walks) >= 30).any(axis=1)\n",
    "hits30"
   ]
  },
  {
   "cell_type": "code",
   "execution_count": null,
   "metadata": {},
   "outputs": [],
   "source": [
    "# confirm that the first walk doesn't hit +/-30\n",
    "print(walks[0].max(), walks[0].min())"
   ]
  },
  {
   "cell_type": "code",
   "execution_count": null,
   "metadata": {},
   "outputs": [],
   "source": [
    "# number of walks that hit 30 = sum of True\n",
    "hits30.sum()"
   ]
  },
  {
   "cell_type": "markdown",
   "metadata": {},
   "source": [
    "How long does it take those that hit 30 to reach it?"
   ]
  },
  {
   "cell_type": "code",
   "execution_count": null,
   "metadata": {},
   "outputs": [],
   "source": [
    "crossing_times = (np.abs(walks[hits30]) >= 30).argmax(axis=1)\n",
    "crossing_times"
   ]
  },
  {
   "cell_type": "markdown",
   "metadata": {},
   "source": [
    "Average crossing time:"
   ]
  },
  {
   "cell_type": "code",
   "execution_count": null,
   "metadata": {},
   "outputs": [],
   "source": [
    "crossing_times.mean()"
   ]
  },
  {
   "cell_type": "code",
   "execution_count": null,
   "metadata": {},
   "outputs": [],
   "source": []
  }
 ],
 "metadata": {
  "colab": {
   "provenance": []
  },
  "kernelspec": {
   "display_name": "INSY6500-Py4EDA",
   "language": "python",
   "name": "insy6500-py4eda"
  },
  "language_info": {
   "codemirror_mode": {
    "name": "ipython",
    "version": 3
   },
   "file_extension": ".py",
   "mimetype": "text/x-python",
   "name": "python",
   "nbconvert_exporter": "python",
   "pygments_lexer": "ipython3",
   "version": "3.13.5"
  }
 },
 "nbformat": 4,
 "nbformat_minor": 4
}
