{
 "cells": [
  {
   "cell_type": "markdown",
   "id": "0",
   "metadata": {},
   "source": [
    "# NumPy Example"
   ]
  },
  {
   "cell_type": "markdown",
   "id": "1",
   "metadata": {},
   "source": [
    "This code will confirm our environment is working (NumPy loads) and provide a final demonstration of \"array-oriented programming.\""
   ]
  },
  {
   "cell_type": "code",
   "execution_count": null,
   "id": "2",
   "metadata": {},
   "outputs": [],
   "source": [
    "import numpy as np"
   ]
  },
  {
   "cell_type": "code",
   "execution_count": null,
   "id": "3",
   "metadata": {},
   "outputs": [],
   "source": [
    "N = 1_000_000\n",
    "xy = np.random.random((N, 2))           # N random points in unit square\n",
    "pi = 4 * ((xy**2).sum(1) <= 1).mean()   # fraction inside unit circle × 4\n",
    "print(\"π ≈\", pi)"
   ]
  },
  {
   "cell_type": "code",
   "execution_count": null,
   "id": "4",
   "metadata": {},
   "outputs": [],
   "source": [
    "sum / 1000000"
   ]
  },
  {
   "cell_type": "markdown",
   "id": "5",
   "metadata": {},
   "source": [
    "## What is Going on Here?"
   ]
  },
  {
   "cell_type": "markdown",
   "id": "6",
   "metadata": {},
   "source": [
    "### What does the code do?"
   ]
  },
  {
   "cell_type": "markdown",
   "id": "7",
   "metadata": {},
   "source": [
    "Line 3 in the previous cell, expression\n",
    "\n",
    "```python\n",
    "((xy**2).sum(1) <= 1).mean()\n",
    "```\n",
    "\n",
    "1. Computes $x^2 + y^2$ for each point\n",
    "2. `sum(axis=1)` gives us the sum along each row (across columns), aka the sum of squares\n",
    "3. `<=1` gives a Boolean array where each element is true if the sum of squares is `[0, 1]`\n",
    "4. `.mean()` treats `True` as `1` and `False` as `0`\n",
    "\n",
    "The result is the fraction of `xy`s elements within `1` unit from the origin."
   ]
  },
  {
   "cell_type": "markdown",
   "id": "8",
   "metadata": {},
   "source": [
    "### Why is the result equal to $\\pi$?"
   ]
  },
  {
   "cell_type": "markdown",
   "id": "9",
   "metadata": {},
   "source": [
    "The area of a circle is given by $A = \\pi r^2$.\n",
    "\n",
    "If $r = 1$, $A = \\pi$.\n",
    "\n",
    "All points of `xy` are positive - in the \"upper right\" quadrant of a unit circle. That quarter of the unit circle has area $\\pi / 4$.\n",
    "\n",
    "Multiplying it by `4` gives us an estimate of $\\pi$.\n",
    "\n",
    "The accuracy of that estimate improves as `N` increases."
   ]
  },
  {
   "cell_type": "code",
   "execution_count": null,
   "id": "10",
   "metadata": {},
   "outputs": [],
   "source": []
  }
 ],
 "metadata": {
  "kernelspec": {
   "display_name": "Conda Workshop",
   "language": "python",
   "name": "insy6500-conda"
  },
  "language_info": {
   "codemirror_mode": {
    "name": "ipython",
    "version": 3
   },
   "file_extension": ".py",
   "mimetype": "text/x-python",
   "name": "python",
   "nbconvert_exporter": "python",
   "pygments_lexer": "ipython3",
   "version": "3.13.7"
  }
 },
 "nbformat": 4,
 "nbformat_minor": 5
}
