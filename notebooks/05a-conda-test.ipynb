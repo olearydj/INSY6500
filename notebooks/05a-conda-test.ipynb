{
 "cells": [
  {
   "cell_type": "markdown",
   "id": "0",
   "metadata": {},
   "source": [
    "# NumPy Example"
   ]
  },
  {
   "cell_type": "markdown",
   "id": "1",
   "metadata": {},
   "source": [
    "This code will confirm our environment is working (NumPy loads) and provide a final demonstration of \"array-oriented programming.\""
   ]
  },
  {
   "cell_type": "code",
   "execution_count": null,
   "id": "2",
   "metadata": {},
   "outputs": [],
   "source": [
    "import numpy as np"
   ]
  },
  {
   "cell_type": "code",
   "execution_count": null,
   "id": "3",
   "metadata": {},
   "outputs": [],
   "source": [
    "N = 1_000_000\n",
    "xy = np.random.random((N, 2))           # N random points in unit square\n",
    "pi = 4 * ((xy**2).sum(1) <= 1).mean()   # fraction inside unit circle × 4\n",
    "print(\"π ≈\", pi)                        # create the π character on macos with OPT+P, other greek letters similar, e.g. OPT+Z = Ω"
   ]
  },
  {
   "cell_type": "markdown",
   "id": "4",
   "metadata": {},
   "source": [
    "## What is Going on Here?"
   ]
  },
  {
   "cell_type": "markdown",
   "id": "5",
   "metadata": {},
   "source": [
    "### What does the code do?"
   ]
  },
  {
   "cell_type": "markdown",
   "id": "6",
   "metadata": {},
   "source": [
    "Line 3 in the previous cell, expression\n",
    "\n",
    "```python\n",
    "((xy**2).sum(1) <= 1).mean()\n",
    "```\n",
    "\n",
    "1. Computes $x^2 + y^2$ for each point\n",
    "2. `sum(axis=1)` gives us the sum along each row (across columns), aka the sum of squares\n",
    "3. `<=1` gives a Boolean array where each element is true if the sum of squares is `[0, 1]`\n",
    "4. `.mean()` treats `True` as `1` and `False` as `0`\n",
    "\n",
    "The result is the fraction of `xy`s elements within `1` unit from the origin.\n",
    "\n",
    "Whenever you are unsure about how something works, in Jupyter / Colab it is easy to add some temporary code cells to explore interim results. You can just try things! They can easily be deleted after the fact. This is demonstrated below."
   ]
  },
  {
   "cell_type": "code",
   "execution_count": null,
   "id": "7",
   "metadata": {},
   "outputs": [],
   "source": [
    "# what is xy?\n",
    "xy"
   ]
  },
  {
   "cell_type": "code",
   "execution_count": null,
   "id": "8",
   "metadata": {},
   "outputs": [],
   "source": [
    "# ok, xy is a 2d array of x,y pairs\n",
    "# but what is the data?\n",
    "\n",
    "help(np.random.random)"
   ]
  },
  {
   "cell_type": "code",
   "execution_count": null,
   "id": "9",
   "metadata": {},
   "outputs": [],
   "source": [
    "# so each x, y pair is a random draw from uniform [0, 1)\n",
    "# what is (xy ** 2)?\n",
    "xy ** 2"
   ]
  },
  {
   "cell_type": "code",
   "execution_count": null,
   "id": "10",
   "metadata": {},
   "outputs": [],
   "source": [
    "# it seems that each value is just the square of the original?\n",
    "# we can calculate one value and compare it with the result...\n",
    "print(0.15 ** 2)\n",
    "\n",
    "# or we can let NumPy do that work for us...\n",
    "xy[0, 0] ** 2 == (xy ** 2)[0, 0]"
   ]
  },
  {
   "cell_type": "code",
   "execution_count": null,
   "id": "11",
   "metadata": {},
   "outputs": [],
   "source": [
    "# but what is sum doing?\n",
    "(xy**2).sum(1)"
   ]
  },
  {
   "cell_type": "code",
   "execution_count": null,
   "id": "12",
   "metadata": {},
   "outputs": [],
   "source": [
    "# sum on axis 1 -> horizontal (\"cross columns\" or \"of row\")\n",
    "# check with previous values\n",
    "print(0.02253837 + 0.07293795)\n",
    "\n",
    "# or let NumPy do that work for us... (calculate the sum of row 0, all columns)\n",
    "(xy ** 2)[0, :].sum()"
   ]
  },
  {
   "cell_type": "code",
   "execution_count": null,
   "id": "13",
   "metadata": {},
   "outputs": [],
   "source": [
    "# ok, then, what does the comparison do?\n",
    "(xy**2).sum(1) <= 1"
   ]
  },
  {
   "cell_type": "code",
   "execution_count": null,
   "id": "14",
   "metadata": {},
   "outputs": [],
   "source": [
    "# we can see that True appears where each element of the sum (see previous output) meets the condition \n",
    "# what is the mean of that array? -> treat True as 1 and False as 0\n",
    "\n",
    "((xy**2).sum(1) <= 1).astype(int)  # astype converts (aka \"coerces\") one type to another"
   ]
  },
  {
   "cell_type": "code",
   "execution_count": null,
   "id": "15",
   "metadata": {},
   "outputs": [],
   "source": [
    "# so mean is just the total / count of those values\n",
    "total = ((xy**2).sum(1) <= 1).sum()\n",
    "count = ((xy**2).sum(1) <= 1).shape[0]  # shape is the tuple (1000000,), so we extract the first element\n",
    "result = total / count\n",
    "\n",
    "print(f\"{total = }, {count = }, {result = }\")\n",
    "print(\"estimate of π =\", result * 4)"
   ]
  },
  {
   "cell_type": "markdown",
   "id": "16",
   "metadata": {},
   "source": [
    "### Why is the result equal to $\\pi$?"
   ]
  },
  {
   "cell_type": "markdown",
   "id": "17",
   "metadata": {},
   "source": [
    "The area of a circle is given by $A = \\pi r^2$.\n",
    "\n",
    "If $r = 1$, $A = \\pi$.\n",
    "\n",
    "All points of `xy` are positive - in the \"upper right\" quadrant of a unit circle. That quarter of the unit circle has area $\\pi / 4$.\n",
    "\n",
    "Multiplying it by `4` gives us an estimate of $\\pi$.\n",
    "\n",
    "The accuracy of that estimate improves as `N` increases.\n",
    "\n",
    "**This is just a clever math thing and not really important for the class. Focus on what the code does!**"
   ]
  },
  {
   "cell_type": "code",
   "execution_count": null,
   "id": "18",
   "metadata": {},
   "outputs": [],
   "source": []
  }
 ],
 "metadata": {
  "kernelspec": {
   "display_name": "Conda Workshop",
   "language": "python",
   "name": "insy6500-conda"
  },
  "language_info": {
   "codemirror_mode": {
    "name": "ipython",
    "version": 3
   },
   "file_extension": ".py",
   "mimetype": "text/x-python",
   "name": "python",
   "nbconvert_exporter": "python",
   "pygments_lexer": "ipython3",
   "version": "3.13.7"
  }
 },
 "nbformat": 4,
 "nbformat_minor": 5
}
