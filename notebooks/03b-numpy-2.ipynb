{
 "cells": [
  {
   "cell_type": "markdown",
   "metadata": {
    "id": "NNTI80eWNkCE"
   },
   "source": [
    "# Intro to NumPy"
   ]
  },
  {
   "cell_type": "markdown",
   "metadata": {
    "id": "eZerEnW_NFCC"
   },
   "source": [
    "## NumPy Basics, Continued\n",
    "\n",
    "The examples here use trivial \"datasets\" for clarity and simplicity. In real world use, NumPy can easily handle arrays with 1M elements (e.g. 1000 x 1000 matrix). With careful memory management it can handle 100 to 1000x that.\n",
    "\n",
    "Note that these tools are complex and this simplified introduction glosses over some important nuances that we will elaborate on later, as required.\n",
    "\n",
    "Much of the material in this section is adapted from Chapter 4 of *Python for Data Analysis* (McKinney 2022)."
   ]
  },
  {
   "cell_type": "markdown",
   "metadata": {
    "id": "Pt0xseUnNPyn"
   },
   "source": [
    "### Import\n",
    "\n",
    "By convention, NumPy is usually imported as `np` - shorthand notation."
   ]
  },
  {
   "cell_type": "code",
   "execution_count": null,
   "metadata": {
    "id": "pC7YOQ68MYk3"
   },
   "outputs": [],
   "source": [
    "import numpy as np"
   ]
  },
  {
   "cell_type": "markdown",
   "metadata": {},
   "source": [
    "### Arithmetic with Arrays"
   ]
  },
  {
   "cell_type": "markdown",
   "metadata": {},
   "source": [
    "There is no need for loops when operating on an `ndarray`, because arithmetic operations are **vectorized**. This means that they take advantage of modern cpu architecture to execute the same operation on multiple data elements simultaneously, processing entire arrays in compiled C code rather than interpreting Python loops element by element.\n",
    "\n",
    "Any operations between equal-size arrays apply the operation element-wise."
   ]
  },
  {
   "cell_type": "code",
   "execution_count": null,
   "metadata": {},
   "outputs": [],
   "source": [
    "arr = np.array([[1., 2., 3.], [4., 5., 6.]])\n",
    "\n",
    "arr * arr"
   ]
  },
  {
   "cell_type": "code",
   "execution_count": null,
   "metadata": {},
   "outputs": [],
   "source": [
    "arr - arr"
   ]
  },
  {
   "cell_type": "markdown",
   "metadata": {},
   "source": [
    "Operations with scalars propogate the scalar argument to each element in the array. This uses a process called **broadcasting**, which we will explore in more detail later."
   ]
  },
  {
   "cell_type": "code",
   "execution_count": null,
   "metadata": {},
   "outputs": [],
   "source": [
    "1 / arr"
   ]
  },
  {
   "cell_type": "code",
   "execution_count": null,
   "metadata": {},
   "outputs": [],
   "source": [
    "arr ** 2"
   ]
  },
  {
   "cell_type": "markdown",
   "metadata": {},
   "source": [
    "#### Aggregations"
   ]
  },
  {
   "cell_type": "markdown",
   "metadata": {},
   "source": [
    "NumPy provides several aggregation functions, including `np.sum`, `np.mean`, and `np.std`."
   ]
  },
  {
   "cell_type": "code",
   "execution_count": null,
   "metadata": {},
   "outputs": [],
   "source": [
    "# total of all elements\n",
    "np.sum(arr)"
   ]
  },
  {
   "cell_type": "markdown",
   "metadata": {},
   "source": [
    "**Note:** very different from `sum` in base Python!"
   ]
  },
  {
   "cell_type": "code",
   "execution_count": null,
   "metadata": {},
   "outputs": [],
   "source": [
    "sum(arr)"
   ]
  },
  {
   "cell_type": "code",
   "execution_count": null,
   "metadata": {},
   "outputs": [],
   "source": [
    "np.mean(arr)"
   ]
  },
  {
   "cell_type": "code",
   "execution_count": null,
   "metadata": {},
   "outputs": [],
   "source": [
    "np.std(arr)"
   ]
  },
  {
   "cell_type": "markdown",
   "metadata": {},
   "source": [
    "#### Linear Algebra"
   ]
  },
  {
   "cell_type": "markdown",
   "metadata": {},
   "source": [
    "Though we won't use it much in this class, NumPy (and SciPy) provide many tools for working with n-dimensional arrays (matrices). Fundamental to that are dot products and matrix multiplication.\n",
    "\n",
    "The dot product of two 1D arrays (vectors) is calculated with `np.dot(a, b)`."
   ]
  },
  {
   "cell_type": "code",
   "execution_count": null,
   "metadata": {},
   "outputs": [],
   "source": [
    "a = np.array([1, 2, 3])\n",
    "b = np.array([4, 5, 6])\n",
    "\n",
    "dot_product = np.dot(a, b)\n",
    "print(\"a · b =\", dot_product)"
   ]
  },
  {
   "cell_type": "markdown",
   "metadata": {},
   "source": [
    "Remember that the dot product is the sum of all element-wise products: $a \\cdot b = \\sum_{i=1}^{n} a_i b_i$\n",
    "\n",
    "In the example above that is $(1 \\times 4) + (2 \\times 5) + (3 \\times 6) = 4 + 10 + 18 = 32$.\n",
    "\n",
    "Matrix multiplication is supported with the `@` operator."
   ]
  },
  {
   "cell_type": "code",
   "execution_count": null,
   "metadata": {},
   "outputs": [],
   "source": [
    "A = np.array([[1, 2],\n",
    "              [5, 6]])\n",
    "B = np.array([[3, 4],\n",
    "              [7, 8]])\n",
    "\n",
    "C = A @ B\n",
    "print(\"\\nMatrix multiplication:\")\n",
    "print(C)"
   ]
  },
  {
   "cell_type": "markdown",
   "metadata": {},
   "source": [
    "In matrix multiplication, each element of the result is the dot product of the corresponding row and column. Using NumPy's slicing syntax, we could say: $C[i,j] = A[i,:] \\cdot B[:,j]$.\n",
    "\n",
    "As a consequence, for 1D arrays, the dot product is equivalent to matrix multiplication. Therefore, `np.dot(a,b)` and `a @ b` are interchangable for two 1D arrays. Using `np.dot()` can be more explicit about your intent to compute a dot product (returning a scalar), while `@` is the standard for matrix operations."
   ]
  },
  {
   "cell_type": "markdown",
   "metadata": {},
   "source": [
    "#### Array Comparisons"
   ]
  },
  {
   "cell_type": "markdown",
   "metadata": {},
   "source": [
    "Comparisons between arrays of the same size yield Boolean arrays."
   ]
  },
  {
   "cell_type": "code",
   "execution_count": null,
   "metadata": {},
   "outputs": [],
   "source": [
    "arr2 = np.array([[0., 4., 1.], [7., 2., 12.]])\n",
    "\n",
    "arr2 > arr"
   ]
  },
  {
   "cell_type": "markdown",
   "metadata": {},
   "source": [
    "This result is commonly refered to as a *boolean mask*. Objects like this are commonly used to apply other options only to the elements of the array identified by `True`."
   ]
  },
  {
   "cell_type": "markdown",
   "metadata": {},
   "source": [
    "### Create Arrays from Scratch"
   ]
  },
  {
   "cell_type": "markdown",
   "metadata": {},
   "source": [
    "A number of functions exist to create arrays from scratch.\n",
    "\n",
    "`np.zeros` and `np.ones` will create an array of the specified shape filled with zeros, or ones, respectively."
   ]
  },
  {
   "cell_type": "code",
   "execution_count": null,
   "metadata": {},
   "outputs": [],
   "source": [
    "np.zeros(10)"
   ]
  },
  {
   "cell_type": "code",
   "execution_count": null,
   "metadata": {},
   "outputs": [],
   "source": [
    "np.ones((3, 6))  # note inner parens!"
   ]
  },
  {
   "cell_type": "markdown",
   "metadata": {},
   "source": [
    "Note: to create an array with 2 or more dimensions, you must pass a tuple of the desired shape. In this case the tuple **must** be enclosed in parentheses to avoid being interpreted as multipl arguments."
   ]
  },
  {
   "cell_type": "code",
   "execution_count": null,
   "metadata": {},
   "outputs": [],
   "source": [
    "# this will be interpreted as two arguments, not one specifying the shape\n",
    "np.ones(3, 6)"
   ]
  },
  {
   "cell_type": "markdown",
   "metadata": {},
   "source": [
    "Here we see that `6` is being interpreted as the second argument, `dtype`."
   ]
  },
  {
   "cell_type": "code",
   "execution_count": null,
   "metadata": {},
   "outputs": [],
   "source": [
    "help(np.ones)"
   ]
  },
  {
   "cell_type": "markdown",
   "metadata": {},
   "source": [
    "To generate an array filled with a range of values, use `np.arange` with start, stop, and step parameters, which correspond to the same in `range()` from base Python. `arange` is limited to 1D arrays, but you can reshape the result into higher order arrays as we'll see later."
   ]
  },
  {
   "cell_type": "code",
   "execution_count": null,
   "metadata": {},
   "outputs": [],
   "source": [
    "np.arange(10)"
   ]
  },
  {
   "cell_type": "code",
   "execution_count": null,
   "metadata": {},
   "outputs": [],
   "source": [
    "np.arange(0, 1, 0.1)"
   ]
  },
  {
   "cell_type": "markdown",
   "metadata": {},
   "source": [
    "Be careful of floating-point precision issues when using `np.range`. For exact factional steps, `np.linspace` is often a more reliable way to create evenly spaced divisions:"
   ]
  },
  {
   "cell_type": "code",
   "execution_count": null,
   "metadata": {},
   "outputs": [],
   "source": [
    "# 0 to 1 in 11 evenly spaced points\n",
    "np.linspace(0, 1, 11)"
   ]
  },
  {
   "attachments": {},
   "cell_type": "markdown",
   "metadata": {},
   "source": [
    "Several other basic array creation functions exist. The most commonly used are summarized in the following table.\n",
    "\n",
    "![NumPy Array Creation (McKinney Table 4-1)](images/03a-numpy-array-creation.png)"
   ]
  },
  {
   "cell_type": "markdown",
   "metadata": {},
   "source": [
    "### Random Generation and Selection"
   ]
  },
  {
   "cell_type": "markdown",
   "metadata": {},
   "source": [
    "NumPy offers a number of ways to work with \"random\" data. For example, you can easily generate arrays of arbitrary size filled with random samples from various distributions."
   ]
  },
  {
   "cell_type": "code",
   "execution_count": null,
   "metadata": {},
   "outputs": [],
   "source": [
    "# set the seed\n",
    "np.random.seed(42)\n",
    "\n",
    "# Random values\n",
    "print(\"\\nRandom uniform [0,1):\")\n",
    "print(np.random.random((2, 3)))\n",
    "\n",
    "print(\"\\nRandom normal (mean=0, std=1):\")\n",
    "print(np.random.normal(size=(2, 3)))"
   ]
  },
  {
   "cell_type": "markdown",
   "metadata": {},
   "source": [
    "It also provides tools for randomly reordering arrays or selecting elements from them.\n",
    "\n",
    "`np.random.shuffle` reorders elements of the array in-place."
   ]
  },
  {
   "cell_type": "code",
   "execution_count": null,
   "metadata": {},
   "outputs": [],
   "source": [
    "# Choice and shuffle\n",
    "cards = np.array(list('23456789JQKA') + [\"10\"])\n",
    "print(\"\\nCards:\")\n",
    "print(cards)\n",
    "\n",
    "np.random.shuffle(cards)\n",
    "print(\"\\nShuffled:\")\n",
    "print(cards)"
   ]
  },
  {
   "cell_type": "markdown",
   "metadata": {},
   "source": [
    "The functions in this section are all part of NumPy's random module (i.e., `np.random`). As such, they do not work as methods:"
   ]
  },
  {
   "cell_type": "code",
   "execution_count": null,
   "metadata": {},
   "outputs": [],
   "source": [
    "cards.random.shuffle()"
   ]
  },
  {
   "cell_type": "markdown",
   "metadata": {},
   "source": [
    "How is the functions / modules distinction made? Conceptually, random operations are things you do to an array, not an intrinsic property of the array itself."
   ]
  },
  {
   "cell_type": "markdown",
   "metadata": {},
   "source": [
    "`np.random.choice` randomly selects elements from an existing array to create a new object."
   ]
  },
  {
   "cell_type": "code",
   "execution_count": null,
   "metadata": {},
   "outputs": [],
   "source": [
    "# default is size one, e.g., a card:\n",
    "card = np.random.choice(cards)\n",
    "print(\"Card:\", card)\n",
    "\n",
    "# can choose more than one, e.g., a hand:\n",
    "hand = np.random.choice(cards, size=5)\n",
    "print(\"Hand:\", hand)\n",
    "\n",
    "# big hand\n",
    "big_hand = np.random.choice(cards, size=10)\n",
    "print(\"Ten cards:\", big_hand)"
   ]
  },
  {
   "cell_type": "markdown",
   "metadata": {},
   "source": [
    "Note that, by default, choice uses a uniform distribution (all choices equally likely) and samples with replacement (duplicates possible).\n",
    "\n",
    "`choice` has options to control that behavior:"
   ]
  },
  {
   "cell_type": "code",
   "execution_count": null,
   "metadata": {},
   "outputs": [],
   "source": [
    "help(np.random.choice)"
   ]
  },
  {
   "cell_type": "code",
   "execution_count": null,
   "metadata": {},
   "outputs": [],
   "source": [
    "big_hand_wor = np.random.choice(cards, size=10, replace=False)\n",
    "print(\"Without replacement:\", big_hand_wor)"
   ]
  },
  {
   "cell_type": "markdown",
   "metadata": {
    "id": "48k7BMLIMvir"
   },
   "source": [
    "### Array Manipulation Techniques\n",
    "\n",
    "NumPy provides tools for converting between row and column form or changing the dimensions of an array. None of the methods described below adds or removes elements.\n",
    "\n",
    "`np.reshape` changes the dimensions without changing the element order."
   ]
  },
  {
   "cell_type": "code",
   "execution_count": null,
   "metadata": {
    "colab": {
     "base_uri": "https://localhost:8080/"
    },
    "id": "xEIxQyjxMsvS",
    "outputId": "fa230094-2c69-4fe9-b554-ea1347161316"
   },
   "outputs": [],
   "source": [
    "arr = np.array([1, 2, 3, 4, 5, 6, 7, 8, 9, 10, 11, 12])\n",
    "print(arr)\n",
    "print(arr.shape)"
   ]
  },
  {
   "cell_type": "markdown",
   "metadata": {},
   "source": [
    "Here we've created a 1D array of 12 elements, represented by a *single* set of outer square brackets."
   ]
  },
  {
   "cell_type": "code",
   "execution_count": null,
   "metadata": {
    "colab": {
     "base_uri": "https://localhost:8080/"
    },
    "id": "mLtxaU_veqxN",
    "outputId": "17a80171-11e0-4a21-8159-1785ad2ff7e1"
   },
   "outputs": [],
   "source": [
    "print(\"As row:\", arr.reshape(1, 12))        # one row\n",
    "print(\"As column:\\n\", arr.reshape(12, 1))   # one column\n",
    "print(\"As table:\\n\", arr.reshape(3, 4))     # 3 rows, 4 cols\n",
    "print(\"As cube:\\n\", arr.reshape(2, 2, 3))   # 2x2x3 3D array"
   ]
  },
  {
   "cell_type": "markdown",
   "metadata": {},
   "source": [
    "Each of these operations transforms our 1D array into a 2D array. It is important to note that you can create 2D arrays that have only one row or column - see the first two outputs above. All 2D arrays are represented by *two* sets of outer square brackets.\n",
    "\n",
    "`np.transpose` flips an array over its diagonal by swapping all axes. For 1D or 2D, rows become columns, and columns become rows."
   ]
  },
  {
   "cell_type": "code",
   "execution_count": null,
   "metadata": {},
   "outputs": [],
   "source": [
    "arr = np.array([[1, 2, 3],\n",
    "                [4, 5, 6]])\n",
    "\n",
    "transposed = arr.transpose()\n",
    "print(\"\\nTransposed (3,2):\")\n",
    "print(transposed)"
   ]
  },
  {
   "cell_type": "markdown",
   "metadata": {},
   "source": [
    "A likely point of confusion... we're referring to these functions in the form `np.function` (e.g., `np.transpose(arr)`), but using them as object methods (e.g., `arr.transpose`). As shown below, these are functionally equivalent."
   ]
  },
  {
   "cell_type": "code",
   "execution_count": null,
   "metadata": {},
   "outputs": [],
   "source": [
    "np.transpose(arr)"
   ]
  },
  {
   "cell_type": "markdown",
   "metadata": {},
   "source": [
    "Methods are often more concise, especially when chaining operations (e.g. `arr.transpose().sum()`), while functions may be clearer when working with multiple arrays or using NumPy operations in isolation. In practice, method notation is preferred."
   ]
  },
  {
   "cell_type": "markdown",
   "metadata": {},
   "source": [
    "Also note that NumPy offers a shorthand method name for transpose, `.T`:"
   ]
  },
  {
   "cell_type": "code",
   "execution_count": null,
   "metadata": {},
   "outputs": [],
   "source": [
    "arr.T"
   ]
  },
  {
   "cell_type": "markdown",
   "metadata": {},
   "source": [
    "Finally, `np.swapaxes` swaps *two* specific axes. This gives the same result as transpose for 2D arrays, but more control for higher dimensional data. We will explore it more when / if the need arises."
   ]
  },
  {
   "cell_type": "code",
   "execution_count": null,
   "metadata": {},
   "outputs": [],
   "source": [
    "# specify the axix numbers to swap\n",
    "arr.swapaxes(0, 1)"
   ]
  },
  {
   "cell_type": "markdown",
   "metadata": {},
   "source": [
    "`reshape`, `transpose`, and `swapaxes` all usually return a view of the data, but a copy may be returned if the array is large."
   ]
  },
  {
   "cell_type": "code",
   "execution_count": null,
   "metadata": {},
   "outputs": [],
   "source": []
  }
 ],
 "metadata": {
  "colab": {
   "provenance": []
  },
  "kernelspec": {
   "display_name": "INSY6500-Py4EDA",
   "language": "python",
   "name": "insy6500-py4eda"
  },
  "language_info": {
   "codemirror_mode": {
    "name": "ipython",
    "version": 3
   },
   "file_extension": ".py",
   "mimetype": "text/x-python",
   "name": "python",
   "nbconvert_exporter": "python",
   "pygments_lexer": "ipython3",
   "version": "3.13.5"
  }
 },
 "nbformat": 4,
 "nbformat_minor": 4
}
