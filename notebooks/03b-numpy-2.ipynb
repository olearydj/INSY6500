{
 "cells": [
  {
   "cell_type": "markdown",
   "metadata": {
    "id": "NNTI80eWNkCE"
   },
   "source": [
    "# Intro to NumPy"
   ]
  },
  {
   "cell_type": "markdown",
   "metadata": {
    "id": "eZerEnW_NFCC"
   },
   "source": [
    "## NumPy Basics, Continued\n",
    "\n",
    "The examples here use trivial \"datasets\" for clarity and simplicity. In real world use, NumPy can easily handle arrays with 1M elements (e.g. 1000 x 1000 matrix). With careful memory management it can handle 100 to 1000x that.\n",
    "\n",
    "Note that these tools are complex and this simplified introduction glosses over some important nuances that we will elaborate on later, as required.\n",
    "\n",
    "Much of the material in this section is adapted from Chapter 4 of *Python for Data Analysis* (McKinney 2022)."
   ]
  },
  {
   "cell_type": "markdown",
   "metadata": {
    "id": "Pt0xseUnNPyn"
   },
   "source": [
    "### Import\n",
    "\n",
    "By convention, NumPy is usually imported as `np` - shorthand notation."
   ]
  },
  {
   "cell_type": "code",
   "execution_count": null,
   "metadata": {
    "id": "pC7YOQ68MYk3"
   },
   "outputs": [],
   "source": [
    "import numpy as np"
   ]
  },
  {
   "cell_type": "markdown",
   "metadata": {},
   "source": [
    "### Arithmetic with Arrays"
   ]
  },
  {
   "cell_type": "markdown",
   "metadata": {},
   "source": [
    "There is no need for loops when operating on an `ndarray`, because arithmetic operations are **vectorized**. This means that they take advantage of modern cpu architecture to execute the same operation on multiple data elements simultaneously, processing entire arrays in compiled C code rather than interpreting Python loops element by element.\n",
    "\n",
    "Any operations between equal-size arrays apply the operation element-wise."
   ]
  },
  {
   "cell_type": "code",
   "execution_count": null,
   "metadata": {},
   "outputs": [],
   "source": [
    "arr = np.array([[1., 2., 3.], [4., 5., 6.]])\n",
    "\n",
    "arr * arr"
   ]
  },
  {
   "cell_type": "code",
   "execution_count": null,
   "metadata": {},
   "outputs": [],
   "source": [
    "arr - arr"
   ]
  },
  {
   "cell_type": "markdown",
   "metadata": {},
   "source": [
    "Operations with scalars propogate the scalar argument to each element in the array. This uses a process called **broadcasting**, which we will explore in more detail later."
   ]
  },
  {
   "cell_type": "code",
   "execution_count": null,
   "metadata": {},
   "outputs": [],
   "source": [
    "1 / arr"
   ]
  },
  {
   "cell_type": "code",
   "execution_count": null,
   "metadata": {},
   "outputs": [],
   "source": [
    "arr ** 2"
   ]
  },
  {
   "cell_type": "markdown",
   "metadata": {},
   "source": [
    "Matrix multiplication is fundamental to working with this sort of data, and is supported with the `@` operator."
   ]
  },
  {
   "cell_type": "code",
   "execution_count": null,
   "metadata": {},
   "outputs": [],
   "source": [
    "a1 = np.array([1, 2])\n",
    "\n",
    "a1 @ arr"
   ]
  },
  {
   "cell_type": "markdown",
   "metadata": {},
   "source": [
    "Comparisons between arrays of the same size yield Boolean arrays."
   ]
  },
  {
   "cell_type": "code",
   "execution_count": null,
   "metadata": {},
   "outputs": [],
   "source": [
    "arr2 = np.array([[0., 4., 1.], [7., 2., 12.]])\n",
    "\n",
    "arr2 > arr"
   ]
  },
  {
   "cell_type": "markdown",
   "metadata": {},
   "source": [
    "### Create Arrays from Scratch"
   ]
  },
  {
   "cell_type": "markdown",
   "metadata": {},
   "source": [
    "A number of functions exist to create arrays from scratch.\n",
    "\n",
    "`np.zeros` and `np.ones` will create an array of the specified shape filled with zeros, or ones, respectively."
   ]
  },
  {
   "cell_type": "code",
   "execution_count": null,
   "metadata": {},
   "outputs": [],
   "source": [
    "np.zeros(10)"
   ]
  },
  {
   "cell_type": "code",
   "execution_count": null,
   "metadata": {},
   "outputs": [],
   "source": [
    "np.ones((3, 6))  # note inner parens!"
   ]
  },
  {
   "cell_type": "markdown",
   "metadata": {},
   "source": [
    "Note: to create an array with 2 or more dimensions, you must pass a tuple of the desired shape. In this case the tuple **must** be enclosed in parentheses to avoid being interpreted as multipl arguments."
   ]
  },
  {
   "cell_type": "code",
   "execution_count": null,
   "metadata": {},
   "outputs": [],
   "source": [
    "# this will be interpreted as two arguments, not one specifying the shape\n",
    "np.ones(3, 6)"
   ]
  },
  {
   "cell_type": "markdown",
   "metadata": {},
   "source": [
    "Here we see that `6` is being interpreted as the second argument, `dtype`."
   ]
  },
  {
   "cell_type": "code",
   "execution_count": null,
   "metadata": {},
   "outputs": [],
   "source": [
    "help(np.ones)"
   ]
  },
  {
   "cell_type": "markdown",
   "metadata": {},
   "source": [
    "To generate an array filled with a range of values, use `np.arange` with start, stop, and step parameters, which correspond to the same in `range()` from base Python. `arange` is limited to 1D arrays, but you can reshape the result into higher order arrays as we'll see later."
   ]
  },
  {
   "cell_type": "code",
   "execution_count": null,
   "metadata": {},
   "outputs": [],
   "source": [
    "np.arange(10)"
   ]
  },
  {
   "cell_type": "code",
   "execution_count": null,
   "metadata": {},
   "outputs": [],
   "source": [
    "np.arange(0, 1, 0.1)"
   ]
  },
  {
   "cell_type": "markdown",
   "metadata": {},
   "source": [
    "Be careful of floating-point precision issues when using `np.range`. For exact factional steps, `np.linspace` is often a more reliable way to create evenly spaced divisions:"
   ]
  },
  {
   "cell_type": "code",
   "execution_count": null,
   "metadata": {},
   "outputs": [],
   "source": [
    "# 0 to 1 in 11 evenly spaced points\n",
    "np.linspace(0, 1, 11)"
   ]
  },
  {
   "attachments": {},
   "cell_type": "markdown",
   "metadata": {},
   "source": [
    "Several other basic array creation functions exist. The most commonly used are summarized in the following table.\n",
    "\n",
    "![NumPy Array Creation (McKinney Table 4-1)](images/03a-numpy-array-creation.png)"
   ]
  },
  {
   "cell_type": "markdown",
   "metadata": {},
   "source": [
    "Other functions exist to create arrays of procedural data. For example, you can easily generate arrays of arbitrary size filled with random samples from various distributions. We will explore this further later."
   ]
  },
  {
   "cell_type": "code",
   "execution_count": null,
   "metadata": {},
   "outputs": [],
   "source": [
    "# Random values\n",
    "print(\"\\nRandom uniform [0,1):\")\n",
    "print(np.random.random((2, 3)))\n",
    "\n",
    "print(\"\\nRandom normal (mean=0, std=1):\")\n",
    "print(np.random.normal(size=(2, 3)))"
   ]
  },
  {
   "cell_type": "markdown",
   "metadata": {
    "id": "48k7BMLIMvir"
   },
   "source": [
    "### Reshaping\n",
    "\n",
    "We will sometimes need to convert data between row and column form or reshape it in different ways without changing the total number of elements."
   ]
  },
  {
   "cell_type": "code",
   "execution_count": null,
   "metadata": {
    "colab": {
     "base_uri": "https://localhost:8080/"
    },
    "id": "xEIxQyjxMsvS",
    "outputId": "fa230094-2c69-4fe9-b554-ea1347161316"
   },
   "outputs": [],
   "source": [
    "arr = np.array([1, 2, 3, 4, 5, 6, 7, 8, 9, 10, 11, 12])\n",
    "print(arr.shape)"
   ]
  },
  {
   "cell_type": "code",
   "execution_count": null,
   "metadata": {
    "colab": {
     "base_uri": "https://localhost:8080/"
    },
    "id": "mLtxaU_veqxN",
    "outputId": "17a80171-11e0-4a21-8159-1785ad2ff7e1"
   },
   "outputs": [],
   "source": [
    "print(\"As row:\", arr.reshape(1, 12))      # one row\n",
    "print(\"As column:\\n\", arr.reshape(12, 1))   # one column\n",
    "print(\"As table:\\n\", arr.reshape(3, 4))     # 3 rows, 4 cols\n",
    "print(\"As cube:\\n\", arr.reshape(2, 2, 3))   # 2x2x3 3D array"
   ]
  },
  {
   "cell_type": "code",
   "execution_count": null,
   "metadata": {},
   "outputs": [],
   "source": []
  }
 ],
 "metadata": {
  "colab": {
   "provenance": []
  },
  "kernelspec": {
   "display_name": "INSY6500-Py4EDA",
   "language": "python",
   "name": "insy6500-py4eda"
  },
  "language_info": {
   "codemirror_mode": {
    "name": "ipython",
    "version": 3
   },
   "file_extension": ".py",
   "mimetype": "text/x-python",
   "name": "python",
   "nbconvert_exporter": "python",
   "pygments_lexer": "ipython3",
   "version": "3.13.5"
  }
 },
 "nbformat": 4,
 "nbformat_minor": 4
}
