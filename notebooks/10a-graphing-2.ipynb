{
 "cells": [
  {
   "cell_type": "markdown",
   "id": "0",
   "metadata": {},
   "source": [
    "# Graphing, 2/3"
   ]
  },
  {
   "cell_type": "markdown",
   "id": "1",
   "metadata": {},
   "source": [
    "Build a systematic approach to visualization.\n",
    "\n",
    "- Master Pandas' plotting capabilities for quick EDA\n",
    "- Understand the Grammar of Graphics as a thinking framework\n",
    "- Use Seaborn for statistical visualization (1/2)\n",
    "\n",
    "Seaborn comes with a number of datasets:"
   ]
  },
  {
   "cell_type": "code",
   "execution_count": null,
   "id": "2",
   "metadata": {},
   "outputs": [],
   "source": [
    "import pandas as pd\n",
    "import seaborn as sns\n",
    "\n",
    "sns.get_dataset_names()"
   ]
  },
  {
   "cell_type": "markdown",
   "id": "3",
   "metadata": {},
   "source": [
    "Each dataset is described here: [Seaborn Data repo](https://github.com/mwaskom/seaborn-data)\n",
    "\n",
    "For this exercise, we'll use [diamonds](https://ggplot2.tidyverse.org/reference/diamonds.html) - 54,000 observations of diamond characteristics and prices. This is real retail data, so it has all the features you'll see in industry: skewed distributions, ordinal quality grades, multicollinearity between size metrics, and non-linear price relationships. Perfect for learning EDA because it forces us to think critically about what we're visualizing."
   ]
  },
  {
   "cell_type": "code",
   "execution_count": null,
   "id": "4",
   "metadata": {},
   "outputs": [],
   "source": [
    "diamonds = sns.load_dataset('diamonds')"
   ]
  },
  {
   "cell_type": "code",
   "execution_count": null,
   "id": "5",
   "metadata": {},
   "outputs": [],
   "source": [
    "diamonds.head()"
   ]
  },
  {
   "cell_type": "markdown",
   "id": "6",
   "metadata": {},
   "source": [
    "This data is ***tidy***: each row is an observation, columns are variables, and the table is about one \"observational unit\" (thing being measured). More about this important point later."
   ]
  },
  {
   "cell_type": "markdown",
   "id": "7",
   "metadata": {},
   "source": [
    "The columns are:\n",
    "\n",
    "- price: price in US dollars ($326–$18,823)\n",
    "- carat: weight of the diamond (0.2–5.01)\n",
    "- cut: quality of the cut (Fair, Good, Very Good, Premium, Ideal)\n",
    "- color: diamond colour, from D (best) to J (worst)\n",
    "- clarity: a measurement of how clear the diamond is (I1 (worst), SI2, SI1, VS2, VS1, VVS2, VVS1, IF (best))\n",
    "- x: length in mm (0–10.74)\n",
    "- y: width in mm (0–58.9)\n",
    "- z: depth in mm (0–31.8)\n",
    "- depth: total depth percentage = z / mean(x, y) = 2 * z / (x + y) (43–79)\n",
    "- table: width of top of diamond relative to widest point (43–95)\n"
   ]
  },
  {
   "cell_type": "code",
   "execution_count": null,
   "id": "8",
   "metadata": {},
   "outputs": [],
   "source": [
    "diamonds.info()"
   ]
  },
  {
   "cell_type": "code",
   "execution_count": null,
   "id": "9",
   "metadata": {},
   "outputs": [],
   "source": [
    "diamonds.describe()"
   ]
  },
  {
   "cell_type": "markdown",
   "id": "10",
   "metadata": {},
   "source": [
    "You can do more initial numerical exploration, but, as we saw last time, visualization is essential.\n",
    "\n",
    "Pandas is perfect for quick early visualization."
   ]
  },
  {
   "cell_type": "markdown",
   "id": "11",
   "metadata": {},
   "source": [
    "## Plotting in Pandas"
   ]
  },
  {
   "cell_type": "markdown",
   "id": "12",
   "metadata": {},
   "source": [
    "### The `.plot` API"
   ]
  },
  {
   "cell_type": "markdown",
   "id": "13",
   "metadata": {},
   "source": [
    "API = Application Programming Interface, the language that you use to \"talk\" to software.\n",
    "\n",
    "When using libraries, it refers to the function \"signatures\" - the names, parameters, return values, and overall structure of how you interact with the code.\n",
    "\n",
    "For plotting in Pandas, it takes the form of the `plot` method:\n",
    "\n",
    "```python\n",
    "df.plot(kind, x, y, ...)\n",
    "```\n",
    "\n",
    "Here, `df` is the dataframe (or series) of interest, `kind` specifies the plot type, and `x` and `y` specify the columns to use for each axis. For more detail, you can refer to the [Pandas user guide](https://pandas.pydata.org/pandas-docs/stable/user_guide/visualization.html) or [reference](https://pandas.pydata.org/pandas-docs/stable/reference/api/pandas.DataFrame.plot.html). The latter is also available via help:\n",
    "\n",
    "```text\n",
    ">>> help(df.plot)\n",
    "\n",
    "...\n",
    "\n",
    " |  Parameters\n",
    " |  ----------\n",
    " |  data : Series or DataFrame\n",
    " |      The object for which the method is called.\n",
    " |  x : label or position, default None\n",
    " |      Only used if data is a DataFrame.\n",
    " |  y : label, position or list of label, positions, default None\n",
    " |      Allows plotting of one column versus another. Only used if data is a\n",
    " |      DataFrame.\n",
    " |  kind : str\n",
    " |      The kind of plot to produce:\n",
    " |\n",
    " |      - 'line' : line plot (default)\n",
    " |      - 'bar' : vertical bar plot\n",
    " |      - 'barh' : horizontal bar plot\n",
    " |      - 'hist' : histogram\n",
    " |      - 'box' : boxplot\n",
    " |      - 'kde' : Kernel Density Estimation plot\n",
    " |      - 'density' : same as 'kde'\n",
    " |      - 'area' : area plot\n",
    " |      - 'pie' : pie plot\n",
    " |      - 'scatter' : scatter plot (DataFrame only)\n",
    " |      - 'hexbin' : hexbin plot (DataFrame only)\n",
    "\n",
    "...\n",
    "```\n",
    "\n",
    "Beyond those parameters, we will find the following most useful:\n",
    "\n",
    "- `figsize=(width, height)` - plot size\n",
    "- `title='My Title'` - adding titles\n",
    "- `xlabel`, `ylabel` - axis labels\n",
    "- `alpha=0.5` - transparency\n",
    "- `color='steelblue'` - color control\n",
    "- `grid=True` - gridlines\n",
    "\n",
    "Simple example:"
   ]
  },
  {
   "cell_type": "code",
   "execution_count": null,
   "id": "14",
   "metadata": {},
   "outputs": [],
   "source": [
    "diamonds['price'].plot.hist(bins=50, title='Price Distribution')"
   ]
  },
  {
   "cell_type": "markdown",
   "id": "15",
   "metadata": {},
   "source": [
    "For this lecture we will work with a random sample of the dataset.\n",
    "\n",
    "In industry, you'll often work with millions of rows. Sampling for visualization is standard practice - you explore with a sample, then validate with the full dataset."
   ]
  },
  {
   "cell_type": "code",
   "execution_count": null,
   "id": "16",
   "metadata": {},
   "outputs": [],
   "source": [
    "df = diamonds.sample(n=5000, random_state=42)\n",
    "\n",
    "print(f\"Full dataset: {len(diamonds):,} rows\")\n",
    "print(f\"Sample for visualization: {len(df):,} rows\")"
   ]
  },
  {
   "cell_type": "markdown",
   "id": "17",
   "metadata": {},
   "source": [
    "Note that it is common to name your working dataset `df`, also to preserve the original data."
   ]
  },
  {
   "cell_type": "markdown",
   "id": "18",
   "metadata": {},
   "source": [
    "### Pandas Plotting Workflow\n",
    "\n",
    "Use Pandas when you just need to see something quickly.\n",
    "\n",
    "Filter → Group → Aggregate → Plot\n",
    "\n",
    "This workflow is good enough for the majority of EDA."
   ]
  },
  {
   "cell_type": "markdown",
   "id": "19",
   "metadata": {},
   "source": [
    "#### Example 1: Distribution of a Continuous Variable"
   ]
  },
  {
   "cell_type": "markdown",
   "id": "20",
   "metadata": {},
   "source": [
    "Question: What is the distribution of diamond prices?\n",
    "\n",
    "Variable type: `price` is continuous\n",
    "\n",
    "Appropriate plot: Histogram (shows frequency distribution)"
   ]
  },
  {
   "cell_type": "code",
   "execution_count": null,
   "id": "21",
   "metadata": {},
   "outputs": [],
   "source": [
    "# Simple histogram\n",
    "df['price'].plot.hist(bins=50, \n",
    "                      figsize=(8, 4.5),\n",
    "                      title='Distribution of Diamond Prices',\n",
    "                      xlabel='Price ($)',\n",
    "                      ylabel='Frequency',\n",
    "                      color='steelblue',\n",
    "                      alpha=0.7,\n",
    "                      grid=True)"
   ]
  },
  {
   "cell_type": "markdown",
   "id": "22",
   "metadata": {},
   "source": [
    "Observation: Heavily right-skewed - most diamonds are relatively inexpensive, with a long tail of high-priced diamonds."
   ]
  },
  {
   "cell_type": "markdown",
   "id": "23",
   "metadata": {},
   "source": [
    "#### Example 2: Relationship Between Two Continuous Variables"
   ]
  },
  {
   "cell_type": "markdown",
   "id": "24",
   "metadata": {},
   "source": [
    "Question: How does carat weight relate to price?\n",
    "\n",
    "Variable types: `carat` and `price` are both continuous\n",
    "\n",
    "Appropriate plot: Scatter plot (shows relationships)"
   ]
  },
  {
   "cell_type": "code",
   "execution_count": null,
   "id": "25",
   "metadata": {},
   "outputs": [],
   "source": [
    "# Scatter plot\n",
    "diamonds.plot.scatter(x='carat', y='price',\n",
    "                figsize=(8, 5),\n",
    "                title='Price vs Carat Weight',\n",
    "                xlabel='Carat',\n",
    "                ylabel='Price ($)',\n",
    "                alpha=0.1,\n",
    "                color='darkblue',\n",
    "                grid=True)\n"
   ]
  },
  {
   "cell_type": "markdown",
   "id": "26",
   "metadata": {},
   "source": [
    "Observation: Clear positive relationship, but non-linear - price increases exponentially with carat.\n",
    "\n",
    "*Why alpha? What happens with the full dataset?*"
   ]
  },
  {
   "cell_type": "markdown",
   "id": "27",
   "metadata": {},
   "source": [
    "#### Example 3: Comparing Continuous Variable Across Ordinal Categories"
   ]
  },
  {
   "cell_type": "markdown",
   "id": "28",
   "metadata": {},
   "source": [
    "Question: How does price vary by cut quality?\n",
    "\n",
    "Variable types: `cut` is ordinal (Fair < Good < Very Good < Premium < Ideal), `price` is continuous\n",
    "\n",
    "Appropriate plot: Box plot (shows distribution by group)\n",
    "\n",
    "Workflow: Filter (if needed) → Group by `cut` → Plot distribution\n",
    "\n",
    "> Note: boxplots are a bit clunky in Pandas. We'll see a cleaner approach with Seaborn."
   ]
  },
  {
   "cell_type": "code",
   "execution_count": null,
   "id": "29",
   "metadata": {},
   "outputs": [],
   "source": [
    "df.plot.box(column='price', by='cut',\n",
    "            figsize=(10, 6),\n",
    "            title='Price Distribution by Cut Quality',\n",
    "            ylabel='Price ($)',\n",
    "            xlabel='Cut Quality (random order?)',\n",
    "            grid=True)"
   ]
  },
  {
   "cell_type": "markdown",
   "id": "30",
   "metadata": {},
   "source": [
    "Observation: Surprisingly, \"Ideal\" cut diamonds don't have the highest median price. This is likely because cut quality is independent of size (carat), and size is a stronger price driver."
   ]
  },
  {
   "cell_type": "markdown",
   "id": "31",
   "metadata": {},
   "source": [
    "#### Example 4: Aggregation and Categorical Comparison"
   ]
  },
  {
   "cell_type": "markdown",
   "id": "32",
   "metadata": {},
   "source": [
    "Question: What is the average price for each cut quality?\n",
    "\n",
    "Variable types: `cut` is ordinal, `price` is continuous\n",
    "\n",
    "Appropriate plot: Bar plot (shows comparisons of aggregated values)\n",
    "\n",
    "Workflow: Group → Aggregate (mean) → Plot\n",
    "\n",
    "> Note: `observed='false'` tells `groupby` to use all defined categories, even if some are empty. This was the default behavior but is being deprecated, so I've set it explicitly here (and elsewhere in the notebook)."
   ]
  },
  {
   "cell_type": "code",
   "execution_count": null,
   "id": "33",
   "metadata": {},
   "outputs": [],
   "source": [
    "df.groupby('cut', observed='false')['price'].mean().plot.bar(\n",
    "    figsize=(8, 5),\n",
    "    title='Average Price by Cut Quality',\n",
    "    xlabel='Cut Quality (decreasing)',\n",
    "    ylabel='Average Price ($)',\n",
    "    color='steelblue',\n",
    "    alpha=0.5,\n",
    "    grid=True)"
   ]
  },
  {
   "cell_type": "markdown",
   "id": "34",
   "metadata": {},
   "source": [
    "Observation: Average prices are relatively similar across cuts, with Premium and Ideal slightly higher. The ordering isn't as dramatic as you might expect.\n",
    "\n",
    "*How is the ordering of the groups done? How does it influence your interpretation of the chart?*"
   ]
  },
  {
   "cell_type": "markdown",
   "id": "35",
   "metadata": {},
   "source": [
    "#### Example 5: Filtering and Comparing"
   ]
  },
  {
   "cell_type": "markdown",
   "id": "36",
   "metadata": {},
   "source": [
    "Question: For diamonds over 2 carats, how do prices compare across cut qualities?\n",
    "\n",
    "Variable types: `cut` is ordinal, `price` is continuous\n",
    "\n",
    "Workflow: Filter → Group → Aggregate → Plot"
   ]
  },
  {
   "cell_type": "code",
   "execution_count": null,
   "id": "37",
   "metadata": {},
   "outputs": [],
   "source": [
    "# Filter → Group → Aggregate → Plot\n",
    "large_diamonds = df[df['carat'] > 2]\n",
    "\n",
    "large_diamonds.groupby('cut', observed='false')['price'].mean().plot.bar(\n",
    "    figsize=(8, 5),\n",
    "    title='Average Price by Cut (Diamonds > 2 Carats)',\n",
    "    xlabel='Cut Quality',\n",
    "    ylabel='Average Price ($)',\n",
    "    color='darkgreen',\n",
    "    alpha=0.8,\n",
    "    grid=True)\n",
    "\n",
    "# Show sample sizes\n",
    "print(\"\\nSample sizes:\")\n",
    "print(large_diamonds['cut'].value_counts().sort_index())\n"
   ]
  },
  {
   "cell_type": "markdown",
   "id": "38",
   "metadata": {},
   "source": [
    "Observation: For large diamonds, the pattern changes - Premium and Ideal cuts command higher average prices. Sample sizes vary significantly by cut."
   ]
  },
  {
   "cell_type": "markdown",
   "id": "39",
   "metadata": {},
   "source": [
    "#### Example 6: Discrete Variable - Frequency Count"
   ]
  },
  {
   "cell_type": "markdown",
   "id": "40",
   "metadata": {},
   "source": [
    "Question: How many diamonds are there of each color grade?\n",
    "\n",
    "Variable type: `color` is ordinal/categorical (D = best, J = worst)\n",
    "\n",
    "Appropriate plot: Bar plot (shows counts)\n",
    "\n",
    "Workflow: Group → Count → Plot"
   ]
  },
  {
   "cell_type": "code",
   "execution_count": null,
   "id": "41",
   "metadata": {},
   "outputs": [],
   "source": [
    "df['color'].value_counts().sort_index()"
   ]
  },
  {
   "cell_type": "code",
   "execution_count": null,
   "id": "42",
   "metadata": {},
   "outputs": [],
   "source": [
    "# Value counts automatically aggregates\n",
    "df['color'].value_counts().sort_index().plot.bar(\n",
    "    figsize=(8, 5),\n",
    "    title='Number of Diamonds by Color Grade',\n",
    "    xlabel='Color Grade (D=Best, J=Worst)',\n",
    "    ylabel='Count',\n",
    "    color='coral',\n",
    "    alpha=0.8,\n",
    "    grid=True)"
   ]
  },
  {
   "cell_type": "markdown",
   "id": "43",
   "metadata": {},
   "source": [
    "Observation: Most diamonds in the dataset are in the middle color grades (G, H, I). Best (D-F) and worst (J) grades are less common."
   ]
  },
  {
   "cell_type": "markdown",
   "id": "44",
   "metadata": {},
   "source": [
    "The workflow is consistent:\n",
    "\n",
    "1. Start with a question\n",
    "2. Identify variable types\n",
    "3. Choose appropriate plot\n",
    "4. Filter/group/aggregate as needed\n",
    "5. `.plot`"
   ]
  },
  {
   "cell_type": "markdown",
   "id": "45",
   "metadata": {},
   "source": [
    "### When to Use Pandas Plotting\n",
    "\n",
    "**Use Pandas when:**\n",
    "\n",
    "- ✓ Quick exploratory look\n",
    "- ✓ Simple single or two-variable plots\n",
    "- ✓ You just need to see something fast\n",
    "- ✗ Need statistical layers (regression, confidence intervals)\n",
    "- ✗ Need complex multi-plot layouts\n",
    "- ✗ Creating publication-quality figures\n",
    "\n",
    "Pandas is perfect for initial EDA. After that, you'll need more powerful tools - which we'll explore next with the Grammar of Graphics and Seaborn."
   ]
  },
  {
   "cell_type": "markdown",
   "id": "46",
   "metadata": {},
   "source": [
    "## The Grammar of Graphics (Wickham, 2010 and 2014)"
   ]
  },
  {
   "cell_type": "markdown",
   "id": "47",
   "metadata": {},
   "source": [
    "### Tidy Data"
   ]
  },
  {
   "cell_type": "markdown",
   "id": "48",
   "metadata": {},
   "source": [
    "As we mentioned before, and alluded to repeatedly in this class, data should be *tidy*:\n",
    "\n",
    "- every table is one \"observational unit\" (thing)\n",
    "- every row is an observation\n",
    "- every column is a variable\n",
    "\n",
    "This enables the column-based analysis tools that we rely on. This idea was formalized by Hadley Wickham, the creator of `ggplot` and much of the `tidyverse` ecosystem that has been instrumental in making R a popular language for data analysis and visualization.\n",
    "\n",
    "The idea of tidy data is sensible but most data is not tidy. Common examples of non-tidy data include:\n",
    "\n",
    "1. Column headers are values, not variable names\n",
    "\n",
    "Non-tidy:\n",
    "\n",
    "```text\n",
    "| Country | 2020 | 2021 | 2022 |\n",
    "|---------|------|------|------|\n",
    "| USA     | 100  | 110  | 120  |\n",
    "| Canada  | 80   | 85   | 90   |\n",
    "...\n",
    "```\n",
    "\n",
    "Tidy:\n",
    "\n",
    "```text\n",
    "| Country | Year | Value |\n",
    "|---------|------|-------|\n",
    "| USA     | 2020 | 100   |\n",
    "| USA     | 2021 | 110   |\n",
    "| USA     | 2022 | 120   |\n",
    "| Canada  | 2020 | 85    |\n",
    "...\n",
    "```\n",
    "\n",
    "Notice how tidy data tends to be *long*, not *wide*.\n",
    "\n",
    "2. Multiple variables in one column\n",
    "\n",
    "Non-tidy:\n",
    "\n",
    "```text\n",
    "| ID | Gender_Age |\n",
    "|----|------------|\n",
    "| 1  | M_25       |\n",
    "| 2  | F_30       |\n",
    "| 3  | M_42       |\n",
    "...\n",
    "```\n",
    "\n",
    "Tidy:\n",
    "\n",
    "```text\n",
    "| ID | Gender | Age |\n",
    "|----|--------|-----|\n",
    "| 1  | M      | 25  |\n",
    "| 2  | F      | 30  |\n",
    "| 3  | M      | 42  |\n",
    "...\n",
    "```\n",
    "\n",
    "Each variable should be its own column. In this case the tidy data is wider.\n",
    "\n",
    "3. Variables in both rows and columns (pivot table format)\n",
    "\n",
    "Non-tidy:\n",
    "\n",
    "```text\n",
    "| Date       | Temp_Morning | Temp_Evening | Humidity_Morning | Humidity_Evening |\n",
    "|------------|--------------|--------------|------------------|------------------|\n",
    "| 2024-01-01 | 45           | 52           | 65               | 70               |\n",
    "| 2024-01-02 | 43           | 50           | 68               | 72               |\n",
    "...\n",
    "```\n",
    "\n",
    "Tidy:\n",
    "\n",
    "```text\n",
    "| Date       | Time    | Temp | Humidity |\n",
    "|------------|---------|------|----------|\n",
    "| 2024-01-01 | Morning | 45   | 65       |\n",
    "| 2024-01-01 | Evening | 52   | 70       |\n",
    "| 2024-01-02 | Morning | 43   | 68       |\n",
    "| 2024-01-02 | Evening | 50   | 72       |\n",
    "...\n",
    "```\n",
    "\n",
    "Variable names should not encode values.\n",
    "\n",
    "4. Multiple observation types in one column\n",
    "\n",
    "Non-tidy:\n",
    "\n",
    "```text\n",
    "| ID | Measurement  |\n",
    "|----|--------------|\n",
    "| 1  | Height: 5.8  |\n",
    "| 1  | Weight: 180  |\n",
    "| 1  | Age: 30      |\n",
    "| 2  | Height: 6.1  |\n",
    "...\n",
    "```\n",
    "\n",
    "Tidy:\n",
    "\n",
    "```text\n",
    "| ID | Height | Weight | Age |\n",
    "|----|--------|--------|-----|\n",
    "| 1  | 5.8    | 180    | 30  |\n",
    "| 2  | 6.1    | 195    | 28  |\n",
    "...\n",
    "```\n",
    "\n",
    "Each measurement type should be its own variable.\n",
    "\n",
    "5. Repeated measures as columns (wide format)\n",
    "\n",
    "Non-tidy:\n",
    "\n",
    "```text\n",
    "| Subject | Trial1 | Trial2 | Trial3 |\n",
    "|---------|--------|--------|--------|\n",
    "| A       | 12.3   | 11.8   | 12.1   |\n",
    "| B       | 15.2   | 14.9   | 15.0   |\n",
    "...\n",
    "```\n",
    "\n",
    "Tidy:\n",
    "\n",
    "```text\n",
    "| Subject | Trial | Value |\n",
    "|---------|-------|-------|\n",
    "| A       | 1     | 12.3  |\n",
    "| A       | 2     | 11.8  |\n",
    "| A       | 3     | 12.1  |\n",
    "| B       | 1     | 15.2  |\n",
    "| B       | 2     | 14.9  |\n",
    "| B       | 3     | 15.0  |\n",
    "...\n",
    "```\n",
    "\n",
    "Again, tidy data tends to be *long* rather than *wide*.\n",
    "```"
   ]
  },
  {
   "cell_type": "markdown",
   "id": "49",
   "metadata": {},
   "source": [
    "Notice how all our Pandas plotting examples worked smoothly because the diamonds dataset is tidy:\n",
    "\n",
    "- `df['price'].plot.hist()` - works because price is one column\n",
    "- `df.plot.scatter(x='carat', y='price')` - works because x and y are separate columns\n",
    "- `df.groupby('cut')['price'].mean()` - works because cut is one column, price is another\n",
    "\n",
    "If the data weren't tidy, we'd have to reshape it first. Tidy data makes visualization (and analysis) straightforward."
   ]
  },
  {
   "cell_type": "markdown",
   "id": "50",
   "metadata": {},
   "source": [
    "### The Core Philosophy"
   ]
  },
  {
   "cell_type": "markdown",
   "id": "51",
   "metadata": {},
   "source": [
    "A visualization is not a \"chart type\" - it's a mapping from data to visual properties, composed of layers.\n",
    "\n",
    "Instead of asking *Should I make a scatter plot or bar chart?*, ask:\n",
    "\n",
    "1. What *variables* am I exploring?\n",
    "2. How should they map to *visual channels*?\n",
    "3. What *geometric representation* clarifies the pattern?"
   ]
  },
  {
   "cell_type": "markdown",
   "id": "52",
   "metadata": {},
   "source": [
    "### The Five Key Components"
   ]
  },
  {
   "cell_type": "markdown",
   "id": "53",
   "metadata": {},
   "source": [
    "#### 1. Data"
   ]
  },
  {
   "cell_type": "markdown",
   "id": "54",
   "metadata": {},
   "source": [
    "The tidy dataset you're working with\n",
    "\n",
    "- Each row = observation\n",
    "- Each column = variable"
   ]
  },
  {
   "cell_type": "markdown",
   "id": "55",
   "metadata": {},
   "source": [
    "#### 2. Aesthetic Mappings"
   ]
  },
  {
   "cell_type": "markdown",
   "id": "56",
   "metadata": {},
   "source": [
    "How data variables map to visual properties:\n",
    "\n",
    "|Visual 'Dimension'|Example Mapping|\n",
    "|---|---|\n",
    "|Position (x, y)|time → x, sales → y|\n",
    "|Color|category → hue, value → saturation|\n",
    "|Size|population → point size|\n",
    "|Shape|species → marker shape|\n",
    "|Transparency|confidence → alpha|\n",
    "\n",
    "Key insight: The same data can be mapped different ways to reveal different patterns. The most important concept?"
   ]
  },
  {
   "cell_type": "markdown",
   "id": "57",
   "metadata": {},
   "source": [
    "#### 3. Geometric Objects"
   ]
  },
  {
   "cell_type": "markdown",
   "id": "58",
   "metadata": {},
   "source": [
    "The visual marks representing data:\n",
    "\n",
    "- Points (scatter)\n",
    "- Lines (trends)\n",
    "- Bars (comparisons)\n",
    "- Areas (distributions)\n",
    "\n",
    "You can layer multiple geometries on the same aesthetic mapping (e.g., points + smoothed line)."
   ]
  },
  {
   "cell_type": "markdown",
   "id": "59",
   "metadata": {},
   "source": [
    "#### 4. Statistical Transformations\n",
    "\n",
    "Data transformations before plotting:\n",
    "\n",
    "- Raw values (identity)\n",
    "- Counts/binning (histograms)\n",
    "- Aggregation (means, medians)\n",
    "- Smoothing (regression lines, loess)"
   ]
  },
  {
   "cell_type": "markdown",
   "id": "60",
   "metadata": {},
   "source": [
    "#### 5. Facets\n",
    "\n",
    "Breaking into small multiples by categorical variables\n",
    "\n",
    "- \"Show me this pattern separately for each category\"\n",
    "- Anscombe's Quartet is faceted by `dataset`"
   ]
  },
  {
   "cell_type": "markdown",
   "id": "61",
   "metadata": {},
   "source": [
    "### Additional Concepts\n",
    "\n",
    "Scales: Control how data maps to aesthetics\n",
    "\n",
    "- Linear vs log scales\n",
    "- Color palettes\n",
    "- Axis limits and breaks\n",
    "\n",
    "Coordinate Systems:\n",
    "\n",
    "- Cartesian (standard)\n",
    "- Polar (circular)\n",
    "- Map projections"
   ]
  },
  {
   "cell_type": "markdown",
   "id": "62",
   "metadata": {},
   "source": [
    "### Systematic Application"
   ]
  },
  {
   "cell_type": "markdown",
   "id": "63",
   "metadata": {},
   "source": [
    "Traditional Approach:\n",
    "\n",
    "\"I need to show sales by region over time... maybe a grouped bar chart? Or multiple line plots? Let me Google 'matplotlib grouped bar chart'...\""
   ]
  },
  {
   "cell_type": "markdown",
   "id": "64",
   "metadata": {},
   "source": [
    "Grammar Approach:\n",
    "\n",
    "1. Variables: time (continuous), sales (continuous), region (categorical)\n",
    "2. Mappings: time → x, sales → y, region → color\n",
    "3. Geometry: lines (shows trends better than bars for time series)\n",
    "4. Result: Line plot with one line per region\n",
    "\n",
    "The tool choice(s) becomes (more) \"obvious,\" especially when using Seaborn (or ggplot)."
   ]
  },
  {
   "cell_type": "markdown",
   "id": "65",
   "metadata": {},
   "source": [
    "Seaborn (partial implementation):"
   ]
  },
  {
   "cell_type": "code",
   "execution_count": null,
   "id": "66",
   "metadata": {},
   "outputs": [],
   "source": [
    "mpg = sns.load_dataset('mpg')\n",
    "\n",
    "sns.scatterplot(\n",
    "    data=mpg,          # 1. Data\n",
    "    x='horsepower',    # 2. Aesthetic: position\n",
    "    y='mpg',           # 2. Aesthetic: position  \n",
    "    hue='cylinders',   # 2. Aesthetic: color\n",
    "    size='weight',     # 2. Aesthetic: size\n",
    "    style='origin',    # 2. Aesthetic: shape\n",
    "    legend=True        # hide legend for now\n",
    ")                      # 3. Geometry: points (scatterplot)"
   ]
  },
  {
   "cell_type": "markdown",
   "id": "67",
   "metadata": {},
   "source": [
    "### The Mental Model\n",
    "\n",
    "1. What questions am I asking?\n",
    "   - Distribution? → one variable\n",
    "   - Relationship? → two+ variables\n",
    "   - Comparison? → groups\n",
    "   - Change? → time\n",
    "2. What mappings answer this?\n",
    "   - Position (x, y) - most important, highest precision\n",
    "   - Color - good for categories\n",
    "   - Size - good for magnitude\n",
    "   - Facets - great for categories when color isn't enough\n",
    "3. What geometry reveals the pattern?\n",
    "   - Points → relationships, individual values\n",
    "   - Lines → trends, connections\n",
    "   - Bars → comparisons, counts\n",
    "   - Boxes/violins → distributions\n",
    "4. What statistics help?\n",
    "   - Raw data vs aggregated\n",
    "   - Trends/smoothing\n",
    "   - Confidence intervals"
   ]
  },
  {
   "cell_type": "markdown",
   "id": "68",
   "metadata": {},
   "source": [
    "## Seaborn: Statistical Graphics"
   ]
  },
  {
   "cell_type": "markdown",
   "id": "69",
   "metadata": {},
   "source": [
    "Seaborn builds on matplotlib to provide:\n",
    "\n",
    "- Statistical visualizations (regression, distributions, confidence intervals)\n",
    "- Beautiful defaults with minimal code\n",
    "- Easy aesthetic mappings (`hue`, `size`, `style`)\n",
    "- Grammar of Graphics concepts in practice\n",
    "\n",
    "It returns matplotlib objects, so you can customize further if needed. Let's see it in action."
   ]
  },
  {
   "cell_type": "markdown",
   "id": "70",
   "metadata": {},
   "source": [
    "### Seaborn's API Pattern\n",
    "\n",
    "Consistent API across all plot types:\n",
    "\n",
    "```python\n",
    "sns.function_name(\n",
    "    data=df,           # 1. Your DataFrame\n",
    "    x='column1',       # 2. What goes where\n",
    "    y='column2',\n",
    "    hue='category',    # 3. Aesthetic mappings (optional)\n",
    "    size='continuous',\n",
    "    style='category2'\n",
    ")\n",
    "```\n",
    "\n",
    "The key difference from Pandas:\n",
    "\n",
    "- Pandas: `df.plot.scatter(x='col1', y='col2')`\n",
    "- Seaborn: `sns.scatterplot(data=df, x='col1', y='col2')`\n",
    "\n",
    "Separating the data from the aesthetics enables more powerful mappings.\n",
    "\n",
    "#### Function families\n",
    "\n",
    "- Relational: `scatterplot`, `lineplot`, `regplot`\n",
    "- Distributional: `histplot`, `kdeplot`, `boxplot`, `violinplot`\n",
    "- Categorical: `barplot`, `countplot`, `stripplot`, `swarmplot`\n",
    "\n",
    "Choose based on your variable types and question."
   ]
  },
  {
   "cell_type": "code",
   "execution_count": null,
   "id": "71",
   "metadata": {},
   "outputs": [],
   "source": []
  }
 ],
 "metadata": {
  "kernelspec": {
   "display_name": "INSY6500-Py4EDA",
   "language": "python",
   "name": "insy6500-py4eda"
  },
  "language_info": {
   "codemirror_mode": {
    "name": "ipython",
    "version": 3
   },
   "file_extension": ".py",
   "mimetype": "text/x-python",
   "name": "python",
   "nbconvert_exporter": "python",
   "pygments_lexer": "ipython3",
   "version": "3.13.5"
  }
 },
 "nbformat": 4,
 "nbformat_minor": 5
}
