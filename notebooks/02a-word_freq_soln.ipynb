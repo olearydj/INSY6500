{
 "cells": [
  {
   "cell_type": "markdown",
   "id": "0",
   "metadata": {},
   "source": [
    "# Word Frequency Counter"
   ]
  },
  {
   "cell_type": "markdown",
   "id": "1",
   "metadata": {},
   "source": [
    "Given the following string as input data, complete the described tasks."
   ]
  },
  {
   "cell_type": "code",
   "execution_count": null,
   "id": "2",
   "metadata": {},
   "outputs": [],
   "source": [
    "text = \"Python is great and Python is powerful but Python requires practice and dedication to master Python programming\""
   ]
  },
  {
   "cell_type": "markdown",
   "id": "3",
   "metadata": {},
   "source": [
    "## Convert the string into a list of words, all lowercase."
   ]
  },
  {
   "cell_type": "code",
   "execution_count": null,
   "id": "4",
   "metadata": {},
   "outputs": [],
   "source": [
    "words = text.lower().split()\n",
    "print(words)"
   ]
  },
  {
   "cell_type": "markdown",
   "id": "5",
   "metadata": {},
   "source": [
    "## Count occurrences of each unique word."
   ]
  },
  {
   "cell_type": "code",
   "execution_count": null,
   "id": "6",
   "metadata": {},
   "outputs": [],
   "source": [
    "word_counts = {}\n",
    "\n",
    "for word in words:\n",
    "    if word in word_counts:\n",
    "        word_counts[word] += 1\n",
    "    else:\n",
    "        word_counts[word] = 1\n",
    "\n",
    "print(word_counts)"
   ]
  },
  {
   "cell_type": "markdown",
   "id": "7",
   "metadata": {},
   "source": [
    "## Find words longer than 5 characters."
   ]
  },
  {
   "cell_type": "code",
   "execution_count": null,
   "id": "8",
   "metadata": {},
   "outputs": [],
   "source": [
    "long_words = []\n",
    "for word in words:\n",
    "    if len(word) > 5:\n",
    "        long_words.append(word)\n",
    "\n",
    "print(long_words)"
   ]
  },
  {
   "cell_type": "markdown",
   "id": "9",
   "metadata": {},
   "source": [
    "Very common pattern in programming: create a new container based on another by filtering, manipulating its data.\n",
    "\n",
    "So common that Python offers a shorthand for this loop structure called a *comprehension*.\n",
    "\n",
    "Above cell implemented as a list comprehension (with word capitalized):"
   ]
  },
  {
   "cell_type": "code",
   "execution_count": null,
   "id": "10",
   "metadata": {},
   "outputs": [],
   "source": [
    "[word.title() for word in words if len(word) > 5]"
   ]
  },
  {
   "cell_type": "markdown",
   "id": "11",
   "metadata": {},
   "source": [
    "## Show the unique long words, sorted alphabetically"
   ]
  },
  {
   "cell_type": "code",
   "execution_count": null,
   "id": "12",
   "metadata": {},
   "outputs": [],
   "source": [
    "unique_long_words_sorted = sorted(list(set(long_words)))\n",
    "print(unique_long_words_sorted)"
   ]
  },
  {
   "cell_type": "markdown",
   "id": "13",
   "metadata": {},
   "source": [
    "## Display word counts sorted alphabetically"
   ]
  },
  {
   "cell_type": "code",
   "execution_count": null,
   "id": "14",
   "metadata": {},
   "outputs": [],
   "source": [
    "keys = sorted(list(word_counts.keys()))\n",
    "\n",
    "for key in keys:\n",
    "    print(f\"word: {key}\\t\\tcount: {word_counts[key]}\")"
   ]
  },
  {
   "cell_type": "markdown",
   "id": "15",
   "metadata": {},
   "source": [
    "## Display word counts sorted by frequency (tricky)"
   ]
  },
  {
   "cell_type": "markdown",
   "id": "16",
   "metadata": {},
   "source": [
    "As always, there are many ways to solve this problem in Python. Here are a few."
   ]
  },
  {
   "cell_type": "markdown",
   "id": "17",
   "metadata": {},
   "source": [
    "### Build sorted list manually\n",
    "\n",
    "Similar to the approach used for alphabetical sort, above."
   ]
  },
  {
   "cell_type": "code",
   "execution_count": null,
   "id": "18",
   "metadata": {},
   "outputs": [],
   "source": [
    "# Find all unique counts and sort them\n",
    "counts = sorted(set(word_counts.values()))\n",
    "\n",
    "# Build list by iterating through counts in order\n",
    "sorted_items = []\n",
    "for count in counts:\n",
    "    for word, word_count in word_counts.items():\n",
    "        if word_count == count:\n",
    "            sorted_items.append((word, count))\n",
    "\n",
    "for word, count in sorted_items:\n",
    "    print(f\"word: {word}\\t\\tcount: {count}\")"
   ]
  },
  {
   "cell_type": "markdown",
   "id": "19",
   "metadata": {},
   "source": [
    "### Implement \"bubble\" sort\n",
    "\n",
    "Classic CS algorithm. (Not something you need to know for this class)\n",
    "\n",
    "```text\n",
    "BUBBLE SORT (sorting word-count pairs by count):\n",
    "\n",
    "Repeat for each position in the list:\n",
    "    Go through the list from start to the unsorted portion:\n",
    "        Look at the current pair and the next pair\n",
    "        If current pair's count is bigger than next pair's count:\n",
    "            Swap them\n",
    "        \n",
    "    After this pass, the largest count has \"bubbled\" to its correct spot\n",
    "    The sorted portion at the end grows by one\n",
    "    \n",
    "List is now sorted from smallest to largest count\n",
    "```"
   ]
  },
  {
   "cell_type": "code",
   "execution_count": null,
   "id": "20",
   "metadata": {},
   "outputs": [],
   "source": [
    "items = list(word_counts.items())\n",
    "\n",
    "# Bubble sort by frequency (second element of tuple)\n",
    "for i in range(len(items)):\n",
    "    for j in range(len(items) - 1 - i):\n",
    "        if items[j][1] > items[j + 1][1]:  # Compare counts\n",
    "            items[j], items[j + 1] = items[j + 1], items[j]\n",
    "\n",
    "for word, count in items:\n",
    "    print(f\"word: {word}\\t\\tcount: {count}\")"
   ]
  },
  {
   "cell_type": "markdown",
   "id": "21",
   "metadata": {},
   "source": [
    "This approach is not very ***Pythonic***.\n",
    "What is Pythonic?"
   ]
  },
  {
   "cell_type": "code",
   "execution_count": null,
   "id": "22",
   "metadata": {},
   "outputs": [],
   "source": [
    "import this"
   ]
  },
  {
   "cell_type": "markdown",
   "id": "23",
   "metadata": {},
   "source": [
    "### Swap tuple order and sort\n",
    "\n",
    "Clever."
   ]
  },
  {
   "cell_type": "code",
   "execution_count": null,
   "id": "24",
   "metadata": {},
   "outputs": [],
   "source": [
    "# Create list with count first, word second\n",
    "swapped_items = [(count, word) for word, count in word_counts.items()]\n",
    "swapped_items.sort()  # This will sort by count naturally\n",
    "\n",
    "for count, word in swapped_items:\n",
    "    print(f\"word: {word}\\t\\tcount: {count}\")"
   ]
  },
  {
   "cell_type": "markdown",
   "id": "25",
   "metadata": {},
   "source": [
    "### Use `key` option in `sort` with custom function\n",
    "\n",
    "`key` lets us specify how to sort. For example:"
   ]
  },
  {
   "cell_type": "code",
   "execution_count": null,
   "id": "26",
   "metadata": {},
   "outputs": [],
   "source": [
    "# Example 1: Sort strings by their length using len()\n",
    "words = [\"cat\", \"elephant\", \"a\", \"dog\", \"butterfly\"]\n",
    "\n",
    "# Without key - sorts alphabetically\n",
    "words.sort()\n",
    "print(words)\n",
    "\n",
    "# With key - sorts by length\n",
    "words = [\"cat\", \"elephant\", \"a\", \"dog\", \"butterfly\"]\n",
    "words.sort(key=len)\n",
    "print(words)"
   ]
  },
  {
   "cell_type": "code",
   "execution_count": null,
   "id": "27",
   "metadata": {},
   "outputs": [],
   "source": [
    "# Example 2: Sort numbers by absolute value using abs()\n",
    "numbers = [-10, 5, -3, 8, -1]\n",
    "\n",
    "# Without key - sorts normally\n",
    "numbers.sort()\n",
    "print(numbers)\n",
    "\n",
    "# With key - sorts by absolute value\n",
    "numbers = [-10, 5, -3, 8, -1]\n",
    "numbers.sort(key=abs)\n",
    "print(numbers)"
   ]
  },
  {
   "cell_type": "markdown",
   "id": "28",
   "metadata": {},
   "source": [
    "Key can use any function, including one that we write."
   ]
  },
  {
   "cell_type": "code",
   "execution_count": null,
   "id": "29",
   "metadata": {},
   "outputs": [],
   "source": [
    "def by_freq(t):\n",
    "    return t[1]\n",
    "\n",
    "items = list(word_counts.items())\n",
    "items.sort(key = by_freq)\n",
    "\n",
    "for word, count in items:\n",
    "    print(f\"word: {word}\\t\\tcount: {count}\")"
   ]
  },
  {
   "cell_type": "markdown",
   "id": "30",
   "metadata": {},
   "source": [
    "## Identify the most / least common words"
   ]
  },
  {
   "cell_type": "code",
   "execution_count": null,
   "id": "31",
   "metadata": {},
   "outputs": [],
   "source": [
    "least_common_count = min(list(word_counts.values()))\n",
    "most_common_count = max(list(word_counts.values()))\n",
    "\n",
    "least_common_words = []\n",
    "most_common_words = []\n",
    "\n",
    "for word, count in word_counts.items():\n",
    "    if count == least_common_count:\n",
    "        least_common_words.append(word)\n",
    "    if count == most_common_count:\n",
    "        most_common_words.append(word)\n",
    "\n",
    "print(\"least common:\", least_common_words)\n",
    "print(\"most common: \", most_common_words)"
   ]
  },
  {
   "cell_type": "code",
   "execution_count": null,
   "id": "32",
   "metadata": {},
   "outputs": [],
   "source": []
  }
 ],
 "metadata": {
  "kernelspec": {
   "display_name": "Python 3 (ipykernel)",
   "language": "python",
   "name": "python3"
  },
  "language_info": {
   "codemirror_mode": {
    "name": "ipython",
    "version": 3
   },
   "file_extension": ".py",
   "mimetype": "text/x-python",
   "name": "python",
   "nbconvert_exporter": "python",
   "pygments_lexer": "ipython3",
   "version": "3.13.5"
  }
 },
 "nbformat": 4,
 "nbformat_minor": 5
}
