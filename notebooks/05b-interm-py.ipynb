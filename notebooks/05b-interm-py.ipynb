{
 "cells": [
  {
   "cell_type": "markdown",
   "metadata": {
    "id": "NNTI80eWNkCE"
   },
   "source": [
    "# Intermediate Python"
   ]
  },
  {
   "cell_type": "markdown",
   "metadata": {},
   "source": [
    "A brief discussion of the following topics:\n",
    "\n",
    "- dictionaries and iterating\n",
    "- functions: arguments / parameters and variable scope\n",
    "- lambdas\n",
    "- error handling\n",
    "\n",
    "All of these are particularly relevant for our next topic, Pandas."
   ]
  },
  {
   "cell_type": "markdown",
   "metadata": {},
   "source": [
    "## Dictionaries Revisited"
   ]
  },
  {
   "cell_type": "markdown",
   "metadata": {},
   "source": [
    "### Creation and Access"
   ]
  },
  {
   "cell_type": "code",
   "execution_count": null,
   "metadata": {},
   "outputs": [],
   "source": [
    "scores = {'Alice': 85, 'Bob': 92, 'Charlie': 98}"
   ]
  },
  {
   "cell_type": "code",
   "execution_count": null,
   "metadata": {},
   "outputs": [],
   "source": [
    "# key must exist to be accessed without error\n",
    "scores['Alice']"
   ]
  },
  {
   "cell_type": "code",
   "execution_count": null,
   "metadata": {},
   "outputs": [],
   "source": [
    "scores['Dan']"
   ]
  },
  {
   "cell_type": "markdown",
   "metadata": {},
   "source": [
    "A common pattern for creating / updating keys uses `if ... else`:"
   ]
  },
  {
   "cell_type": "code",
   "execution_count": null,
   "metadata": {},
   "outputs": [],
   "source": [
    "# adjust score if record exists, otherwise create record\n",
    "if 'Dan' not in scores:\n",
    "    scores['Dan'] = 0    # create new kv pair\n",
    "else:\n",
    "    scores['Dan'] += 10  # increase existing value\n",
    "\n",
    "print(scores['Dan'])"
   ]
  },
  {
   "cell_type": "markdown",
   "metadata": {},
   "source": [
    "The `get` method provides a safe way to access values without risking KeyError exceptions. It takes two arguments, the key and a default value if the key does not exist."
   ]
  },
  {
   "cell_type": "code",
   "execution_count": null,
   "metadata": {},
   "outputs": [],
   "source": [
    "# Same operation, much cleaner!\n",
    "scores['Eddie'] = scores.get('Eddie', 0) + 10   # Creates with 10\n",
    "scores['Alice'] = scores.get('Alice', 0) + 10   # Updates to 95\n",
    "\n",
    "print(scores)"
   ]
  },
  {
   "cell_type": "markdown",
   "metadata": {},
   "source": [
    "Another example of how `get` is commonly used."
   ]
  },
  {
   "cell_type": "code",
   "execution_count": null,
   "metadata": {},
   "outputs": [],
   "source": [
    "word_count = {}\n",
    "text = \"the cat and the dog and the bird\"\n",
    "\n",
    "# Without get(): requires if/else\n",
    "for word in text.split():\n",
    "    if word in word_count:\n",
    "        word_count[word] += 1\n",
    "    else:\n",
    "        word_count[word] = 1\n",
    "\n",
    "# With get(): single line per word\n",
    "word_count = {}\n",
    "for word in text.split():\n",
    "    word_count[word] = word_count.get(word, 0) + 1"
   ]
  },
  {
   "cell_type": "markdown",
   "metadata": {},
   "source": [
    "### Iteration"
   ]
  },
  {
   "cell_type": "markdown",
   "metadata": {},
   "source": [
    "Nested dictionaries are commonly used."
   ]
  },
  {
   "cell_type": "code",
   "execution_count": null,
   "metadata": {},
   "outputs": [],
   "source": [
    "# Sample data dictionary (similar to what you'll see in data analysis)\n",
    "student_scores = {\n",
    "    'Alice': {'math': 92, 'science': 88, 'english': 95},\n",
    "    'Bob': {'math': 78, 'science': 92, 'english': 81},\n",
    "    'Charlie': {'math': 95, 'science': 79, 'english': 88}\n",
    "}"
   ]
  },
  {
   "cell_type": "markdown",
   "metadata": {},
   "source": [
    "Dictionaries can be iterated over by key, value, or item (ke-value pair):"
   ]
  },
  {
   "cell_type": "code",
   "execution_count": null,
   "metadata": {},
   "outputs": [],
   "source": [
    "# Iterating through keys\n",
    "for student in student_scores.keys():\n",
    "    print(f\"{student}: {student_scores[student]}\")"
   ]
  },
  {
   "cell_type": "code",
   "execution_count": null,
   "metadata": {},
   "outputs": [],
   "source": [
    "# Keys is the default, the method isn't required\n",
    "for student in student_scores.keys():\n",
    "    print(f\"{student}: {student_scores[student]}\")"
   ]
  },
  {
   "cell_type": "code",
   "execution_count": null,
   "metadata": {},
   "outputs": [],
   "source": [
    "# Iterating through values only\n",
    "all_math_scores = []\n",
    "for scores in student_scores.values():\n",
    "    all_math_scores.append(scores['math'])\n",
    "\n",
    "print(all_math_scores)"
   ]
  },
  {
   "cell_type": "code",
   "execution_count": null,
   "metadata": {},
   "outputs": [],
   "source": [
    "# Iterating through items (kv pairs)\n",
    "for student, scores in student_scores.items():\n",
    "    avg_score = sum(scores.values()) / len(scores)\n",
    "    print(f\"{student}'s average: {avg_score:.1f}\")"
   ]
  },
  {
   "cell_type": "markdown",
   "metadata": {},
   "source": [
    "### Comprehensions"
   ]
  },
  {
   "cell_type": "markdown",
   "metadata": {},
   "source": [
    "Dictionaries also support comprehensions, using equivalent syntax:\n",
    "\n",
    "```python\n",
    "{k: v for element in iterable}\n",
    "```\n",
    "\n",
    "Simple examples:"
   ]
  },
  {
   "cell_type": "code",
   "execution_count": null,
   "metadata": {},
   "outputs": [],
   "source": [
    "# Basic dictionary comprehension\n",
    "numbers = [1, 2, 3, 4, 5]\n",
    "squares = {n: n**2 for n in numbers}\n",
    "print(squares)"
   ]
  },
  {
   "cell_type": "code",
   "execution_count": null,
   "metadata": {},
   "outputs": [],
   "source": [
    "# From existing dictionary\n",
    "scores = {'Alice': 85, 'Bob': 92, 'Charlie': 78}\n",
    "curved = {name: score + 5 for name, score in scores.items()}\n",
    "print(curved)"
   ]
  },
  {
   "cell_type": "code",
   "execution_count": null,
   "metadata": {},
   "outputs": [],
   "source": [
    "# With filtering\n",
    "passing = {name: score for name, score in scores.items() if score >= 80}\n",
    "print(passing)"
   ]
  },
  {
   "cell_type": "markdown",
   "metadata": {},
   "source": [
    "This pattern is commonly used to create new dicts from calculated and/or filtered values."
   ]
  },
  {
   "cell_type": "code",
   "execution_count": null,
   "metadata": {},
   "outputs": [],
   "source": [
    "# Create a new dictionary with calculated values\n",
    "averages = {\n",
    "    student: sum(scores.values()) / len(scores)\n",
    "    for student, scores in student_scores.items()\n",
    "}\n",
    "\n",
    "print(averages)"
   ]
  },
  {
   "cell_type": "code",
   "execution_count": null,
   "metadata": {},
   "outputs": [],
   "source": [
    "# Filter dictionary based on condition\n",
    "high_performers = {\n",
    "    student: scores \n",
    "    for student, scores in student_scores.items()\n",
    "    if sum(scores.values()) / len(scores) > 85\n",
    "}\n",
    "\n",
    "print(high_performers)"
   ]
  },
  {
   "cell_type": "markdown",
   "metadata": {},
   "source": [
    "## Functions: Arguments, Parameters, and Variable Scope"
   ]
  },
  {
   "cell_type": "markdown",
   "metadata": {},
   "source": [
    "### Arguments and Parameters\n",
    "\n",
    "Remember this distinction:\n",
    "\n",
    "- argument refers to the items in a function **call**\n",
    "- parameter refers to the items in a function **definition**\n",
    "\n",
    "When a function is called, each argument can be specified either by position or keyword. It is up to the user.\n",
    "\n",
    "Positional arguments must be provided in the exact order defined in the function. All positional arguments must be provided unless a default is defined in the function definition. Parameters with defaults need not be specified in the function call."
   ]
  },
  {
   "cell_type": "code",
   "execution_count": null,
   "metadata": {},
   "outputs": [],
   "source": [
    "# parameters defined with function\n",
    "def greet(name, age, city='Auburn'):\n",
    "    return f\"{name}, {age}, from {city}\"\n",
    "\n",
    "# arguments passed by position here - order matters\n",
    "greet(\"Alice\", 25, \"NYC\")"
   ]
  },
  {
   "cell_type": "code",
   "execution_count": null,
   "metadata": {},
   "outputs": [],
   "source": [
    "greet(\"Bob\", 40)"
   ]
  },
  {
   "cell_type": "code",
   "execution_count": null,
   "metadata": {},
   "outputs": [],
   "source": [
    "# order matters!\n",
    "greet(55, 'Charlie', 'Tuskaloosa')"
   ]
  },
  {
   "cell_type": "markdown",
   "metadata": {},
   "source": [
    "Keyword arguments are specified by name, order does not matter."
   ]
  },
  {
   "cell_type": "code",
   "execution_count": null,
   "metadata": {},
   "outputs": [],
   "source": [
    "greet(age=25, city=\"NYC\", name=\"Alice\")  # Any order"
   ]
  },
  {
   "cell_type": "markdown",
   "metadata": {},
   "source": [
    "If positional and keyword arguments are mixed, the positional arguments must come first."
   ]
  },
  {
   "cell_type": "code",
   "execution_count": null,
   "metadata": {},
   "outputs": [],
   "source": [
    "greet(\"Alice\", city=\"NYC\", age=25)  # Mixed, positional first"
   ]
  },
  {
   "cell_type": "markdown",
   "metadata": {},
   "source": [
    "Parameters with defaults must come after parameters without them. **Defaults are evaluated once, at the time the function is defined.** There are important implications of this, as we will demonstrate later!"
   ]
  },
  {
   "cell_type": "markdown",
   "metadata": {},
   "source": [
    "### `args` and `kwargs`\n",
    "\n",
    "The syntax `*args` and `**kwargs`, when used in a function definition, collects all the positional (`args`) and keyword (`kwargs`) in a tuple or dictionary, respectively. The names `args` and `kwargs` are just variables and can be anything, but are commonly used in Python. In the following example, `scores` and `options` are used instead."
   ]
  },
  {
   "cell_type": "code",
   "execution_count": null,
   "metadata": {},
   "outputs": [],
   "source": [
    "def analyze_scores(student_name, *scores, **options):\n",
    "    \"\"\"\n",
    "    Demonstrates different parameter types\n",
    "    - student_name: positional argument (required)\n",
    "    - *scores: variable positional arguments (tuple)\n",
    "    - **options: keyword arguments (dictionary)\n",
    "    \"\"\"\n",
    "    verbose = options.get('verbose', False)\n",
    "    include_median = options.get('include_median', True)\n",
    "    \n",
    "    if verbose:\n",
    "        print(f\"Analyzing {student_name}'s scores: {scores}\")\n",
    "    \n",
    "    result = {\n",
    "        'mean': sum(scores) / len(scores) if scores else 0,\n",
    "        'max': max(scores) if scores else 0,\n",
    "        'min': min(scores) if scores else 0\n",
    "    }\n",
    "    \n",
    "    if include_median:\n",
    "        sorted_scores = sorted(scores)\n",
    "        n = len(sorted_scores)\n",
    "        result['median'] = (sorted_scores[n//2] if n % 2 \n",
    "                           else (sorted_scores[n//2-1] + sorted_scores[n//2])/2)\n",
    "    \n",
    "    return result\n",
    "\n",
    "# Various ways to call the function\n",
    "result1 = analyze_scores('Alice', 92, 88, 95)\n",
    "result2 = analyze_scores('Bob', 78, 92, 81, verbose=True)\n",
    "result3 = analyze_scores('Charlie', 95, 79, 88, verbose=True, include_median=False)"
   ]
  },
  {
   "cell_type": "markdown",
   "metadata": {},
   "source": [
    "### Default Mutable Arguments (Common Pitfall)"
   ]
  },
  {
   "cell_type": "markdown",
   "metadata": {},
   "source": [
    "As mentioned above, default arguments are only evaluated once, at the time a function is defined. This can lead to unexpected behavior if a mutable object is used as default."
   ]
  },
  {
   "cell_type": "code",
   "execution_count": null,
   "metadata": {},
   "outputs": [],
   "source": [
    "# WRONG - mutable default argument\n",
    "def add_scores_wrong(*scores, scores_list=[]):\n",
    "    scores_list.extend(list(scores))\n",
    "    return scores_list"
   ]
  },
  {
   "cell_type": "markdown",
   "metadata": {},
   "source": [
    "This approach creates the variable `scores_list` local to this function (more on this later) and assigns an empty list to it.\n",
    "\n",
    "All future calls to that function will reference this original definition.\n",
    "\n",
    "At first, this may seem to work as expected..."
   ]
  },
  {
   "cell_type": "code",
   "execution_count": null,
   "metadata": {},
   "outputs": [],
   "source": [
    "list1a = []\n",
    "list1a = add_scores_wrong(10, 20, 30)\n",
    "print(list1a)"
   ]
  },
  {
   "cell_type": "code",
   "execution_count": null,
   "metadata": {},
   "outputs": [],
   "source": [
    "list2a = add_scores_wrong(40, 50, 60)\n",
    "print(list2a)"
   ]
  },
  {
   "cell_type": "markdown",
   "metadata": {},
   "source": [
    "The original list persists! In fact, `list1` and `list2` are the same list:"
   ]
  },
  {
   "cell_type": "code",
   "execution_count": null,
   "metadata": {},
   "outputs": [],
   "source": [
    "print(list1a)\n",
    "print(list1a is list2a)"
   ]
  },
  {
   "cell_type": "markdown",
   "metadata": {},
   "source": [
    "The correct pattern here is to set the default value to `None` and, on use, initialize the mutable value."
   ]
  },
  {
   "cell_type": "code",
   "execution_count": null,
   "metadata": {},
   "outputs": [],
   "source": [
    "# CORRECT - use None as default\n",
    "def add_scores_correct(*scores, scores_list=None):\n",
    "    if scores_list is None:\n",
    "        scores_list = []\n",
    "    scores_list.extend(list(scores))\n",
    "    return scores_list"
   ]
  },
  {
   "cell_type": "code",
   "execution_count": null,
   "metadata": {},
   "outputs": [],
   "source": [
    "list1b = []\n",
    "list1b = add_scores_correct(70, 80, 90)\n",
    "print(list1b)"
   ]
  },
  {
   "cell_type": "code",
   "execution_count": null,
   "metadata": {},
   "outputs": [],
   "source": [
    "list2b = add_scores_correct(100, 110, 120)\n",
    "print(list2b)"
   ]
  },
  {
   "cell_type": "markdown",
   "metadata": {},
   "source": [
    "### Variable Scope and the LEGB Rule"
   ]
  },
  {
   "cell_type": "markdown",
   "metadata": {},
   "source": [
    "Python resolves variables using LEGB order: Local → Enclosing → Global → Built-in\n",
    "\n",
    "- Built-in = Python internals, below where we work\n",
    "- **Global = base (aka module) level, where we start**\n",
    "- Enclosing = ignore for this course, mostly\n",
    "- **Local = within functions**\n",
    "\n",
    "We will mostly ignore enclosing scope (more advanced), though it will come into play when (if?) we talk about decorators.\n",
    "\n",
    "Values are **inherited down** this chain (BGEL) or **passed up** this chain (LEGB). Not the opposite.\n",
    "\n",
    "For example, at the Global scope we have access to all Python built-ins (and can even overwrite them!), but those functions do not use Global values unless passed in as arguments.\n",
    "\n",
    "Here's an example of Local and Global interaction..."
   ]
  },
  {
   "cell_type": "code",
   "execution_count": null,
   "metadata": {},
   "outputs": [],
   "source": [
    "global_threshold = 80                 # Global scope\n",
    "\n",
    "def grade(score):\n",
    "    curve = 10                        # Local scope\n",
    "    adjusted = score + curve          # also Local\n",
    "    \n",
    "    if adjusted >= global_threshold:  # 'global_threshold' inherited from global scope\n",
    "        return 'Pass'\n",
    "    return 'Fail'\n",
    "\n",
    "grade(75)"
   ]
  },
  {
   "cell_type": "markdown",
   "metadata": {},
   "source": [
    "In this example, `global_threshold` is available inside the function (Global → Local), but `curve` is **only** available *within the function*, not in the Global scope..."
   ]
  },
  {
   "cell_type": "code",
   "execution_count": null,
   "metadata": {},
   "outputs": [],
   "source": [
    "print(curve)"
   ]
  },
  {
   "cell_type": "markdown",
   "metadata": {},
   "source": [
    "This is another advantage of functions. They help keep the Global \"namespace\" clean, avoiding variable naming conflicts that can lead to bugs."
   ]
  },
  {
   "cell_type": "markdown",
   "metadata": {},
   "source": [
    "#### Common Gotcha: `UnboundLocalError`"
   ]
  },
  {
   "cell_type": "markdown",
   "metadata": {},
   "source": [
    "When an assignment operation (e.g., `x += 1`) is encountered within a function, the varible is marked as local when the function is defined, *even if it was defined globally*."
   ]
  },
  {
   "cell_type": "code",
   "execution_count": null,
   "metadata": {},
   "outputs": [],
   "source": [
    "count = 0\n",
    "\n",
    "def increment_count():\n",
    "    print(f\"Current count: {count}\")  # Tries to read 'count'\n",
    "    count += 1  # But this line makes Python treat 'count' as LOCAL\n",
    "    \n",
    "increment_count()"
   ]
  },
  {
   "cell_type": "markdown",
   "metadata": {},
   "source": [
    "In this example, when `increment_count` is defined, the assignment in line 5 causes `count` to be flagged as a local variable, despite the fact that it is defined as a global on line 1. As a result there are two variables named `count`, one global, one local. When `increment_count` is called, line 4 references `count`, but it has no value associated. This results in the cryptic `UnboundLocalError` message.\n",
    "\n",
    "The best way to avoid this is not to rely on inheriting from the global scope. Instead pass arguments in and return values, as shown in the version below."
   ]
  },
  {
   "cell_type": "code",
   "execution_count": null,
   "metadata": {},
   "outputs": [],
   "source": [
    "count = 0\n",
    "\n",
    "def increment_count_v2(current_count):\n",
    "    print(f\"Current count: {current_count}\")\n",
    "    return current_count + 1\n",
    "\n",
    "count = increment_count_v2(count)"
   ]
  },
  {
   "cell_type": "markdown",
   "metadata": {},
   "source": [
    "Python does allow you to override LEGB with the `global` and `nonlocal` keywords, but this is discouraged, especially in this class.\n",
    "\n",
    "The language of this section is less precise than reality, but it is sufficient for our needs."
   ]
  },
  {
   "cell_type": "markdown",
   "metadata": {},
   "source": [
    "## Lambda Functions"
   ]
  },
  {
   "cell_type": "markdown",
   "metadata": {},
   "source": [
    "Lambdas are anonymous functions perfect for simple operations:"
   ]
  },
  {
   "cell_type": "code",
   "execution_count": null,
   "metadata": {},
   "outputs": [],
   "source": [
    "# Traditional function\n",
    "def square(x):\n",
    "    return x ** 2\n",
    "\n",
    "# Equivalent lambda\n",
    "square_lambda = lambda x: x ** 2\n",
    "\n",
    "# Multiple parameters\n",
    "multiply = lambda x, y: x * y\n",
    "\n",
    "# Conditional logic in lambda\n",
    "grade_pass = lambda score: 'Pass' if score >= 60 else 'Fail'"
   ]
  },
  {
   "cell_type": "markdown",
   "metadata": {},
   "source": [
    "They are particularly useful with built-in functions and methods like `sorted()` and `.sort()`:"
   ]
  },
  {
   "cell_type": "code",
   "execution_count": null,
   "metadata": {},
   "outputs": [],
   "source": [
    "scores = [78, 92, 45, 88, 67, 95, 81]\n",
    "\n",
    "# Map: Transform each element\n",
    "curved_scores = list(map(lambda x: min(x + 10, 100), scores))\n",
    "\n",
    "# Filter: Select elements meeting criteria\n",
    "passing_scores = list(filter(lambda x: x >= 70, scores))\n",
    "\n",
    "# Sorted: Custom sorting\n",
    "students = [\n",
    "    {'name': 'Alice', 'score': 92},\n",
    "    {'name': 'Bob', 'score': 78},\n",
    "    {'name': 'Charlie', 'score': 95}\n",
    "]\n",
    "\n",
    "# Sort by score\n",
    "by_score = sorted(students, key=lambda s: s['score'], reverse=True)\n",
    "\n",
    "# Sort by name length, then alphabetically\n",
    "by_name_complexity = sorted(students, \n",
    "                          key=lambda s: (len(s['name']), s['name']))"
   ]
  },
  {
   "cell_type": "markdown",
   "metadata": {},
   "source": [
    "## Error Handling"
   ]
  },
  {
   "cell_type": "markdown",
   "metadata": {},
   "source": [
    "### Basic Try-Except Structure"
   ]
  },
  {
   "cell_type": "code",
   "execution_count": null,
   "metadata": {},
   "outputs": [],
   "source": [
    "def safe_divide(a, b):\n",
    "    try:\n",
    "        result = a / b\n",
    "        return result\n",
    "    except ZeroDivisionError:\n",
    "        print(\"Warning: Division by zero attempted\")\n",
    "        return None\n",
    "    except TypeError as e:\n",
    "        print(f\"Type error: {e}\")\n",
    "        return None"
   ]
  },
  {
   "cell_type": "markdown",
   "metadata": {},
   "source": [
    "### Multiple Exception Handling"
   ]
  },
  {
   "cell_type": "code",
   "execution_count": null,
   "metadata": {},
   "outputs": [],
   "source": [
    "def process_student_data(data):\n",
    "    try:\n",
    "        name = data['name']\n",
    "        scores = data['scores']\n",
    "        average = sum(scores) / len(scores)\n",
    "        return {'name': name, 'average': average}\n",
    "    \n",
    "    except KeyError as e:\n",
    "        print(f\"Missing required field: {e}\")\n",
    "        return None\n",
    "    \n",
    "    except (TypeError, ValueError) as e:\n",
    "        print(f\"Invalid data format: {e}\")\n",
    "        return None\n",
    "    \n",
    "    except ZeroDivisionError:\n",
    "        print(\"No scores provided\")\n",
    "        return {'name': data.get('name', 'Unknown'), 'average': 0}\n",
    "    \n",
    "    except Exception as e:\n",
    "        # Catch-all for unexpected errors\n",
    "        print(f\"Unexpected error: {e}\")\n",
    "        return None"
   ]
  },
  {
   "cell_type": "markdown",
   "metadata": {},
   "source": [
    "### Try-Except-Else-Finally Pattern"
   ]
  },
  {
   "cell_type": "code",
   "execution_count": null,
   "metadata": {},
   "outputs": [],
   "source": [
    "def read_score_file(filename):\n",
    "    file = None\n",
    "    try:\n",
    "        file = open(filename, 'r')\n",
    "        scores = [float(line.strip()) for line in file]\n",
    "    \n",
    "    except FileNotFoundError:\n",
    "        print(f\"File {filename} not found\")\n",
    "        return []\n",
    "    \n",
    "    except ValueError as e:\n",
    "        print(f\"Invalid score format in file: {e}\")\n",
    "        return []\n",
    "    \n",
    "    else:\n",
    "        # Executes only if no exception occurred\n",
    "        print(f\"Successfully read {len(scores)} scores\")\n",
    "        return scores\n",
    "    \n",
    "    finally:\n",
    "        # Always executes, even if return happened\n",
    "        if file:\n",
    "            file.close()\n",
    "            print(\"File closed\")"
   ]
  },
  {
   "cell_type": "code",
   "execution_count": null,
   "metadata": {},
   "outputs": [],
   "source": []
  }
 ],
 "metadata": {
  "colab": {
   "provenance": []
  },
  "kernelspec": {
   "display_name": "INSY6500-Py4EDA",
   "language": "python",
   "name": "insy6500-py4eda"
  },
  "language_info": {
   "codemirror_mode": {
    "name": "ipython",
    "version": 3
   },
   "file_extension": ".py",
   "mimetype": "text/x-python",
   "name": "python",
   "nbconvert_exporter": "python",
   "pygments_lexer": "ipython3",
   "version": "3.13.5"
  }
 },
 "nbformat": 4,
 "nbformat_minor": 4
}
