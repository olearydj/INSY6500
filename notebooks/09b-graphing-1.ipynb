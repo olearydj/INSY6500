{
 "cells": [
  {
   "cell_type": "markdown",
   "id": "0",
   "metadata": {},
   "source": [
    "# Graphing, 1/3"
   ]
  },
  {
   "cell_type": "markdown",
   "id": "1",
   "metadata": {},
   "source": [
    "## Anscombe's Quartet"
   ]
  },
  {
   "cell_type": "markdown",
   "id": "2",
   "metadata": {},
   "source": [
    "### Load"
   ]
  },
  {
   "cell_type": "markdown",
   "id": "3",
   "metadata": {},
   "source": [
    "Load Anscombe's dataset, available in Seaborn package."
   ]
  },
  {
   "cell_type": "code",
   "execution_count": null,
   "id": "4",
   "metadata": {},
   "outputs": [],
   "source": [
    "import pandas as pd\n",
    "\n",
    "# dataset of interest in seaborn\n",
    "import seaborn as sns\n",
    "anscombe = sns.load_dataset('anscombe')"
   ]
  },
  {
   "cell_type": "markdown",
   "id": "5",
   "metadata": {},
   "source": [
    "### Explore"
   ]
  },
  {
   "cell_type": "markdown",
   "id": "6",
   "metadata": {},
   "source": [
    "Have a look at the data."
   ]
  },
  {
   "cell_type": "code",
   "execution_count": null,
   "id": "7",
   "metadata": {},
   "outputs": [],
   "source": [
    "anscombe"
   ]
  },
  {
   "cell_type": "markdown",
   "id": "8",
   "metadata": {},
   "source": [
    "But what does this look like? Pandas makes it easy to do simple visualizations with the `plot` method."
   ]
  },
  {
   "cell_type": "code",
   "execution_count": null,
   "id": "9",
   "metadata": {},
   "outputs": [],
   "source": [
    "ds1 = anscombe[anscombe['dataset'] == 'I']\n",
    "plot1 = ds1.plot.scatter(x='x', y='y')"
   ]
  },
  {
   "cell_type": "markdown",
   "id": "10",
   "metadata": {},
   "source": [
    "To draw all four we can simply loop through each dataset and generate a plot."
   ]
  },
  {
   "cell_type": "code",
   "execution_count": null,
   "id": "11",
   "metadata": {},
   "outputs": [],
   "source": [
    "for dataset in ['I', 'II', 'III', 'IV']:\n",
    "    data = anscombe[anscombe['dataset'] == dataset]\n",
    "    data.plot.scatter(x='x', y='y', title=f'Dataset {dataset}', figsize=(4,3))"
   ]
  },
  {
   "cell_type": "markdown",
   "id": "12",
   "metadata": {},
   "source": [
    "Again we see:\n",
    "\n",
    "- DS1 appears linear\n",
    "- DS2 appears curvilinear\n",
    "- DS3 appears linear with an outlier\n",
    "- DS4 appears to have no relationship at all, except for one outlier\n",
    "\n",
    "Here I've used the optional arguments `title` and `figsize` to customize the output a bit. There are **many** other options..."
   ]
  },
  {
   "cell_type": "code",
   "execution_count": null,
   "id": "13",
   "metadata": {},
   "outputs": [],
   "source": [
    "help(anscombe.plot)"
   ]
  },
  {
   "cell_type": "markdown",
   "id": "14",
   "metadata": {},
   "source": [
    "Four datasets. Overall stats?"
   ]
  },
  {
   "cell_type": "code",
   "execution_count": null,
   "id": "15",
   "metadata": {},
   "outputs": [],
   "source": [
    "anscombe.describe()"
   ]
  },
  {
   "cell_type": "markdown",
   "id": "16",
   "metadata": {},
   "source": [
    "How helpful is this? What would be better?"
   ]
  },
  {
   "cell_type": "markdown",
   "id": "17",
   "metadata": {},
   "source": [
    "#### Start with Questions!"
   ]
  },
  {
   "cell_type": "markdown",
   "id": "18",
   "metadata": {},
   "source": [
    "Unguided EDA is of limited utility [1]. Best to start with questions related to the data and/or the phenomena it measures / represents.\n",
    "\n",
    "[1]: But sometimes just getting a sense of the data is the point → \"unsupervised learning\" (INSY 7130)"
   ]
  },
  {
   "cell_type": "markdown",
   "id": "19",
   "metadata": {},
   "source": [
    "Can get we get those stats _grouped by_ dataset?"
   ]
  },
  {
   "cell_type": "code",
   "execution_count": null,
   "id": "20",
   "metadata": {},
   "outputs": [],
   "source": [
    "anscombe.groupby('dataset').describe()"
   ]
  },
  {
   "cell_type": "markdown",
   "id": "21",
   "metadata": {},
   "source": [
    "What do you see?\n",
    "\n",
    "To get right to the heart of it, we can use the `agg` method to generate our own set of summary statistics for each column..."
   ]
  },
  {
   "cell_type": "code",
   "execution_count": null,
   "id": "22",
   "metadata": {},
   "outputs": [],
   "source": [
    "anscombe.groupby('dataset').agg(['mean', 'std', 'var'])"
   ]
  },
  {
   "cell_type": "markdown",
   "id": "23",
   "metadata": {},
   "source": [
    "What about x-y correlation by group?"
   ]
  },
  {
   "cell_type": "code",
   "execution_count": null,
   "id": "24",
   "metadata": {},
   "outputs": [],
   "source": [
    "anscombe.groupby('dataset').apply(lambda df: df['x'].corr(df['y']), include_groups=False)"
   ]
  },
  {
   "cell_type": "markdown",
   "id": "25",
   "metadata": {},
   "source": [
    "All correlations are ~0.816. This means if you fit a regression line, you'd get nearly identical equations for all four datasets (as shown in the slides).\n",
    "\n",
    "Does this match your intuition about the data from the plots?"
   ]
  },
  {
   "cell_type": "markdown",
   "id": "26",
   "metadata": {},
   "source": [
    "#### Spoiler Alert!"
   ]
  },
  {
   "attachments": {},
   "cell_type": "markdown",
   "id": "27",
   "metadata": {},
   "source": [
    "All four datasets have the same statistical properties despite having fundamentally different distributions!\n",
    "\n",
    "**This is why we _must_ visualize.** Visualization is not an optional exercise to impress your reader. It is an essential step in the exploration process!\n",
    "\n",
    "**The key insight:** Even sophisticated measures like correlation (r ≈ 0.816 for all four!) can completely mislead you without visualization. Dataset II needs a polynomial model, Dataset III needs outlier treatment, and Dataset IV... barely has any data relationship at all."
   ]
  },
  {
   "cell_type": "markdown",
   "id": "28",
   "metadata": {},
   "source": [
    "#### Sidebar - Correlation Cell"
   ]
  },
  {
   "cell_type": "markdown",
   "id": "29",
   "metadata": {},
   "source": [
    "The previous code:\n",
    "\n",
    "```python\n",
    "anscombe.groupby('dataset').apply(lambda df: df['x'].corr(df['y']), include_groups=False)\n",
    "```\n",
    "\n",
    "...deserves a moment to unpack:\n",
    "\n",
    "- `anscombe.groupby('dataset')` → perform aggregations that follow on each resulting group\n",
    "- `apply(lambda df: df['x'].corr(df['y'])` → define a temporary function (lambda) that:\n",
    "  - takes a dataframe (`df`)\n",
    "  - returns the correlation between `x` and `y` columns\n",
    "- `include_groups=False` → exclude the grouping column ('dataset') from `df`, passed to the lambda function\n",
    "\n",
    "Instead of using `include_groups` we could select only the `x` and `y` columns:"
   ]
  },
  {
   "cell_type": "code",
   "execution_count": null,
   "id": "30",
   "metadata": {},
   "outputs": [],
   "source": [
    "anscombe.groupby('dataset')[['x', 'y']].apply(lambda df: df['x'].corr(df['y']))"
   ]
  },
  {
   "cell_type": "markdown",
   "id": "31",
   "metadata": {},
   "source": [
    "Either are equivalent to manually building a list of correlations and converting it to a dataframe with the dataset as the index:"
   ]
  },
  {
   "cell_type": "code",
   "execution_count": null,
   "id": "32",
   "metadata": {},
   "outputs": [],
   "source": [
    "correlations = []\n",
    "for dataset in ['I', 'II', 'III', 'IV']:\n",
    "    data = anscombe[anscombe['dataset'] == dataset]\n",
    "    corr = data['x'].corr(data['y'])\n",
    "    correlations.append((dataset, corr))\n",
    "    \n",
    "pd.DataFrame(correlations, columns=['dataset', 'correlation']).set_index('dataset')"
   ]
  },
  {
   "cell_type": "markdown",
   "id": "33",
   "metadata": {},
   "source": [
    "Or building a dictionary of `dataset:corr` k-v pairs and converting it to a series..."
   ]
  },
  {
   "cell_type": "code",
   "execution_count": null,
   "id": "34",
   "metadata": {},
   "outputs": [],
   "source": [
    "correlations = {}\n",
    "for dataset in ['I', 'II', 'III', 'IV']:\n",
    "    data = anscombe[anscombe['dataset'] == dataset]\n",
    "    correlations[dataset] = data['x'].corr(data['y'])\n",
    "    \n",
    "pd.Series(correlations, name='correlation')"
   ]
  },
  {
   "cell_type": "markdown",
   "id": "35",
   "metadata": {},
   "source": [
    "The one-liner is more _idomatic_ to Pandas - more like the kind of Pandas you will see in the wild (pun intended)."
   ]
  },
  {
   "cell_type": "markdown",
   "id": "36",
   "metadata": {},
   "source": [
    "### Matplotlib and Seaborn"
   ]
  },
  {
   "cell_type": "markdown",
   "id": "37",
   "metadata": {},
   "source": [
    "####  Pandas is a matplotlib _Wrapper_"
   ]
  },
  {
   "cell_type": "markdown",
   "id": "38",
   "metadata": {},
   "source": [
    "Pandas incorporates matplotlib and gives you a \"friendly\", higher-level _interface_ (aka _wrapper_) to its functions. This interface is called an API (application programming interface), which is a specification that describes the way two pieces of software \"talk\" to one another - the interface between them."
   ]
  },
  {
   "cell_type": "code",
   "execution_count": null,
   "id": "39",
   "metadata": {},
   "outputs": [],
   "source": [
    "type(plot1)"
   ]
  },
  {
   "cell_type": "markdown",
   "id": "40",
   "metadata": {},
   "source": [
    "As you can see, the plot we originally created with Pandas is, in fact, a matplotlib object!\n",
    "\n",
    "Pandas' `plot` method supports several important chart types, including:\n",
    "\n",
    "- `scatter` for relationships\n",
    "- `line` for trends\n",
    "- `histogram` for univariate distributions\n",
    "- `box` for distribution summary and outliers\n",
    "- `bar` for categorical comparisons\n",
    "\n",
    "You can do a lot with Pandas' plot functionality alone, but for complete control, you need matplotlib. For something in-between Pandas and matplotlib (plus some statistical goodies), there is Seaborn."
   ]
  },
  {
   "cell_type": "markdown",
   "id": "41",
   "metadata": {},
   "source": [
    "#### Matplotlib"
   ]
  },
  {
   "cell_type": "markdown",
   "id": "42",
   "metadata": {},
   "source": [
    "For now, let's look at what matplotlib can do..."
   ]
  },
  {
   "cell_type": "code",
   "execution_count": null,
   "id": "43",
   "metadata": {},
   "outputs": [],
   "source": [
    "import matplotlib.pyplot as plt\n",
    "import numpy as np\n",
    "\n",
    "# Create a 2x2 subplot grid\n",
    "fig, axes = plt.subplots(2, 2, figsize=(10, 8))\n",
    "fig.suptitle(\"Anscombe's Quartet: Same Stats, Different Data\", \n",
    "             fontsize=16, fontweight='bold')\n",
    "\n",
    "# Flatten axes for easier iteration\n",
    "axes = axes.flatten()\n",
    "\n",
    "# Plot each dataset\n",
    "for i, dataset in enumerate(['I', 'II', 'III', 'IV']):\n",
    "    ax = axes[i]\n",
    "    data = anscombe[anscombe['dataset'] == dataset]\n",
    "    \n",
    "    # Scatter plot\n",
    "    ax.scatter(data['x'], data['y'], s=30, alpha=0.6, color='steelblue')\n",
    "    \n",
    "    # Add regression line\n",
    "    x = data['x']\n",
    "    y = data['y']\n",
    "    z = np.polyfit(x, y, 1)\n",
    "    p = np.poly1d(z)\n",
    "    ax.plot(x, p(x), 'r--', linewidth=2, alpha=0.8)\n",
    "    \n",
    "    # Formatting\n",
    "    ax.set_title(f'Dataset {dataset}', fontsize=12, pad=10)\n",
    "    ax.set_xlabel('x', fontsize=10)\n",
    "    ax.set_ylabel('y', fontsize=10)\n",
    "    ax.grid(True, alpha=0.3)\n",
    "    ax.set_xlim(2, 20)\n",
    "    ax.set_ylim(2, 14)\n",
    "\n",
    "plt.tight_layout()\n",
    "plt.show()"
   ]
  },
  {
   "cell_type": "markdown",
   "id": "44",
   "metadata": {},
   "source": [
    "#### Seaborn"
   ]
  },
  {
   "cell_type": "markdown",
   "id": "45",
   "metadata": {},
   "source": [
    "Or with seaborn..."
   ]
  },
  {
   "cell_type": "code",
   "execution_count": null,
   "id": "46",
   "metadata": {},
   "outputs": [],
   "source": [
    "import seaborn as sns\n",
    "import matplotlib.pyplot as plt\n",
    "from scipy import stats\n",
    "\n",
    "# Load the data\n",
    "anscombe = sns.load_dataset('anscombe')\n",
    "\n",
    "# Set style\n",
    "sns.set_theme(style=\"darkgrid\", palette=\"muted\")\n",
    "\n",
    "# Create FacetGrid\n",
    "g = sns.FacetGrid(anscombe, col='dataset', col_wrap=2, \n",
    "                  height=4.5, aspect=1.2)\n",
    "\n",
    "# Plot with regression\n",
    "g.map_dataframe(sns.regplot, x='x', y='y',\n",
    "                scatter_kws={'s': 20, 'alpha': 0.6, 'color': 'steelblue'},\n",
    "                line_kws={'color': 'crimson', 'linewidth': 2.5, 'linestyle': '--'},\n",
    "                ci=95)\n",
    "\n",
    "# Add statistics to each plot\n",
    "def add_stats(data, **kwargs):\n",
    "    ax = plt.gca()\n",
    "    x, y = data['x'], data['y']\n",
    "    \n",
    "    # Calculate statistics\n",
    "    r, p = stats.pearsonr(x, y)\n",
    "    slope, intercept = np.polyfit(x, y, 1)\n",
    "    \n",
    "    # Create text box\n",
    "    stats_text = f'r = {r:.3f}\\ny = {slope:.2f}x + {intercept:.2f}'\n",
    "    ax.text(0.05, 0.95, stats_text, \n",
    "            transform=ax.transAxes,\n",
    "            fontsize=11, verticalalignment='top',\n",
    "            bbox=dict(boxstyle='round', facecolor='wheat', alpha=0.8, pad=0.5))\n",
    "\n",
    "g.map_dataframe(add_stats)\n",
    "\n",
    "# Titles\n",
    "g.set_titles(\"Dataset {col_name}\", size=15, weight='bold')\n",
    "g.set_axis_labels(\"x\", \"y\", size=13)\n",
    "g.fig.suptitle(\"Anscombe's Quartet: Regression Analysis\", \n",
    "               fontsize=17, fontweight='bold', y=1.01)\n",
    "\n",
    "plt.tight_layout()\n",
    "plt.show()"
   ]
  },
  {
   "cell_type": "markdown",
   "id": "47",
   "metadata": {},
   "source": [
    "Seaborn is built on top of matplotlib but specializes in statistical graphics.\n",
    "\n",
    "Notice how much less code we need for:\n",
    "\n",
    "- Automatic faceting by categorical variable (`col='dataset'`)\n",
    "- Built-in regression lines with confidence intervals\n",
    "- Beautiful default styling\n",
    "- Consistent formatting across subplots\n",
    "\n",
    "Seaborn sits between Pandas plotting (fastest) and matplotlib (most control). It's perfect for EDA when you want both statistics and aesthetics."
   ]
  }
 ],
 "metadata": {
  "kernelspec": {
   "display_name": "INSY6500-Py4EDA",
   "language": "python",
   "name": "insy6500-py4eda"
  },
  "language_info": {
   "codemirror_mode": {
    "name": "ipython",
    "version": 3
   },
   "file_extension": ".py",
   "mimetype": "text/x-python",
   "name": "python",
   "nbconvert_exporter": "python",
   "pygments_lexer": "ipython3",
   "version": "3.13.5"
  }
 },
 "nbformat": 4,
 "nbformat_minor": 5
}
