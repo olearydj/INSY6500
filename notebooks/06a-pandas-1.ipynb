{
 "cells": [
  {
   "cell_type": "markdown",
   "metadata": {
    "id": "NNTI80eWNkCE"
   },
   "source": [
    "# Intro to Pandas"
   ]
  },
  {
   "cell_type": "markdown",
   "metadata": {
    "id": "bRepffmJmZvm"
   },
   "source": [
    "Pandas is designed primarily for manipulating tabular (i.e., 2D).\n",
    "\n",
    "The *DataFrame* is Pandas' primary data structure - a 2D table where columns are *Series* (1D arrays) that can have different types. This matches how we typically think about data: observations (rows) described by named attributes (columns)."
   ]
  },
  {
   "cell_type": "code",
   "execution_count": null,
   "metadata": {
    "colab": {
     "base_uri": "https://localhost:8080/"
    },
    "id": "1Zi9UFUhfhC8",
    "outputId": "85f1aa35-7bec-4dc3-d883-4a81611174b2"
   },
   "outputs": [],
   "source": [
    "import numpy as np\n",
    "import pandas as pd  # similar convention for name"
   ]
  },
  {
   "cell_type": "code",
   "execution_count": null,
   "metadata": {},
   "outputs": [],
   "source": [
    "table = [\n",
    "    [1, 2, 3],\n",
    "    [4, 5, 6],\n",
    "    [7, 8, 9]\n",
    "]\n",
    "\n",
    "# 2D array from a nested list (list of lists, or table)\n",
    "arr_2d = np.array(table)\n",
    "print(arr_2d)\n",
    "type(arr_2d)"
   ]
  },
  {
   "cell_type": "code",
   "execution_count": null,
   "metadata": {
    "colab": {
     "base_uri": "https://localhost:8080/"
    },
    "id": "1Zi9UFUhfhC8",
    "outputId": "85f1aa35-7bec-4dc3-d883-4a81611174b2"
   },
   "outputs": [],
   "source": [
    "# Let's convert our table array into a pandas DataFrame\n",
    "# Same data, but now with column names\n",
    "df = pd.DataFrame(arr_2d, columns=['A', 'B', 'C'])\n",
    "print(df)"
   ]
  },
  {
   "cell_type": "markdown",
   "metadata": {
    "id": "TXOVOxnxqKo7"
   },
   "source": [
    "Pandas simplifies column access by supporting named references."
   ]
  },
  {
   "cell_type": "code",
   "execution_count": null,
   "metadata": {
    "colab": {
     "base_uri": "https://localhost:8080/"
    },
    "id": "2bHxjzfaoO9W",
    "outputId": "d808403d-a80d-4040-82b3-6a3374d696d9"
   },
   "outputs": [],
   "source": [
    "# NumPy uses somewhat cryptic indexing syntax\n",
    "print(\"NumPy - first column:\", arr_2d[:,0])\n",
    "\n",
    "# Pandas allows named columns\n",
    "print(\"\\nPandas - column 'A':\")\n",
    "print(df['A'])  # direct access by name"
   ]
  },
  {
   "cell_type": "markdown",
   "metadata": {
    "id": "xe6pmw1crFUj"
   },
   "source": [
    "Conceptually,\n",
    "\n",
    "- A Pandas Series is like a 1D NumPy array with (optional) labels for indicies\n",
    "- A Pandas Dataframe is like a group of named Series that represent the columnar data.\n",
    "\n",
    "Where NumPy arrays are homogeneous, every column (Series) in a Pandas DataFrame has it's own type.\n",
    "\n",
    "This is much more in line with real world use cases, where each attribute represents different observed values. For example, a table of collected data might include the age, sex / gender, country of origin, date of birth, and score for each participant in a study."
   ]
  },
  {
   "cell_type": "code",
   "execution_count": null,
   "metadata": {
    "colab": {
     "base_uri": "https://localhost:8080/"
    },
    "id": "TMlUIQLSqiNJ",
    "outputId": "11706df8-38e9-46bc-a6e6-4111e64cfc25"
   },
   "outputs": [],
   "source": [
    "# Create a DataFrame with example participant data\n",
    "df = pd.DataFrame({\n",
    "   'age': [25, 34, 28, 22],\n",
    "   'gender': ['F', 'M', 'F', 'NB'],\n",
    "   'country': ['USA', 'India', 'Canada', 'Mexico'],\n",
    "   'birth_date': pd.to_datetime(['1999-03-15', '1990-08-22', '1996-11-03', '2002-05-30']),\n",
    "   'score': [82.5, 91.0, 88.5, 79.0]\n",
    "})\n",
    "\n",
    "# Show the data types of each column\n",
    "print(\"Column types:\")\n",
    "print(df.dtypes)\n",
    "\n",
    "# Show the first few rows of data\n",
    "print(\"\\nFirst few rows:\")\n",
    "print(df)"
   ]
  },
  {
   "cell_type": "markdown",
   "metadata": {},
   "source": [
    "Here we have constructed a table as a dictionary of lists, where:\n",
    "\n",
    "- the dictionary represents the table\n",
    "- keys are named columns\n",
    "- values are the rows, the attribute value for that observation\n",
    "\n",
    "In the example above we've directly converted a dictionary constructed in that fashion into a table (Pandas dataframe)."
   ]
  },
  {
   "cell_type": "markdown",
   "metadata": {},
   "source": [
    "## Core Data Structures"
   ]
  },
  {
   "cell_type": "markdown",
   "metadata": {},
   "source": [
    "Pandas is built on top of NumPy and adopts many of its idioms. But Pandas is designed for working with heterogenous tabular data, where NumPy is built for n-dimensional homogeneous numerical arrays.\n",
    "\n",
    "Note: Parts of this notebook is adapted from chapter 5 of McKinney, which is available in HTML format here: [Pandas Basics](https://wesmckinney.com/book/pandas-basics).\n",
    "\n",
    "Other portions draw from VanderPlas, chapters 13-16.\n",
    "\n",
    "Our work with Pandas will rely on an understanding of its primary data structures, the `pd.Series` and `pd.DataFrame`."
   ]
  },
  {
   "cell_type": "markdown",
   "metadata": {},
   "source": [
    "### Pandas Series\n",
    "\n",
    "`Series` wraps a one-dimensional NumPy array with additional functionality, including named indicies. By default, numbered indicies are assigned.\n",
    "\n",
    "For example, imagine some results from a focus test conducted at various sites around the country."
   ]
  },
  {
   "cell_type": "code",
   "execution_count": null,
   "metadata": {},
   "outputs": [],
   "source": [
    "res = pd.Series([11.8, 30., 4.2, 3.4])\n",
    "res"
   ]
  },
  {
   "cell_type": "markdown",
   "metadata": {},
   "source": [
    "This output shows the default numeric indicies, corresponding values, and data type for the object.\n",
    "\n",
    "The values and index can be accessed through attributes of the same name."
   ]
  },
  {
   "cell_type": "code",
   "execution_count": null,
   "metadata": {},
   "outputs": [],
   "source": [
    "res.values"
   ]
  },
  {
   "cell_type": "code",
   "execution_count": null,
   "metadata": {},
   "outputs": [],
   "source": [
    "type(res.values)"
   ]
  },
  {
   "cell_type": "markdown",
   "metadata": {},
   "source": [
    "The values are a standard `ndarray`, but the index is a special type."
   ]
  },
  {
   "cell_type": "code",
   "execution_count": null,
   "metadata": {},
   "outputs": [],
   "source": [
    "res.index"
   ]
  },
  {
   "cell_type": "markdown",
   "metadata": {},
   "source": [
    "The index can consist of any value type. To specify the labels, use the index parameter."
   ]
  },
  {
   "cell_type": "code",
   "execution_count": null,
   "metadata": {},
   "outputs": [],
   "source": [
    "res_1 = pd.Series([11.8, 30., 4.2, 3.4],\n",
    "                 index=[\"Orlando\", \"Auburn\", \"Atlanta\", \"Birmingham\"])\n",
    "res_1"
   ]
  },
  {
   "cell_type": "markdown",
   "metadata": {},
   "source": [
    "This creates an association between the site and its results data. In base Python, associations of this type are typically represented by `dict` (dictionary) objects.\n",
    "\n",
    "You can easily convert a Pandas Series into a Python dictionary with the `to_dict` method."
   ]
  },
  {
   "cell_type": "code",
   "execution_count": null,
   "metadata": {},
   "outputs": [],
   "source": [
    "res_1.to_dict()"
   ]
  },
  {
   "cell_type": "markdown",
   "metadata": {},
   "source": [
    "Python dictionaries map keys (e.g. site names) to values (e.g. results). They are represented by a comma separated list of key:value pairs surrounded by curly brackets.\n",
    "\n",
    "Given a dictionary, you can directly create a Series with labeled indicies."
   ]
  },
  {
   "cell_type": "code",
   "execution_count": null,
   "metadata": {},
   "outputs": [],
   "source": [
    "data = {\"Miami\": 10.2, \"Auburn\": 15.25, \"Birmingham\": 7.1, \"Tuscaloosa\": 1.0}\n",
    "res_2 = pd.Series(data)\n",
    "res_2"
   ]
  },
  {
   "cell_type": "markdown",
   "metadata": {},
   "source": [
    "Elements of a Series can be accessed by label using the `[]` operator. Index based access in this fashion is ambiguous and discouraged. In fact, future versions of Pandas will not support index based access for `pd.Series` objects."
   ]
  },
  {
   "cell_type": "code",
   "execution_count": null,
   "metadata": {},
   "outputs": [],
   "source": [
    "print(res_1['Orlando'])  # clear intent\n",
    "print(res_1[0])          # do we mean a label named `0` or index `0`?"
   ]
  },
  {
   "cell_type": "markdown",
   "metadata": {},
   "source": [
    "Instead, it is better to use `loc` and `iloc` methods, as described in the subsequent lecture, for most Series and DataFrame access. This makes the interface consistent and explicit."
   ]
  },
  {
   "attachments": {},
   "cell_type": "markdown",
   "metadata": {},
   "source": [
    "### Pandas DataFrame\n",
    "\n",
    "A DataFrame represents tabular data. It contains an ordered, named collection of columns, each of which is a Series. Because of the associative relationship between names and columns, a DataFrame can be thought of as a dictionary of Series with a shared index.\n",
    "\n",
    "As such, it is common to construct a DataFrame from a Python dictionary, where keys are the column names and values are equal-length lists."
   ]
  },
  {
   "cell_type": "code",
   "execution_count": null,
   "metadata": {},
   "outputs": [],
   "source": [
    "data = {\"state\": [\"Ohio\", \"Ohio\", \"Ohio\", \"Nevada\", \"Nevada\", \"Nevada\"],\n",
    "            \"year\": [2000, 2001, 2002, 2001, 2002, 2003],\n",
    "            \"pop\": [1.5, 1.7, 3.6, 2.4, 2.9, 3.2]}\n",
    "frame = pd.DataFrame(data)\n",
    "print(frame)"
   ]
  },
  {
   "cell_type": "markdown",
   "metadata": {},
   "source": [
    "Again, the default numerical index is provided. Columns are listed in the order of keyes in the data."
   ]
  },
  {
   "cell_type": "markdown",
   "metadata": {},
   "source": [
    "You can specify the column order with the argument of the same name, which takes a list of names. If a new column name is included, missing values will result."
   ]
  },
  {
   "cell_type": "code",
   "execution_count": null,
   "metadata": {},
   "outputs": [],
   "source": [
    "frame2 = pd.DataFrame(data, columns=['year', 'state', 'pop', 'debt'])\n",
    "frame2"
   ]
  },
  {
   "cell_type": "markdown",
   "metadata": {},
   "source": [
    "`NaN` (Not A Number) is commonly used to represent missing values in Pandas. We'll discuss it further in a later section.\n",
    "\n"
   ]
  },
  {
   "cell_type": "markdown",
   "metadata": {},
   "source": [
    "Columns can be accessed by name or as attributes using dot notation."
   ]
  },
  {
   "cell_type": "code",
   "execution_count": null,
   "metadata": {},
   "outputs": [],
   "source": [
    "frame2['state']"
   ]
  },
  {
   "cell_type": "code",
   "execution_count": null,
   "metadata": {},
   "outputs": [],
   "source": [
    "frame2.year"
   ]
  },
  {
   "cell_type": "markdown",
   "metadata": {},
   "source": [
    "Note that named access works for any column name where dot notation will only work when the column name is a valid Python variable name that does not conflict with other methods. As a result, name based access is considered best practice.\n",
    "\n",
    "We can extend the comparison of a Series and a Dictionary to include row labels. As a collection of named columns can be represented by a dictionary of names and column data, each column can be thought of as a collection of named rows."
   ]
  },
  {
   "cell_type": "code",
   "execution_count": null,
   "metadata": {},
   "outputs": [],
   "source": [
    "# nested dictionary of col_name:col_data\n",
    "# where col_data is a dict of year:value\n",
    "populations = {\n",
    "    \"Ohio\": {2000: 1.5, 2001: 1.7, 2002: 3.6},\n",
    "    \"Nevada\": {2001: 2.4, 2002: 2.9},\n",
    "    \"Texas\": {2000: 8.4, 2001: 8.8}\n",
    "}\n",
    "\n",
    "frame3 = pd.DataFrame(populations)\n",
    "print(frame3)"
   ]
  },
  {
   "cell_type": "code",
   "execution_count": null,
   "metadata": {},
   "outputs": [],
   "source": []
  }
 ],
 "metadata": {
  "colab": {
   "provenance": []
  },
  "kernelspec": {
   "display_name": "INSY6500-Py4EDA",
   "language": "python",
   "name": "insy6500-py4eda"
  },
  "language_info": {
   "codemirror_mode": {
    "name": "ipython",
    "version": 3
   },
   "file_extension": ".py",
   "mimetype": "text/x-python",
   "name": "python",
   "nbconvert_exporter": "python",
   "pygments_lexer": "ipython3",
   "version": "3.13.5"
  }
 },
 "nbformat": 4,
 "nbformat_minor": 4
}
