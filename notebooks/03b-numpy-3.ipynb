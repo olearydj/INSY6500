{
 "cells": [
  {
   "cell_type": "markdown",
   "metadata": {
    "id": "NNTI80eWNkCE"
   },
   "source": [
    "# Intro to NumPy"
   ]
  },
  {
   "cell_type": "code",
   "execution_count": null,
   "metadata": {},
   "outputs": [],
   "source": [
    "import numpy as np"
   ]
  },
  {
   "cell_type": "markdown",
   "metadata": {},
   "source": [
    "## Advanced Indexing Techniques"
   ]
  },
  {
   "cell_type": "markdown",
   "metadata": {},
   "source": [
    "### Boolean Indexing"
   ]
  },
  {
   "cell_type": "markdown",
   "metadata": {},
   "source": [
    "As we've seen before, array comparisons result in an array of True / False values that indicate the result of that comparison for each element."
   ]
  },
  {
   "cell_type": "code",
   "execution_count": null,
   "metadata": {},
   "outputs": [],
   "source": [
    "# Create an array\n",
    "arr = np.array([10, 15, 20, 25, 30])\n",
    "\n",
    "# Create a boolean mask (True/False array)\n",
    "mask = arr > 20\n",
    "print(\"Mask:\", mask)"
   ]
  },
  {
   "cell_type": "markdown",
   "metadata": {},
   "source": [
    "That mask can be used to select elements of the original array (or any of the same shape)."
   ]
  },
  {
   "cell_type": "code",
   "execution_count": null,
   "metadata": {},
   "outputs": [],
   "source": [
    "# Use boolean indexing to select elements\n",
    "filtered = arr[mask]\n",
    "print(\"Values > 20:\", filtered)"
   ]
  },
  {
   "cell_type": "markdown",
   "metadata": {},
   "source": [
    "Since the original comparison is just an expression, you can use it directly in the index operator:"
   ]
  },
  {
   "cell_type": "code",
   "execution_count": null,
   "metadata": {},
   "outputs": [],
   "source": [
    "# new array with all values of arr less than 20\n",
    "arr[arr < 20]"
   ]
  },
  {
   "cell_type": "markdown",
   "metadata": {},
   "source": [
    "This can be mixed with traditional indexing and slicing, as shown in the examples below."
   ]
  },
  {
   "cell_type": "code",
   "execution_count": null,
   "metadata": {},
   "outputs": [],
   "source": [
    "arr_2d = np.array([[1, 2, 3, 4],\n",
    "                   [5, 6, 7, 8],\n",
    "                   [9, 10, 11, 12]])\n",
    "\n",
    "# select all rows where the first element is greater than 3\n",
    "row_mask = arr_2d[:, 0] > 3\n",
    "\n",
    "print(row_mask)"
   ]
  },
  {
   "cell_type": "code",
   "execution_count": null,
   "metadata": {},
   "outputs": [],
   "source": [
    "# with indexing: column 2 of the previous result\n",
    "idx = arr_2d[row_mask, 2]\n",
    "print(\"Column 2 for selected rows:\\n\", idx)\n",
    "\n",
    "# with slicing: second and third columns of the masked rows\n",
    "slice = arr_2d[row_mask, 1:3]\n",
    "print(\"\\nCols 1:3 for selected rows:\\n\", slice)"
   ]
  },
  {
   "cell_type": "markdown",
   "metadata": {},
   "source": [
    "If we want the opposite, the tilde character (`~`) negates the condition. Here `~row_mask` will give us the rows not previously selected."
   ]
  },
  {
   "cell_type": "code",
   "execution_count": null,
   "metadata": {},
   "outputs": [],
   "source": [
    "~row_mask"
   ]
  },
  {
   "cell_type": "code",
   "execution_count": null,
   "metadata": {},
   "outputs": [],
   "source": [
    "# indexing example, negated\n",
    "idx = arr_2d[~row_mask, 2]\n",
    "print(\"Column 2 for selected row:\\n\", idx)\n",
    "\n",
    "# slicing example, negated\n",
    "slice = arr_2d[~row_mask, 1:3]\n",
    "print(\"\\nCols 1:3 for selected row:\\n\", slice)"
   ]
  },
  {
   "cell_type": "markdown",
   "metadata": {},
   "source": [
    "These operations can be expanded further by combining conditionals using NumPy's Boolean arithmetic operators `&` for and, and `|` for or. For example, the following statement would create a Boolean array containing the value True for every element of `names` that was equal to \"Bob\" or \"Will\". All other elements would be False.\n",
    "\n",
    "`mask = (names == \"Bob\") | (names == \"Will\")`\n",
    "\n",
    "Note that the Pandas keywords `and` and `or` doe not work with NumPy Boolean arrays. You must use the symbols instead."
   ]
  },
  {
   "cell_type": "markdown",
   "metadata": {},
   "source": [
    "### Fancy Indexing"
   ]
  },
  {
   "cell_type": "markdown",
   "metadata": {},
   "source": [
    "NumPy provides one last indexing trick, and it is fancy. Anywhere we've used an integer to index or slice an array, you can use a list of integers instead."
   ]
  },
  {
   "cell_type": "code",
   "execution_count": null,
   "metadata": {},
   "outputs": [],
   "source": [
    "arr = np.zeros((8, 4))\n",
    "\n",
    "for i in range(len(arr)):\n",
    "    arr[i] = i\n",
    "\n",
    "arr"
   ]
  },
  {
   "cell_type": "markdown",
   "metadata": {},
   "source": [
    "To select a subset of rows, use a list (or `ndarray`) of integers specifying the desired order."
   ]
  },
  {
   "cell_type": "code",
   "execution_count": null,
   "metadata": {},
   "outputs": [],
   "source": [
    "arr[[4, 3, 0, 6]]"
   ]
  },
  {
   "cell_type": "markdown",
   "metadata": {},
   "source": [
    "When assigning the result to a new variable, fancy indexing always creates a new array. When used to assign values, the indexed values will be modified. We will explore fancy indexing in more detail as required.\n",
    "\n",
    "Together, these tools provide a powerful way to operate on specific values in an array based on conditions and location in the data. All these benefits convey to Pandas."
   ]
  },
  {
   "cell_type": "markdown",
   "metadata": {},
   "source": [
    "## Universal Functions"
   ]
  },
  {
   "cell_type": "markdown",
   "metadata": {},
   "source": [
    "A universal function, or `ufunc`, is a function that performs element-wise operations on data in an `ndarray`. To get the benefit of vectorized operations (speed, memory efficiency), you must use them instead of the base Python equivalents.\n",
    "\n",
    "We've covered several already, but many others exist. See the [NumPy documentation](https://numpy.org/doc/stable/reference/ufuncs.html) for a complete list and additional details. There, the available `ufuncs` are grouped as follows:\n",
    "\n",
    "- Math Operations\n",
    "- Trigonometric Functions\n",
    "- Bit-twiddling Functions (not class relevant)\n",
    "- Comparison Functions\n",
    "- Floating Functions\n"
   ]
  },
  {
   "cell_type": "markdown",
   "metadata": {},
   "source": [
    "## Broadcasting"
   ]
  },
  {
   "cell_type": "markdown",
   "metadata": {},
   "source": [
    "## Array-Oriented Programming"
   ]
  },
  {
   "cell_type": "code",
   "execution_count": null,
   "metadata": {},
   "outputs": [],
   "source": []
  }
 ],
 "metadata": {
  "colab": {
   "provenance": []
  },
  "kernelspec": {
   "display_name": "INSY6500-Py4EDA",
   "language": "python",
   "name": "insy6500-py4eda"
  },
  "language_info": {
   "codemirror_mode": {
    "name": "ipython",
    "version": 3
   },
   "file_extension": ".py",
   "mimetype": "text/x-python",
   "name": "python",
   "nbconvert_exporter": "python",
   "pygments_lexer": "ipython3",
   "version": "3.13.5"
  }
 },
 "nbformat": 4,
 "nbformat_minor": 4
}
