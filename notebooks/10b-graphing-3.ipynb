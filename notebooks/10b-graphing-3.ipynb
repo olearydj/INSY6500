{
 "cells": [
  {
   "cell_type": "markdown",
   "id": "0",
   "metadata": {},
   "source": [
    "# Graphing, 3/3"
   ]
  },
  {
   "cell_type": "markdown",
   "id": "1",
   "metadata": {},
   "source": [
    "Final(ish) part in our exploration of key graphing libraries.\n",
    "\n",
    "- Use Seaborn for statistical visualization (2/2)\n",
    "- The Matplotlib API\n"
   ]
  },
  {
   "cell_type": "code",
   "execution_count": null,
   "id": "2",
   "metadata": {},
   "outputs": [],
   "source": [
    "import pandas as pd\n",
    "import seaborn as sns\n",
    "\n",
    "diamonds = sns.load_dataset('diamonds')\n",
    "df = diamonds.sample(n=5000, random_state=42)\n",
    "df.head()"
   ]
  },
  {
   "cell_type": "markdown",
   "id": "3",
   "metadata": {},
   "source": [
    "## Seaborn: Statistical Graphics"
   ]
  },
  {
   "cell_type": "markdown",
   "id": "4",
   "metadata": {},
   "source": [
    "Seaborn builds on matplotlib to provide:\n",
    "\n",
    "- Statistical visualizations (regression, distributions, confidence intervals)\n",
    "- Beautiful defaults with minimal code\n",
    "- Easy aesthetic mappings (`hue`, `size`, `style`)\n",
    "- Grammar of Graphics concepts in practice\n",
    "\n",
    "It returns matplotlib objects, so you can customize further if needed. Let's see it in action."
   ]
  },
  {
   "cell_type": "markdown",
   "id": "5",
   "metadata": {},
   "source": [
    "### Seaborn's API Pattern\n",
    "\n",
    "Consistent API across all plot types:\n",
    "\n",
    "```python\n",
    "sns.function_name(\n",
    "    data=df,           # 1. Your DataFrame\n",
    "    x='column1',       # 2. What goes where\n",
    "    y='column2',\n",
    "    hue='category',    # 3. Aesthetic mappings (optional)\n",
    "    size='continuous',\n",
    "    style='category2'\n",
    ")\n",
    "```\n",
    "\n",
    "The key difference from Pandas:\n",
    "\n",
    "- Pandas: `df.plot.scatter(x='col1', y='col2')`\n",
    "- Seaborn: `sns.scatterplot(data=df, x='col1', y='col2')`\n",
    "\n",
    "Separating the data from the aesthetics enables more powerful mappings.\n",
    "\n",
    "#### Function families\n",
    "\n",
    "- Relational: `scatterplot`, `lineplot`, `regplot`\n",
    "- Distributional: `histplot`, `kdeplot`, `boxplot`, `violinplot`\n",
    "- Categorical: `barplot`, `countplot`, `stripplot`, `swarmplot`\n",
    "\n",
    "Choose based on your variable types and question."
   ]
  },
  {
   "cell_type": "markdown",
   "id": "6",
   "metadata": {},
   "source": [
    "Notice how the parameters map to Grammar of Graphics components:\n",
    "\n",
    "- `data` = your dataset\n",
    "- `x`, `y` = aesthetic mappings (position)\n",
    "- `hue`, `size`, `style` = aesthetic mappings (color, size, shape)\n",
    "- Function name (e.g., `scatterplot`) = geometry\n",
    "- Built-in statistics (e.g., regression, aggregation) = statistical transformation\n",
    "\n",
    "We'll cover these concepts in action shortly, but first we need to discuss how categorical variables are ordered."
   ]
  },
  {
   "cell_type": "markdown",
   "id": "7",
   "metadata": {},
   "source": [
    "### Ordering Categorical Variables\n",
    "\n",
    "The diamonds dataset has ordered categoricals:\n",
    "- `cut`: Fair < Good < Very Good < Premium < Ideal\n",
    "- `color`: D < E < F < G < H < I < J (D=best/colorless, J=worst)\n",
    "- `clarity`: I1 < SI2 < SI1 < VS2 < VS1 < VVS2 < VVS1 < IF (worst to best)\n",
    "\n",
    "Check the data type, categories, and if it is ordered or not:"
   ]
  },
  {
   "cell_type": "code",
   "execution_count": null,
   "id": "8",
   "metadata": {},
   "outputs": [],
   "source": [
    "print(df['cut'].dtype)\n",
    "print(df['cut'].cat.categories)\n",
    "print(df['cut'].dtype.ordered)"
   ]
  },
  {
   "cell_type": "markdown",
   "id": "9",
   "metadata": {},
   "source": [
    "`cut` is a categorical variable with the allowable values set by its `Index`. Categories are shown in the order specified, they are NOT automatically sorted alphabetically or by frequency.\n",
    "\n",
    "The following cell illustrates the difference between ordered and unordered categories."
   ]
  },
  {
   "cell_type": "code",
   "execution_count": null,
   "id": "10",
   "metadata": {},
   "outputs": [],
   "source": [
    "import pandas as pd\n",
    "\n",
    "# Create unordered categorical\n",
    "unordered = pd.Categorical(\n",
    "    ['Medium', 'High', 'Low', 'Medium', 'High'],\n",
    "    categories=['Low', 'Medium', 'High'],\n",
    "    ordered=False\n",
    ")\n",
    "\n",
    "# Create ordered categorical  \n",
    "ordered = pd.Categorical(\n",
    "    ['Medium', 'High', 'Low', 'Medium', 'High'],\n",
    "    categories=['Low', 'Medium', 'High'],\n",
    "    ordered=True\n",
    ")\n",
    "\n",
    "print(\"Unordered:\")\n",
    "print(f\"  ordered attribute: {unordered.ordered}\")\n",
    "print(f\"  categories: {unordered.categories}\")\n",
    "\n",
    "print(\"\\nOrdered:\")\n",
    "print(f\"  ordered attribute: {ordered.ordered}\")\n",
    "print(f\"  categories: {ordered.categories}\")  "
   ]
  },
  {
   "cell_type": "markdown",
   "id": "11",
   "metadata": {},
   "source": [
    "Under the hood, all categoricals are represented by integer codes:"
   ]
  },
  {
   "cell_type": "code",
   "execution_count": null,
   "id": "12",
   "metadata": {},
   "outputs": [],
   "source": [
    "print(\"--- Internal Representation ---\")\n",
    "print(f\"Unordered codes: {unordered.codes}\")\n",
    "print(f\"Ordered codes:   {ordered.codes}\")\n",
    "print(\"\\nBoth use the SAME integer encoding!\")\n",
    "print(f\"  'Low' -> 0, 'Medium' -> 1, 'High' -> 2\")\n",
    "\n",
    "print(\"\\n--- The ONLY difference is the ordered flag ---\")\n",
    "print(f\"Unordered.ordered: {unordered.ordered}\")\n",
    "print(f\"Ordered.ordered:   {ordered.ordered}\")"
   ]
  },
  {
   "cell_type": "markdown",
   "id": "13",
   "metadata": {},
   "source": [
    "Advantages of categorical variables over strings:\n",
    "\n",
    "- fixed set of acceptable values\n",
    "- memory savings\n",
    "- many techniques require categorical representation (regress on integers, not category names)"
   ]
  },
  {
   "cell_type": "code",
   "execution_count": null,
   "id": "14",
   "metadata": {
    "jupyter": {
     "outputs_hidden": true
    }
   },
   "outputs": [],
   "source": [
    "print(\"\\n--- Memory efficiency ---\")\n",
    "import sys\n",
    "strings = ['Medium', 'High', 'Low'] * 1000\n",
    "categorical = pd.Categorical(strings * 1000)\n",
    "print(f\"3000 strings as list: ~{sys.getsizeof(strings * 1000):,} bytes\")\n",
    "print(f\"3000 strings as categorical: ~{sys.getsizeof(categorical):,} bytes\")\n",
    "print(\"(Categorical stores: int codes + category list)\")"
   ]
  },
  {
   "cell_type": "markdown",
   "id": "15",
   "metadata": {},
   "source": [
    "**Important note**:\n",
    "\n",
    "Scalar indexing of a categorical returns a **string**, so comparisons / ordering is lost:"
   ]
  },
  {
   "cell_type": "code",
   "execution_count": null,
   "id": "16",
   "metadata": {},
   "outputs": [],
   "source": [
    "print(f\"ordered[0]:\\n{ordered[0]}\")\n",
    "print(f\"\\ntype: {type(ordered[0])}\")\n",
    "print(f\"String comparison, 'Low' < 'Medium': {ordered[0] < ordered[1]}\")"
   ]
  },
  {
   "cell_type": "markdown",
   "id": "17",
   "metadata": {},
   "source": [
    "The comparison is string based, not category based.\n",
    "\n",
    "Array slicing preserves the categorical, so ordering is preserved:"
   ]
  },
  {
   "cell_type": "code",
   "execution_count": null,
   "id": "18",
   "metadata": {},
   "outputs": [],
   "source": [
    "print(f\"ordered[[0]]:\\n{ordered[[0]]}\")\n",
    "print(f\"\\ntype: {type(ordered[[0]])}\")\n",
    "print(f\"Categorical comparison, 'Low' < 'Medium': {(ordered[[0]] < ordered[[1]])[0]}\")"
   ]
  },
  {
   "cell_type": "markdown",
   "id": "19",
   "metadata": {},
   "source": [
    "Array comparisons work correctly, e.g. for Boolean masks:"
   ]
  },
  {
   "cell_type": "code",
   "execution_count": null,
   "id": "20",
   "metadata": {},
   "outputs": [],
   "source": [
    "print(f\"ordered:\\n{ordered}\")\n",
    "print(f\"\\nordered < 'High':\")\n",
    "print(ordered < 'High')  # Returns boolean array\n",
    "print(f\"Count less than High: {(ordered < 'High').sum()}\")"
   ]
  },
  {
   "cell_type": "markdown",
   "id": "21",
   "metadata": {},
   "source": [
    "Differences summarized:\n",
    "\n",
    "| Feature | Unordered | Ordered |\n",
    "|---------|-----------|---------|\n",
    "| `.cat.ordered` | `False` | `True` |\n",
    "| Comparisons (`<`, `>`) | ❌ Error | ✅ Works |\n",
    "| Sorting | Arbitrary | By defined order |\n",
    "| Plotting default | Alphabetical or appearance | Categorical order |"
   ]
  },
  {
   "cell_type": "markdown",
   "id": "22",
   "metadata": {},
   "source": [
    "If your data doesn't have ordered categories, there are several ways to set them."
   ]
  },
  {
   "cell_type": "markdown",
   "id": "23",
   "metadata": {},
   "source": [
    "#### Direct Creation of Ordered Categorical Data"
   ]
  },
  {
   "cell_type": "markdown",
   "id": "24",
   "metadata": {},
   "source": [
    "If starting from scratch or reading data."
   ]
  },
  {
   "cell_type": "code",
   "execution_count": null,
   "id": "25",
   "metadata": {},
   "outputs": [],
   "source": [
    "df['cut'] = pd.Categorical(\n",
    "    df['cut'],\n",
    "    categories=['Fair', 'Good', 'Very Good', 'Premium', 'Ideal'],\n",
    "    ordered=True\n",
    ")"
   ]
  },
  {
   "cell_type": "markdown",
   "id": "26",
   "metadata": {},
   "source": [
    "#### For Existing Categorical Data"
   ]
  },
  {
   "cell_type": "markdown",
   "id": "27",
   "metadata": {},
   "source": [
    "To reorder existing categories."
   ]
  },
  {
   "cell_type": "code",
   "execution_count": null,
   "id": "28",
   "metadata": {},
   "outputs": [],
   "source": [
    "df['cut'] = df['cut'].cat.reorder_categories(\n",
    "    ['Fair', 'Good', 'Very Good', 'Premium', 'Ideal'],\n",
    "    ordered=True"
   ]
  },
  {
   "cell_type": "markdown",
   "id": "29",
   "metadata": {},
   "source": [
    "### Quick Tour of Seaborn Plot Types"
   ]
  },
  {
   "cell_type": "markdown",
   "id": "30",
   "metadata": {},
   "source": [
    "#### For Distributions"
   ]
  },
  {
   "cell_type": "markdown",
   "id": "31",
   "metadata": {},
   "source": [
    "##### Histograms with KDE"
   ]
  },
  {
   "cell_type": "markdown",
   "id": "32",
   "metadata": {},
   "source": [
    "Kernel Density Estimation (KDE) gives a smoothed estimate of the underlying distribution. Useful for seeing the shape beyond the binning artifacts of histograms.\n",
    "\n",
    "Seaborn uses the **Freedman-Diaconis rule** for automatic binning, which is more robust to outliers and skewed data than Pandas' method. It calculates optimal bin width based on:\n",
    "\n",
    "$$\\text{bin width} = 2 \\times \\text{IQR} \\times n^{-1/3}$$\n",
    "\n",
    "This adapts to your data's spread and sample size."
   ]
  },
  {
   "cell_type": "code",
   "execution_count": null,
   "id": "33",
   "metadata": {},
   "outputs": [],
   "source": [
    "sns.histplot(data=df, x='carat', kde=True)"
   ]
  },
  {
   "cell_type": "markdown",
   "id": "34",
   "metadata": {},
   "source": [
    "Notice that, by default, Seaborn does not show the grid. It is considered best practice to reduce the clutter in your charts, and the grid isn't normally necessary."
   ]
  },
  {
   "cell_type": "markdown",
   "id": "35",
   "metadata": {},
   "source": [
    "You can also show a cumulative distribution."
   ]
  },
  {
   "cell_type": "code",
   "execution_count": null,
   "id": "36",
   "metadata": {},
   "outputs": [],
   "source": [
    "sns.histplot(data=df, x='price', cumulative=True, \n",
    "             stat='density', kde=True)\n",
    "plt.title('Cumulative Distribution of Price')"
   ]
  },
  {
   "cell_type": "markdown",
   "id": "37",
   "metadata": {},
   "source": [
    "##### Better Box Plots"
   ]
  },
  {
   "cell_type": "markdown",
   "id": "38",
   "metadata": {},
   "source": [
    "Automatic grouping and statistical summaries (quartiles, median, outliers). Add color to show the ordering of cut quality."
   ]
  },
  {
   "cell_type": "code",
   "execution_count": null,
   "id": "39",
   "metadata": {},
   "outputs": [],
   "source": [
    "sns.boxplot(data=df, x='cut', y='price', \n",
    "            hue='cut',\n",
    "            palette='viridis',\n",
    "            legend=False)"
   ]
  },
  {
   "cell_type": "markdown",
   "id": "40",
   "metadata": {},
   "source": [
    "The viridis palette is designed to be friendly to those with color-blindness. Seaborn / matplotlib offer several others."
   ]
  },
  {
   "cell_type": "markdown",
   "id": "41",
   "metadata": {},
   "source": [
    "By default, Seaborn handles ordering of categorical variables as follows:\n",
    "\n",
    "1. If pandas column is **categorical with order** → uses that order\n",
    "2. If just **string/object type** → uses order of appearance or alphabetical\n",
    "3. Can override with `order` parameter"
   ]
  },
  {
   "cell_type": "code",
   "execution_count": null,
   "id": "42",
   "metadata": {},
   "outputs": [],
   "source": [
    "fig, axes = plt.subplots(1, 3, figsize=(15, 4))\n",
    "\n",
    "# Default: uses pandas categorical order\n",
    "sns.countplot(data=df, x='cut', ax=axes[0], legend=False)\n",
    "axes[0].set_title('Default: Pandas Order')\n",
    "\n",
    "# Override with seaborn order parameter (reversed)\n",
    "sns.countplot(data=df, x='cut', \n",
    "              order=['Ideal', 'Premium', 'Very Good', 'Good', 'Fair'],\n",
    "              ax=axes[1], legend=False)\n",
    "axes[1].set_title('Reversed with order=')\n",
    "\n",
    "# Sort by frequency\n",
    "sns.countplot(data=df, x='cut',\n",
    "              order=df['cut'].value_counts().index,\n",
    "              ax=axes[2], legend=False)\n",
    "axes[2].set_title('Sorted by Frequency')\n",
    "\n",
    "plt.tight_layout()"
   ]
  },
  {
   "cell_type": "markdown",
   "id": "43",
   "metadata": {},
   "source": [
    "It is considered best practice to set categorical order in pandas during data cleaning, then all downstream plots use it automatically. Use Seaborn's `order` parameter only for one-off visualizations."
   ]
  },
  {
   "cell_type": "markdown",
   "id": "44",
   "metadata": {},
   "source": [
    "##### Violin Plots"
   ]
  },
  {
   "cell_type": "markdown",
   "id": "45",
   "metadata": {},
   "source": [
    "Combines box plot statistics with full distribution shape. Shows density at different values - wider sections indicate more observations."
   ]
  },
  {
   "cell_type": "code",
   "execution_count": null,
   "id": "46",
   "metadata": {},
   "outputs": [],
   "source": [
    "sns.violinplot(data=df, x='cut', y='price')"
   ]
  },
  {
   "cell_type": "markdown",
   "id": "47",
   "metadata": {},
   "source": [
    "Notice how Premium and Ideal cuts show slight bimodal distributions (two peaks), suggesting distinct price clusters within those grades."
   ]
  },
  {
   "cell_type": "markdown",
   "id": "48",
   "metadata": {},
   "source": [
    "#### Relationship Plots"
   ]
  },
  {
   "cell_type": "markdown",
   "id": "49",
   "metadata": {},
   "source": [
    "##### Scatter with Regression"
   ]
  },
  {
   "cell_type": "markdown",
   "id": "50",
   "metadata": {},
   "source": [
    "Automatically fits a linear regression and shows 95% confidence interval (shaded region).\n",
    "\n",
    "This combines two \"geoms\" (h/t gg) in one plot - point and line. To set the properties of each we use the `scatter_kws` and `line_kws` (keywords) parameters to provide separate dictionaries of settings."
   ]
  },
  {
   "cell_type": "code",
   "execution_count": null,
   "id": "51",
   "metadata": {},
   "outputs": [],
   "source": [
    "sns.regplot(data=df, x='carat', y='price',\n",
    "            scatter_kws={'alpha': 0.3},\n",
    "            line_kws={'color': 'red'})"
   ]
  },
  {
   "cell_type": "markdown",
   "id": "52",
   "metadata": {},
   "source": [
    "Notice how the confidence interval widens at the extremes - we have less data there, so more uncertainty."
   ]
  },
  {
   "cell_type": "markdown",
   "id": "53",
   "metadata": {},
   "source": [
    "##### Line Plots with Uncertainty"
   ]
  },
  {
   "cell_type": "markdown",
   "id": "54",
   "metadata": {},
   "source": [
    "Line plots are best suited for ordered data. Let's create price bins and see how average carat varies across them - demonstrating the Filter → Aggregate → Plot workflow."
   ]
  },
  {
   "cell_type": "code",
   "execution_count": null,
   "id": "55",
   "metadata": {},
   "outputs": [],
   "source": [
    "# Pandas workflow: bin prices, then aggregate by cut\n",
    "df['price_bin'] = pd.cut(df['price'], bins=5, labels=['Very Low', 'Low', 'Medium', 'High', 'Very High'])\n",
    "\n",
    "sns.lineplot(data=df, x='price_bin', y='carat', \n",
    "             hue='cut', marker='o', err_style='bars')"
   ]
  },
  {
   "cell_type": "markdown",
   "id": "56",
   "metadata": {},
   "source": [
    "#### Categorical Plots"
   ]
  },
  {
   "cell_type": "markdown",
   "id": "57",
   "metadata": {},
   "source": [
    "##### Bar Plots with Error Bars"
   ]
  },
  {
   "cell_type": "markdown",
   "id": "58",
   "metadata": {},
   "source": [
    "Automatic aggregation (mean by default) with error bars showing variability.\n",
    "\n",
    "Here we compute mean price by cut, with standard deviation bars."
   ]
  },
  {
   "cell_type": "code",
   "execution_count": null,
   "id": "59",
   "metadata": {},
   "outputs": [],
   "source": [
    "sns.barplot(data=df, x='cut', y='price', \n",
    "            estimator='mean', errorbar='sd',\n",
    "            hue='cut', palette='coolwarm', legend=False)"
   ]
  },
  {
   "cell_type": "markdown",
   "id": "60",
   "metadata": {},
   "source": [
    " Notice Premium has highest average - because it includes more large diamonds, not better quality per se."
   ]
  },
  {
   "cell_type": "markdown",
   "id": "61",
   "metadata": {},
   "source": [
    "##### Count Plots"
   ]
  },
  {
   "cell_type": "markdown",
   "id": "62",
   "metadata": {},
   "source": [
    "Quick frequency visualization - no aggregation needed, just counts observations."
   ]
  },
  {
   "cell_type": "code",
   "execution_count": null,
   "id": "63",
   "metadata": {},
   "outputs": [],
   "source": [
    "sns.countplot(data=df, x='color', \n",
    "              hue='color', palette='Spectral', legend=False)"
   ]
  },
  {
   "cell_type": "markdown",
   "id": "64",
   "metadata": {},
   "source": [
    "Color grades show normal distribution around G-H (middle quality)."
   ]
  },
  {
   "cell_type": "markdown",
   "id": "65",
   "metadata": {},
   "source": [
    "##### Strip / Swarm Plots"
   ]
  },
  {
   "cell_type": "markdown",
   "id": "66",
   "metadata": {},
   "source": [
    "Bar plot style, but shows individual data points, not just aggregates. Strip adds random horizontal \"jitter\" to reduce overplotting.\n",
    "\n",
    "Let's filter to smaller diamonds for clarity."
   ]
  },
  {
   "cell_type": "code",
   "execution_count": null,
   "id": "67",
   "metadata": {},
   "outputs": [],
   "source": [
    "# Filter → Plot workflow\n",
    "small_diamonds = df[df['carat'] < 1.0]\n",
    "\n",
    "sns.stripplot(data=small_diamonds, x='clarity', y='carat', \n",
    "              hue='clarity', palette='Set1', alpha=0.5, legend=False)"
   ]
  },
  {
   "cell_type": "markdown",
   "id": "68",
   "metadata": {},
   "source": [
    "Ack! Choose your color palettes wisely!"
   ]
  },
  {
   "cell_type": "markdown",
   "id": "69",
   "metadata": {},
   "source": [
    "Swarm plot is the same but dots don't overlap. This limits the number of points you can plot without warnings."
   ]
  },
  {
   "cell_type": "code",
   "execution_count": null,
   "id": "70",
   "metadata": {},
   "outputs": [],
   "source": [
    "sns.swarmplot(data=df.sample(100), x='clarity', y='carat')"
   ]
  },
  {
   "cell_type": "markdown",
   "id": "71",
   "metadata": {},
   "source": [
    "### Multiple Aesthetic Mappings\n",
    "\n",
    "Seaborn makes it easy to apply concepts from the Grammar of Graphics, mapping multiple variables to different visual properties.\n",
    "\n",
    "The following plot explores the relationship between carat and price while encoding additional information through color, size, and shape:"
   ]
  },
  {
   "cell_type": "code",
   "execution_count": null,
   "id": "72",
   "metadata": {},
   "outputs": [],
   "source": [
    "sns.scatterplot(data=df.sample(1000), \n",
    "                x='carat', y='price',       # Position aesthetics\n",
    "                hue='cut',                  # Color aesthetic (categorical)\n",
    "                size='depth',               # Size aesthetic (continuous)\n",
    "                style='color',              # Shape aesthetic (categorical)\n",
    "                alpha=0.6,\n",
    "                sizes=(20, 200))"
   ]
  },
  {
   "cell_type": "markdown",
   "id": "73",
   "metadata": {},
   "source": [
    "### Faceting"
   ]
  },
  {
   "cell_type": "markdown",
   "id": "74",
   "metadata": {},
   "source": [
    "Per the component of the same name in the grammar of graphics. Called subplots in matplotlib.\n",
    "\n",
    "Allows us to see how a relationship between two attributes changes based on a third."
   ]
  },
  {
   "cell_type": "code",
   "execution_count": null,
   "id": "75",
   "metadata": {},
   "outputs": [],
   "source": [
    "# define the grid first\n",
    "g = sns.FacetGrid(data=df, col='clarity', col_wrap=4, height=2)\n",
    "\n",
    "# then add plots, specify attributes\n",
    "g.map_dataframe(sns.scatterplot, x='carat', y='price')\n",
    "g.set_titles(\"Category: {col_name}\")"
   ]
  },
  {
   "cell_type": "markdown",
   "id": "76",
   "metadata": {},
   "source": [
    "Use faceting when:\n",
    "\n",
    "- there are too many categories for other aesthetics, e.g. color\n",
    "- you want / need to see within-group patterns\n",
    "- relationships are multi-dimensional"
   ]
  },
  {
   "cell_type": "markdown",
   "id": "77",
   "metadata": {},
   "source": [
    "#### Other Ways to Combine Plots"
   ]
  },
  {
   "attachments": {},
   "cell_type": "markdown",
   "id": "78",
   "metadata": {},
   "source": [
    "In addition to sns' faceting, you can utilize matplotlib subplots or automatically overlay plots.\n",
    "\n",
    "When to use each:\n",
    "\n",
    "- `FacetGrid`: Systematic small multiples across categorical variable\n",
    "- matplotlib `subplots`: Custom layouts, different plot types side-by-side\n",
    "- Overlay: Multiple layers on same axes (like histogram + rug plot)\n",
    "\n",
    "Let's revisit the histogram example and explore auto vs manual binning and show multiple distributions.\n",
    "\n",
    "- Auto-binning is usually good, but you might want:\n",
    "  - More detail (more bins) to see fine structure\n",
    "  - Less noise (fewer bins) for clearer patterns\n",
    "  - Consistent bins across multiple plots for comparison\n",
    "  - Round numbers for interpretability\n"
   ]
  },
  {
   "cell_type": "code",
   "execution_count": null,
   "id": "79",
   "metadata": {},
   "outputs": [],
   "source": [
    "import matplotlib.pyplot as plt\n",
    "\n",
    "# create matplotlib plot object with subplots, get figure and axes for access\n",
    "fig, axes = plt.subplots(1, 3, figsize=(15, 4))\n",
    "\n",
    "# Auto-binning (Seaborn's smart default)\n",
    "sns.histplot(data=df, x='carat', kde=True, ax=axes[0])\n",
    "axes[0].set_title('Auto-binning (Freedman-Diaconis)')\n",
    "\n",
    "# Too few bins - loses detail\n",
    "sns.histplot(data=df, x='carat', bins=10, kde=True, ax=axes[1])\n",
    "axes[1].set_title('Too Few Bins (10)')\n",
    "\n",
    "# Multiple distributions with hue\n",
    "sns.histplot(data=df, x='carat', hue='cut', kde=True, \n",
    "             bins=30, ax=axes[2], alpha=0.5)\n",
    "axes[2].set_title('Multiple Distributions by Cut')\n",
    "\n",
    "plt.tight_layout()"
   ]
  },
  {
   "cell_type": "markdown",
   "id": "80",
   "metadata": {},
   "source": [
    "Alternatively, sequential sns plots are overlayed. The following code adds a \"rug\" plot at the base of the histogram. This gives you another way to visualize the distribution."
   ]
  },
  {
   "cell_type": "code",
   "execution_count": null,
   "id": "81",
   "metadata": {},
   "outputs": [],
   "source": [
    "sns.histplot(data=df, x='carat', kde=True, bins=40)\n",
    "sns.rugplot(data=df, x='carat', height=0.05, alpha=0.3)\n",
    "plt.title('Histogram + Rug Plot (individual points at bottom)')"
   ]
  },
  {
   "cell_type": "markdown",
   "id": "82",
   "metadata": {},
   "source": [
    "### When to Use Seaborn Plotting\n",
    "\n",
    "Use Seaborn When:\n",
    "\n",
    "- ✓ Exploring relationships between variables\n",
    "- ✓ Want statistical transformations (regression, CI)\n",
    "- ✓ Need beautiful defaults quickly\n",
    "- ✓ Using categorical variables extensively\n",
    "- ✓ Want faceting\n",
    "- ✗ Need very custom layouts\n",
    "- ✗ Need fine-grained control"
   ]
  },
  {
   "cell_type": "code",
   "execution_count": null,
   "id": "83",
   "metadata": {},
   "outputs": [],
   "source": []
  }
 ],
 "metadata": {
  "kernelspec": {
   "display_name": "INSY6500-Py4EDA",
   "language": "python",
   "name": "insy6500-py4eda"
  },
  "language_info": {
   "codemirror_mode": {
    "name": "ipython",
    "version": 3
   },
   "file_extension": ".py",
   "mimetype": "text/x-python",
   "name": "python",
   "nbconvert_exporter": "python",
   "pygments_lexer": "ipython3",
   "version": "3.13.5"
  }
 },
 "nbformat": 4,
 "nbformat_minor": 5
}
