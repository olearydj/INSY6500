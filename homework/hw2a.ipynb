{
 "cells": [
  {
   "cell_type": "markdown",
   "id": "0",
   "metadata": {},
   "source": [
    "# HW2A - Terminal, Conda, and Environment Management"
   ]
  },
  {
   "cell_type": "markdown",
   "id": "1",
   "metadata": {},
   "source": [
    "See Canvas for details on how to complete and submit this assignment."
   ]
  },
  {
   "cell_type": "markdown",
   "id": "2",
   "metadata": {},
   "source": [
    "## Introduction"
   ]
  },
  {
   "cell_type": "markdown",
   "id": "3",
   "metadata": {},
   "source": [
    "This assignment establishes your professional development environment using terminal (macOS) or Git Bash (Windows) and conda. You'll move beyond Jupyter notebooks to understand the broader ecosystem that supports data science work - the command line tools, environment management, and utilities that make reproducible analysis possible.\n",
    "\n",
    "### Learning Objectives\n",
    "- Build skills with terminal navigation and file manipulation for efficient development workflows\n",
    "- Create and manage isolated Python environments for reproducible analysis\n",
    "- See how conda manages complete development environments, not just Python packages\n",
    "- Create Python scripts and run them from the command line\n",
    "- Discover new tools that enhance the command line experience\n",
    "\n",
    "By the end, you'll have a properly configured development environment and the skills to maintain it. You'll understand why environments matter for reproducible work and have practical experience with tools that will make your future development more efficient.\n",
    "\n",
    "This assignment should take 60-90 minutes to complete.\n",
    "\n",
    "### Generative AI Allowance\n",
    "You may use GenAI tools for brainstorming, explanations, and debugging if you disclose it, understand it, and validate it. Your submission must represent your own work and you are solely responsible for its correctness.\n",
    "\n",
    "### Scoring\n",
    "- Part 1: Environment Setup (10 pts)\n",
    "- Part 2: Conda Beyond Python (10 pts)\n",
    "- Part 3: Better Tools (10 pts)\n",
    "- Environment Understanding Questions: (10 pts - Graduate only)"
   ]
  },
  {
   "cell_type": "markdown",
   "id": "4",
   "metadata": {},
   "source": [
    "## Terminal, Conda, and Environment Management"
   ]
  },
  {
   "cell_type": "markdown",
   "id": "5",
   "metadata": {},
   "source": [
    "### Part 1: Environment Creation and Directory Structure (10 points)"
   ]
  },
  {
   "cell_type": "markdown",
   "id": "6",
   "metadata": {},
   "source": [
    "You should complete lectures 4b (terminal workshop) and 5a (conda workshop), and review the provided guides for both before proceeding. You may also find it helpful to refer to those guides if you get stuck during this part of the homework.\n",
    "\n",
    "Note: throughout this, when you are asked to copy and paste (copy-paste), we recommend that you use the following keyboard shortcuts:\n",
    "\n",
    "- macOS\n",
    "  - `Command+C` for copy\n",
    "  - `Command+V` for paste\n",
    "- Windows\n",
    "  - `Control+C` for copy\n",
    "  - `Control+V` for paste"
   ]
  },
  {
   "cell_type": "markdown",
   "id": "7",
   "metadata": {},
   "source": [
    "#### Task 1: Create and Configure Environment"
   ]
  },
  {
   "attachments": {},
   "cell_type": "markdown",
   "id": "8",
   "metadata": {},
   "source": [
    "First, if you have not already created the `insy6500` virtual environment as demonstrated in lecture 5a, do so now by following along with the lecture recording and referencing the instructions in the Conda guide. After activating that environment - you should see `(insy6500)` in the terminal prompt - start Jupyter Lab as instructed.\n",
    "\n",
    "Once you have Jupyter Lab running, open a new notebook and paste the following code into it:\n",
    "\n",
    "```python\n",
    "# check insy6500 environment\n",
    "import sys\n",
    "\n",
    "def check_package(name, import_as=None):\n",
    "    \"\"\"Check if a package is installed and print its version.\"\"\"\n",
    "    try:\n",
    "        if import_as:\n",
    "            exec(f\"import {name} as {import_as}\")\n",
    "            module = eval(import_as)\n",
    "        else:\n",
    "            module = __import__(name)\n",
    "        \n",
    "        version = getattr(module, '__version__', 'version unknown')\n",
    "        print(f\"✓ {name:<15} {version}\")\n",
    "        return True\n",
    "    except ImportError:\n",
    "        print(f\"✗ {name:<15} NOT INSTALLED\")\n",
    "        return False\n",
    "\n",
    "# Check all required packages\n",
    "print(\"Checking INSY 6500 required packages:\\n\")\n",
    "packages = [\n",
    "    'numpy',\n",
    "    'pandas', \n",
    "    'jupyter',\n",
    "    'seaborn',\n",
    "    'matplotlib',\n",
    "    'statsmodels',\n",
    "    'scipy'\n",
    "]\n",
    "\n",
    "results = [check_package(pkg) for pkg in packages]\n",
    "\n",
    "# Summary\n",
    "print(\"\\n\" + \"=\"*40)\n",
    "if all(results):\n",
    "    print(\"🎉 All packages installed! Environment ready!\")\n",
    "else:\n",
    "    print(\"⚠️  Some packages missing. Please run:\")\n",
    "    print(\"conda activate insy6500\")\n",
    "    for i, pkg in enumerate(packages):\n",
    "        if not results[i]:\n",
    "            print(f\"conda install {pkg}\")\n",
    "```\n",
    "\n",
    "Run that code and copy-paste the output in the following cell."
   ]
  },
  {
   "cell_type": "markdown",
   "id": "9",
   "metadata": {},
   "source": [
    "##### Confirm Conda Environment"
   ]
  },
  {
   "attachments": {},
   "cell_type": "raw",
   "id": "10",
   "metadata": {},
   "source": [
    "<paste your conda test output here>\n"
   ]
  },
  {
   "cell_type": "markdown",
   "id": "11",
   "metadata": {},
   "source": [
    "#### Task 2: Create Project Directory Structure"
   ]
  },
  {
   "cell_type": "markdown",
   "id": "12",
   "metadata": {},
   "source": [
    "From your INSY 6500 folder (`~/insy6500`), use the terminal commands you have learned to construct the following folder structure:\n",
    "\n",
    "```text\n",
    "~/insy6500/\n",
    "├── homework/\n",
    "│   └── notebooks/\n",
    "├── scripts/\n",
    "├── projects/\n",
    "├── resources/\n",
    "└── data/\n",
    "    ├── raw/\n",
    "    └── processed/\n",
    "```\n",
    "\n",
    "You will need to use a combination of `cd`, `mkdir`, and `ls` to accomplish this. You may also need to use `del` and `rmdir` (remove directory) to remove folders and/or files created during the workshop. If you choose to use `rm -ri` or `rm -rI` for this task, as described in the workshop, *be very careful* as it can be quite destructive!\n",
    "\n",
    "Now try to visualize what you just created using different `ls` commands:\n",
    "\n",
    "```bash\n",
    "ls -la\n",
    "ls -R  # Recursive list - hard to read, right?\n",
    "```\n",
    "\n",
    "Notice how `ls` doesn't clearly show the hierarchical structure? This is one limitation of basic Unix tools."
   ]
  },
  {
   "cell_type": "markdown",
   "id": "13",
   "metadata": {},
   "source": [
    "### Part 2: Conda Beyond Python Packages (10 points)"
   ]
  },
  {
   "cell_type": "markdown",
   "id": "14",
   "metadata": {},
   "source": [
    "#### Task 1: Install System Tools via Conda"
   ]
  },
  {
   "cell_type": "markdown",
   "id": "15",
   "metadata": {},
   "source": [
    "Conda can install more than just Python packages! Let's get a better directory visualization tool. Run the following command in your terminal to install the `tree` utility. Do this with the `insy6500` environment activated.\n",
    "\n",
    "```bash\n",
    "conda install -c conda-forge tree\n",
    "```\n",
    "\n",
    "Note the `-c conda-forge` option, which tells conda to use a different package repository. `tree` is not on the default Anaconda repo, which is focused on data science essentials. [conda-forge](https://conda-forge.org/) is community maintained, with a broader selection of over 25k packages, including many command line tools like `tree`.\n",
    "\n",
    "Now verify the installation and use it:\n",
    "\n",
    "```bash\n",
    "which tree      # Should show path within your conda environment\n",
    "tree --version  # gives version number and copyright info\n",
    "tree            # much better visualization of your directory structure!\n",
    "```\n",
    "\n",
    "Notice how much clearer this is than `ls -R`? There are many tools like `tree` that can be installed with conda to improve your terminal experience. We will explore a few more later.\n",
    "\n",
    "First, let's build a Python program to help us copy output from commands like `tree`."
   ]
  },
  {
   "cell_type": "markdown",
   "id": "16",
   "metadata": {},
   "source": [
    "#### Task 2: Running Python from the Command Line"
   ]
  },
  {
   "cell_type": "markdown",
   "id": "17",
   "metadata": {},
   "source": [
    "So far, this class has focused on running Python in notebooks. But you can also run Python scripts from the command line. We'll start with a very simple example that shows how to write and run Python in this manner.\n",
    "\n",
    "Change to the `scripts` folder you created earlier, create the file `hello.py` and edit it using the `nano` text editor by executing the following commands in your terminal:\n",
    "\n",
    "```bash\n",
    "cd ~/insy6500/scripts\n",
    "touch hello.py\n",
    "nano hello.py\n",
    "```\n",
    "\n",
    "Copy-paste the following code into nano.\n",
    "\n",
    "```python\n",
    "print(\"Hello, World!\")\n",
    "```\n",
    "\n",
    "Then press `control-o` to save your changes, press enter to confirm overwriting `hello.py`, and press `control-x` to exit nano, returning you to the command line. There, run `cat hello.py` to see the contents of the file and verify the changes. Finally, run the program with the following command:\n",
    "\n",
    "```bash\n",
    "python hello.py\n",
    "```\n",
    "\n",
    "You just ran Python outside of Jupyter! This is how most production Python code runs.\n"
   ]
  },
  {
   "cell_type": "markdown",
   "id": "18",
   "metadata": {},
   "source": [
    "#### Task 3: Building Command-Line Tools with Python"
   ]
  },
  {
   "cell_type": "markdown",
   "id": "19",
   "metadata": {},
   "source": [
    "Let's take it up a notch. Python can create useful command-line utilities. We're going to create a tool that will capture output from any terminal command (like `ls` or `tree`) and put it in your clipboard. `pyperclip` is a cleverly named Python package that allows us to do just that on macOS and Windows systems.\n",
    "\n",
    "Let's see if it is available on the default repo:\n",
    "\n",
    "```bash\n",
    "conda search pyperclip\n",
    "```\n",
    "\n",
    "You will see that it is not found. The current channels (default repos) are listed, along with some information about how to find alternative sources, like conda-forge, which we'll check next:\n",
    "\n",
    "```bash\n",
    "conda search pyperclip -c conda-forge\n",
    "```\n",
    "\n",
    "You will find that they have several versions of the package. Install the latest version (the default choice) of `pyperclip` to the active environment using conda:\n",
    "\n",
    "```bash\n",
    "conda install -c conda-forge pyperclip\n",
    "```\n",
    "\n",
    "Now use `touch` and `nano` as before to create the file `clip.py` in your `scripts` folder and open it in the editor. Copy-paste the following code into it:\n",
    "\n",
    "```python\n",
    "\"\"\"Copy stdin to clipboard - a simple command-line utility.\"\"\"\n",
    "import sys\n",
    "import pyperclip\n",
    "\n",
    "# Read all input from stdin (standard input)\n",
    "input_text = sys.stdin.read()\n",
    "\n",
    "# Copy to clipboard\n",
    "pyperclip.copy(input_text)\n",
    "\n",
    "# Print an informative confirmation message\n",
    "print(f\"Copied {len(input_text)} characters to clipboard\")\n",
    "```\n",
    "\n",
    "Test your new tool by \"piping\" the output of `tree` to it:\n",
    "\n",
    "```bash\n",
    "# Copy directory structure to clipboard\n",
    "tree -d ~/insy6500 | python ~/insy6500/scripts/clip.py\n",
    "```\n",
    "\n",
    "Now paste the tree output into the following cell."
   ]
  },
  {
   "cell_type": "markdown",
   "id": "20",
   "metadata": {},
   "source": [
    "##### Project Directory Structure"
   ]
  },
  {
   "attachments": {},
   "cell_type": "raw",
   "id": "21",
   "metadata": {},
   "source": [
    "<paste the output of your tree command here>\n"
   ]
  },
  {
   "cell_type": "markdown",
   "id": "22",
   "metadata": {},
   "source": [
    "### Part 3: Better Help and Better Tools (10 points)"
   ]
  },
  {
   "cell_type": "markdown",
   "id": "23",
   "metadata": {},
   "source": [
    "#### Task 1: The Problem with Traditional Help"
   ]
  },
  {
   "cell_type": "markdown",
   "id": "24",
   "metadata": {},
   "source": [
    "Getting help with command-line tools can be overwhelming. Try the following:\n",
    "\n",
    "```bash\n",
    "conda --help  # Wall of text!\n",
    "tree --help   # So many options!\n",
    "```\n",
    "\n",
    "These help pages are comprehensive but not beginner-friendly. Let's install a better solution, `tldr` (Too Long; Didn't Read), which gives practical examples instead of exhaustive documentation for most command line tools. First use the `--info` option to show more detailed results from `conda search`, then use `tail` to only see the latest version:\n",
    "\n",
    "```bash\n",
    "conda search tldr -c conda-forge --info | tail -n 22\n",
    "```\n",
    "\n",
    "Of the additional details, the most interesting may be the list of dependencies at the end. Install the latest version with:\n",
    "\n",
    "```bash\n",
    "conda install -c conda-forge tldr\n",
    "```\n",
    "\n",
    "Now try `tldr` for the same tools and compare the results:\n",
    "\n",
    "```bash\n",
    "tldr conda  # Practical examples!\n",
    "tldr tree   # Just the useful stuff!\n",
    "```\n",
    "\n",
    "It is also quite useful for terminal essentials. Try these too:\n",
    "\n",
    "```bash\n",
    "tldr ls\n",
    "tldr cd\n",
    "```"
   ]
  },
  {
   "cell_type": "markdown",
   "id": "25",
   "metadata": {},
   "source": [
    "#### Task 2: Upgrading Basic Tools"
   ]
  },
  {
   "cell_type": "markdown",
   "id": "26",
   "metadata": {},
   "source": [
    "Let's compare basic and enhanced versions of common tools:\n",
    "\n",
    "```bash\n",
    "# First, look at your script with cat (the basic tool)\n",
    "cat ~/insy6500/scripts/clip.py\n",
    "```\n",
    "\n",
    "Now install and try `bat`, a modern replacement for `cat`:\n",
    "\n",
    "```bash\n",
    "conda install -c conda-forge bat\n",
    "bat ~/insy6500/scripts/clip.py\n",
    "```\n",
    "\n",
    "Notice the differences? Syntax highlighting (color coding), line numbers, and better formatting! Try:\n",
    "```bash\n",
    "tldr bat  # Learn what else bat can do\n",
    "bat --plain ~/insy6500/scripts/clip.py  # When you want simple output\n",
    "```"
   ]
  },
  {
   "cell_type": "markdown",
   "id": "27",
   "metadata": {},
   "source": [
    "#### Task 3: Putting It All Together"
   ]
  },
  {
   "cell_type": "markdown",
   "id": "28",
   "metadata": {},
   "source": [
    "Let's combine everything you've learned:\n",
    "\n",
    "First, export and view all the packages installed in the active conda environment:\n",
    "\n",
    "```bash\n",
    "cd ~/insy6500\n",
    "conda env export | bat\n",
    "```\n",
    "\n",
    "The result will be displayed by `bat` in a scrollable format. Control it with the following keys:\n",
    "\n",
    "- `j`/`k` or arrow keys to scroll up/down  \n",
    "- `Space` for next page\n",
    "- `q` to quit\n",
    "\n",
    "Notice how many packages are installed - likely 200+! This list includes all the dependencies needed for the packages you explicitly installed.\n",
    "\n",
    "Now export ONLY what you explicitly installed using the `--from-history` option. These commands will save the output to `env-6500.yml`, then view it using `bat` with line numbers and syntax highlighting.\n",
    "\n",
    "```bash\n",
    "conda env export --from-history > env-6500.yml\n",
    "bat env-6500.yml\n",
    "```\n",
    "\n",
    "Much shorter, right? This shows only the packages you actually typed `conda install` for. This should help you appreciate the role that third-party packages play in the Python ecosystem.\n",
    "\n",
    "Finally, copy your minimal environment:\n",
    "\n",
    "```bash\n",
    "bat env-6500.yml | python scripts/clip.py\n",
    "```\n",
    "\n",
    "And paste the result in the markdown cell below."
   ]
  },
  {
   "cell_type": "markdown",
   "id": "29",
   "metadata": {},
   "source": [
    "##### Conda Primary Dependencies"
   ]
  },
  {
   "attachments": {},
   "cell_type": "raw",
   "id": "30",
   "metadata": {},
   "source": [
    "<paste the output of your bat command here>\n"
   ]
  },
  {
   "cell_type": "markdown",
   "id": "31",
   "metadata": {},
   "source": [
    "### Environment Understanding Questions (10 points, Graduate Only)"
   ]
  },
  {
   "cell_type": "markdown",
   "id": "32",
   "metadata": {},
   "source": [
    "This question is for grad students only.\n",
    "\n",
    "In a markdown cell, answer:\n",
    "\n",
    "1. **Environment Isolation Test**: Deactivate your conda environment with `conda deactivate` and try running `tldr conda`. What happens? Now reactivate with `conda activate insy6500` and try again. What does this tell you about where these tools live and when they're accessible?\n",
    "\n",
    "2. **The Power of Piping**: We used commands like `tree | python scripts/clip.py` and `conda env export | bat`. What is the `|` doing here? Try running `tree > tree_output.txt` instead - how is `>` different from `|`? What kinds of workflows does this enable?\n",
    "\n",
    "3. **Tool Discovery**: Compare your experience getting help with `conda --help` versus `tldr conda`. Which would you rather use as a beginner? What does this suggest about the importance of finding the right tools for your skill level?\n",
    "\n",
    "4. **Beyond Python Packages**: We installed command-line tools (`tree`, `bat`, `tldr`) using conda, not just Python libraries. What advantage does this give you over installing these tools separately at the system level? Consider what happens when you work on multiple projects."
   ]
  },
  {
   "cell_type": "code",
   "execution_count": null,
   "id": "33",
   "metadata": {},
   "outputs": [],
   "source": []
  }
 ],
 "metadata": {
  "kernelspec": {
   "display_name": "INSY6500-Py4EDA",
   "language": "python",
   "name": "insy6500-py4eda"
  },
  "language_info": {
   "codemirror_mode": {
    "name": "ipython",
    "version": 3
   },
   "file_extension": ".py",
   "mimetype": "text/x-python",
   "name": "python",
   "nbconvert_exporter": "python",
   "pygments_lexer": "ipython3",
   "version": "3.13.5"
  }
 },
 "nbformat": 4,
 "nbformat_minor": 5
}
